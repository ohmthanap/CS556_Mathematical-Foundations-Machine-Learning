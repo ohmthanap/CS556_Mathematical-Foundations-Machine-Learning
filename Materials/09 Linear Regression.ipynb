{
 "cells": [
  {
   "cell_type": "code",
   "execution_count": 76,
   "metadata": {},
   "outputs": [],
   "source": [
    "import numpy as np\n",
    "import pandas as pd\n",
    "import matplotlib.pyplot as plt\n",
    "plt.style.use(['ggplot'])\n",
    "%matplotlib inline"
   ]
  },
  {
   "cell_type": "code",
   "execution_count": 77,
   "metadata": {},
   "outputs": [],
   "source": [
    "def extractfeatures(filename):\n",
    "    x=np.genfromtxt(filename,delimiter=',')\n",
    "    xfeatures=x[1:,1]\n",
    "    y=x[1:,2]\n",
    "    return xfeatures,y"
   ]
  },
  {
   "cell_type": "code",
   "execution_count": 78,
   "metadata": {},
   "outputs": [],
   "source": [
    "def normalizeFeatures(X):\n",
    "    mu=np.mean(X)\n",
    "    sigma=np.std(X)\n",
    "    X_norm=(X - mu)/sigma\n",
    "    return X_norm"
   ]
  },
  {
   "cell_type": "code",
   "execution_count": 79,
   "metadata": {},
   "outputs": [],
   "source": [
    "def computeCost(X,y,theta):\n",
    "    m=len(y)\n",
    "    #iterative solution\n",
    "    J=0\n",
    "    s=0\n",
    "    for i in range(0,m):\n",
    "        s=s+((theta[0]+theta[1]*X[i,1])-y[i])**2\n",
    "    J=s/(2*m)\n",
    "    \n",
    "    #vectorized solution\n",
    "    y=y.reshape(m,1)\n",
    "    J1=(np.dot((np.dot(X,theta)-y).T,(np.dot(X,theta)-y)))/(2*m)\n",
    "\n",
    "    return J"
   ]
  },
  {
   "cell_type": "code",
   "execution_count": 80,
   "metadata": {},
   "outputs": [],
   "source": [
    "def gradientDescent(X,y,theta,alpha,iterations):\n",
    "    J_history=np.zeros((iterations,1))\n",
    "\n",
    "    m=len(y)# number of training examples\n",
    "    y=y.reshape(m,1)\n",
    "    for iter in range(0,iterations):\n",
    "        s1=0\n",
    "        s0=0\n",
    "        for i in range(0,m):\n",
    "            s0+=((theta[0]+theta[1]*X[i,1])-y[i])\n",
    "            s1+=((theta[0]+theta[1]*X[i,1])-y[i])*X[i,1]\n",
    "        theta[0]=theta[0]-alpha*s0/m\n",
    "        theta[1]=theta[1]-alpha*s1/m\n",
    "        J_history[iter]=computeCost(X,y,theta)\n",
    "    return theta,J_history"
   ]
  },
  {
   "cell_type": "code",
   "execution_count": 81,
   "metadata": {},
   "outputs": [],
   "source": [
    "def predict(theta,X):\n",
    "    return theta[0]+theta[1]*X"
   ]
  },
  {
   "cell_type": "code",
   "execution_count": 82,
   "metadata": {},
   "outputs": [],
   "source": [
    "def sumSquaresError(y, y_pred):\n",
    "    return round(((y - y_pred)**2).sum()/len(y),3)"
   ]
  },
  {
   "cell_type": "code",
   "execution_count": 93,
   "metadata": {},
   "outputs": [
    {
     "name": "stdout",
     "output_type": "stream",
     "text": [
      "Loaded 799 training examples\n"
     ]
    }
   ],
   "source": [
    "#Load the data\n",
    "X,y=extractfeatures('training.csv')#loading data from training dataset\n",
    "m=len(y) # number of training examples\n",
    "print(\"Loaded\",str(m), \"training examples\")"
   ]
  },
  {
   "cell_type": "code",
   "execution_count": 94,
   "metadata": {},
   "outputs": [
    {
     "name": "stdout",
     "output_type": "stream",
     "text": [
      "Data Normalization ended\n"
     ]
    }
   ],
   "source": [
    "#Normalize the data\n",
    "norm_X=normalizeFeatures(X)\n",
    "print(\"Data Normalization ended\")"
   ]
  },
  {
   "cell_type": "code",
   "execution_count": 95,
   "metadata": {},
   "outputs": [
    {
     "data": {
      "text/plain": [
       "Text(0, 0.5, '$y$')"
      ]
     },
     "execution_count": 95,
     "metadata": {},
     "output_type": "execute_result"
    },
    {
     "data": {
      "image/png": "[encoded data removed]",
      "text/plain": [
       "<Figure size 432x288 with 1 Axes>"
      ]
     },
     "metadata": {
      "needs_background": "light"
     },
     "output_type": "display_data"
    }
   ],
   "source": [
    "\"\"\"\n",
    "Let's plot our data to check the relation between X and Y\n",
    "\"\"\"\n",
    "plt.figure(1)\n",
    "plt.plot(X,y,'b.')\n",
    "plt.xlabel(\"$x$\", fontsize=18)\n",
    "plt.ylabel(\"$y$\", rotation=0, fontsize=18)"
   ]
  },
  {
   "cell_type": "code",
   "execution_count": 96,
   "metadata": {},
   "outputs": [
    {
     "name": "stdout",
     "output_type": "stream",
     "text": [
      "Theta (analytical): [ 3.214 , 0.223 ]^t\n"
     ]
    }
   ],
   "source": [
    "##Analytical Solution\n",
    "A = np.c_[np.ones((norm_X.size,1)),norm_X]\n",
    "theta = np.linalg.inv(A.T.dot(A)).dot(A.T).dot(y)\n",
    "print('Theta (analytical): [ {:0.3f} , {:0.3f} ]^t'.format(theta[0],theta[1]))"
   ]
  },
  {
   "cell_type": "code",
   "execution_count": 97,
   "metadata": {},
   "outputs": [
    {
     "data": {
      "text/plain": [
       "Text(0, 0.5, '$y$')"
      ]
     },
     "execution_count": 97,
     "metadata": {},
     "output_type": "execute_result"
    },
    {
     "data": {
      "image/png": "[encoded data removed]",
      "text/plain": [
       "<Figure size 432x288 with 1 Axes>"
      ]
     },
     "metadata": {
      "needs_background": "light"
     },
     "output_type": "display_data"
    }
   ],
   "source": [
    "\"\"\" Let's plot the prediction line with the calculated theta\"\"\"\n",
    "\n",
    "X_ln = np.array([min(norm_X),max(norm_X)]) #Plot a line between min x and max x\n",
    "A_ln = np.c_[np.ones((2,1)),X_ln]\n",
    "y_ln = A_ln.dot(theta)\n",
    "\n",
    "plt.figure(1)\n",
    "plt.plot(X_ln,y_ln,'r-')\n",
    "plt.plot(norm_X,y,'b.')\n",
    "plt.xlabel(\"$x$\", fontsize=18)\n",
    "plt.ylabel(\"$y$\", rotation=0, fontsize=18)\n",
    "# plt.axis([0,2,0,15])"
   ]
  },
  {
   "cell_type": "code",
   "execution_count": 88,
   "metadata": {},
   "outputs": [
    {
     "name": "stdout",
     "output_type": "stream",
     "text": [
      "The SSE in the training set for alpha =   0.05 is  0.245\n"
     ]
    }
   ],
   "source": [
    "##Train the linear model \n",
    "input_X=np.c_[np.ones((m,1)),norm_X]#Add a column of ones to X\n",
    "theta=np.ones((2,1))#initialize fitting parameters\n",
    "\n",
    "iterations=100\n",
    "alpha = 0.05\n",
    "\n",
    "theta1,J_history=gradientDescent(input_X,y,theta,alpha,iterations)#gets the final data and the values of cost function in each iteration\n",
    "\n",
    "#Training set error\n",
    "print(\"The SSE in the training set for alpha =  \",alpha, \"is \", sumSquaresError(y, predict(theta1, norm_X)))"
   ]
  },
  {
   "cell_type": "code",
   "execution_count": 89,
   "metadata": {},
   "outputs": [
    {
     "data": {
      "text/plain": [
       "array([[3.20104834],\n",
       "       [0.22779511]])"
      ]
     },
     "execution_count": 89,
     "metadata": {},
     "output_type": "execute_result"
    }
   ],
   "source": [
    "theta1"
   ]
  },
  {
   "cell_type": "code",
   "execution_count": 90,
   "metadata": {},
   "outputs": [
    {
     "data": {
      "text/plain": [
       "Text(0, 0.5, '$y$')"
      ]
     },
     "execution_count": 90,
     "metadata": {},
     "output_type": "execute_result"
    },
    {
     "data": {
      "image/png": "[encoded data removed]",
      "text/plain": [
       "<Figure size 432x288 with 1 Axes>"
      ]
     },
     "metadata": {
      "needs_background": "light"
     },
     "output_type": "display_data"
    }
   ],
   "source": [
    "\"\"\" Let's plot the prediction line with the calculated theta\"\"\"\n",
    "\n",
    "X_ln = np.array([min(norm_X),max(norm_X)]) #Plot a line between min x and max x\n",
    "A_ln = np.c_[np.ones((2,1)),X_ln]\n",
    "y_ln = A_ln.dot(theta1)\n",
    "\n",
    "plt.figure(1)\n",
    "plt.plot(X_ln,y_ln,'r-')\n",
    "plt.plot(norm_X,y,'b.')\n",
    "plt.xlabel(\"$x$\", fontsize=18)\n",
    "plt.ylabel(\"$y$\", rotation=0, fontsize=18)\n",
    "# plt.axis([0,2,0,15])"
   ]
  },
  {
   "cell_type": "code",
   "execution_count": 91,
   "metadata": {},
   "outputs": [],
   "source": [
    "#Prediction of GPA for test dataset\n",
    "test=np.genfromtxt('testfile.csv',delimiter=',')\n",
    "IDs=test[1:,0]\n",
    "Xtest=normalizeFeatures(test[1:,1])\n",
    "Ytest=predict(theta1,Xtest)"
   ]
  },
  {
   "cell_type": "code",
   "execution_count": 92,
   "metadata": {},
   "outputs": [],
   "source": [
    "# Preparing the output file\n",
    "output=open(\"output.csv\",'w')\n",
    "output.write(\"ID,GPA\\n\")\n",
    "for i in range(0,len(Ytest)):\n",
    "    output.write(str(int(IDs[i]))+\",\"+str(Ytest[i])+\"\\n\")\n",
    "output.close()"
   ]
  },
  {
   "cell_type": "code",
   "execution_count": null,
   "metadata": {},
   "outputs": [],
   "source": []
  }
 ],
 "metadata": {
  "kernelspec": {
   "display_name": "Python 3",
   "language": "python",
   "name": "python3"
  },
  "language_info": {
   "codemirror_mode": {
    "name": "ipython",
    "version": 3
   },
   "file_extension": ".py",
   "mimetype": "text/x-python",
   "name": "python",
   "nbconvert_exporter": "python",
   "pygments_lexer": "ipython3",
   "version": "3.8.3"
  }
 },
 "nbformat": 4,
 "nbformat_minor": 4
}

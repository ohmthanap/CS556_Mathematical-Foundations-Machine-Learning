{
 "cells": [
  {
   "cell_type": "markdown",
   "metadata": {
    "id": "yXz1LHK2LufR"
   },
   "source": [
    "<H1> Intro to Pandas"
   ]
  },
  {
   "cell_type": "markdown",
   "metadata": {
    "id": "FlnOvPaQLzzA"
   },
   "source": [
    "Pandas is a Python package providing fast, flexible, and expressive data structures designed to make working with\n",
    "“relational” or “labeled” data both easy and intuitive. It aims to be the fundamental high-level building block for doing\n",
    "practical, real world data analysis in Python. Additionally, it has the broader goal of becoming the most powerful and\n",
    "flexible open source data analysis / manipulation tool available in any language. It is already well on its way toward this\n",
    "goal.\n",
    "This is a short introduction to pandas, geared mainly for new users. You can see more complex recipes in the\n",
    "[Cookbook](https://pandas.pydata.org/pandas-docs/stable/user_guide/10min.html).\n"
   ]
  },
  {
   "cell_type": "markdown",
   "metadata": {
    "id": "hrIIDLibMr2G"
   },
   "source": [
    "<H3>0. Setup "
   ]
  },
  {
   "cell_type": "markdown",
   "metadata": {
    "id": "iYQ8Uf-rMyKB"
   },
   "source": [
    "Import the libraries.\n",
    "\n"
   ]
  },
  {
   "cell_type": "code",
   "execution_count": 12,
   "metadata": {
    "id": "cf2u7c2LLx-Z"
   },
   "outputs": [],
   "source": [
    "import pandas as pd\n",
    "import numpy as np\n",
    "import matplotlib.pyplot as plt\n",
    "%matplotlib inline"
   ]
  },
  {
   "cell_type": "markdown",
   "metadata": {
    "id": "ffx35n2MNMvn"
   },
   "source": [
    "You're ready to use Pandas!"
   ]
  },
  {
   "cell_type": "markdown",
   "metadata": {
    "id": "LJ8ScMjcNQlq"
   },
   "source": [
    "<H3> 1. Basics: \"Series\" and \"DataFrame\""
   ]
  },
  {
   "cell_type": "markdown",
   "metadata": {
    "id": "L5B5lUNQNXMM"
   },
   "source": [
    "(Find more in the Data Structure Intro section)\n",
    "\n",
    "The two primary data structures of pandas, Series (1-dimensional) and DataFrame (2-dimensional), handle the vast\n",
    "majority of typical use cases in finance, statistics, social science, and many areas of engineering. For R users,\n",
    "DataFrame provides everything that R’s data.frame provides and much more. Pandas is built on top of NumPy and is\n",
    "intended to integrate well within a scientific computing environment with many other 3rd party libraries."
   ]
  },
  {
   "cell_type": "markdown",
   "metadata": {
    "id": "Mdds0nFFN_ym"
   },
   "source": [
    "<H2> Series </H2>\n",
    "Series is a one-dimensional labeled array capable of holding any data type (integers, strings, floating point numbers,\n",
    "Python objects, etc.). The axis labels are collectively referred to as the index. The basic method to create a Series is\n",
    "to call:\n"
   ]
  },
  {
   "cell_type": "markdown",
   "metadata": {
    "id": "p_NTGXQPOhFR"
   },
   "source": [
    "s = Series(data, index=index)"
   ]
  },
  {
   "cell_type": "markdown",
   "metadata": {
    "id": "4USrScV9OkPi"
   },
   "source": [
    "Creating a Series by passing a list of values, letting pandas create a default integer index"
   ]
  },
  {
   "cell_type": "code",
   "execution_count": 11,
   "metadata": {
    "id": "1j9vRM-cM0Rt"
   },
   "outputs": [],
   "source": [
    "s = pd.Series([1,3,5,np.nan,6,8])"
   ]
  },
  {
   "cell_type": "code",
   "execution_count": 12,
   "metadata": {},
   "outputs": [
    {
     "data": {
      "text/plain": [
       "0    1.0\n",
       "1    3.0\n",
       "2    5.0\n",
       "3    NaN\n",
       "4    6.0\n",
       "5    8.0\n",
       "dtype: float64"
      ]
     },
     "execution_count": 12,
     "metadata": {},
     "output_type": "execute_result"
    }
   ],
   "source": [
    "s"
   ]
  },
  {
   "cell_type": "code",
   "execution_count": 13,
   "metadata": {},
   "outputs": [
    {
     "data": {
      "text/plain": [
       "3.0"
      ]
     },
     "execution_count": 13,
     "metadata": {},
     "output_type": "execute_result"
    }
   ],
   "source": [
    "s[1]"
   ]
  },
  {
   "cell_type": "code",
   "execution_count": 160,
   "metadata": {
    "colab": {
     "base_uri": "https://localhost:8080/"
    },
    "id": "3UC0gixMOmuT",
    "outputId": "e9fc5ba4-6013-4536-d8e0-f232497e5972"
   },
   "outputs": [],
   "source": [
    "s = pd.Series([1,3,5,np.nan,6,8], index = [\"id_\"+str(i) for i in range(6)])"
   ]
  },
  {
   "cell_type": "code",
   "execution_count": 161,
   "metadata": {},
   "outputs": [
    {
     "data": {
      "text/plain": [
       "id_0    1.0\n",
       "id_1    3.0\n",
       "id_2    5.0\n",
       "id_3    NaN\n",
       "id_4    6.0\n",
       "id_5    8.0\n",
       "dtype: float64"
      ]
     },
     "execution_count": 161,
     "metadata": {},
     "output_type": "execute_result"
    }
   ],
   "source": [
    "s"
   ]
  },
  {
   "cell_type": "code",
   "execution_count": 162,
   "metadata": {},
   "outputs": [
    {
     "data": {
      "text/plain": [
       "6.0"
      ]
     },
     "execution_count": 162,
     "metadata": {},
     "output_type": "execute_result"
    }
   ],
   "source": [
    "s[\"id_4\"]"
   ]
  },
  {
   "cell_type": "markdown",
   "metadata": {
    "id": "SjUaG5yNOu_p"
   },
   "source": [
    "<H2> DataFrame </H2>\n",
    "DataFrame is a 2-dimensional labeled data structure with columns of potentially different types. You can think of it like\n",
    "an Excel spreadsheet or SQL table, or a Python dict (dictionary) of Series objects. It is generally the most commonly\n",
    "used pandas object. Like Series, DataFrame accepts many different kinds of input:\n",
    "\n",
    "*   Dict of 1D ndarrays, lists, dicts, or Series\n",
    "*   2-D numpy.ndarray\n",
    "*   Structured or record ndarray\n",
    "*   A Series\n",
    "*   Another DataFrame\n",
    "\n",
    "Along with the data, you can optionally pass index (row labels) and columns (column labels) arguments. If you pass\n",
    "an index and / or columns, you are guaranteeing the index and / or columns of the resulting DataFrame. Thus, a dict\n",
    "of Series plus a specific index will discard all data not matching up to the passed index.\n",
    "\n",
    "If axis labels are not passed, they will be constructed from the input data based on common sense rules.\n",
    "\n",
    "Creating a DataFrame by passing a numpy array, with a datetime index and labeled columns:"
   ]
  },
  {
   "cell_type": "code",
   "execution_count": 18,
   "metadata": {
    "id": "vcISVNJBOqF_"
   },
   "outputs": [],
   "source": [
    "dates = pd.date_range('20220101', periods=6)"
   ]
  },
  {
   "cell_type": "code",
   "execution_count": 19,
   "metadata": {
    "colab": {
     "base_uri": "https://localhost:8080/"
    },
    "id": "Ksa_wQjoPoTO",
    "outputId": "255af8f6-2ec2-42e8-b23f-8ea77711475f"
   },
   "outputs": [
    {
     "data": {
      "text/plain": [
       "DatetimeIndex(['2022-01-01', '2022-01-02', '2022-01-03', '2022-01-04',\n",
       "               '2022-01-05', '2022-01-06'],\n",
       "              dtype='datetime64[ns]', freq='D')"
      ]
     },
     "execution_count": 19,
     "metadata": {},
     "output_type": "execute_result"
    }
   ],
   "source": [
    "dates"
   ]
  },
  {
   "cell_type": "code",
   "execution_count": 20,
   "metadata": {
    "id": "VZJpiow7Po7D"
   },
   "outputs": [],
   "source": [
    "df = pd.DataFrame(np.random.randn(6,4), index=dates, columns=list('ABCD'))"
   ]
  },
  {
   "cell_type": "code",
   "execution_count": 21,
   "metadata": {
    "colab": {
     "base_uri": "https://localhost:8080/",
     "height": 238
    },
    "id": "iI7TjU5jPr6o",
    "outputId": "07ed42e1-056d-45f6-bcc0-fc30975b0893"
   },
   "outputs": [
    {
     "data": {
      "text/html": [
       "<div>\n",
       "<style scoped>\n",
       "    .dataframe tbody tr th:only-of-type {\n",
       "        vertical-align: middle;\n",
       "    }\n",
       "\n",
       "    .dataframe tbody tr th {\n",
       "        vertical-align: top;\n",
       "    }\n",
       "\n",
       "    .dataframe thead th {\n",
       "        text-align: right;\n",
       "    }\n",
       "</style>\n",
       "<table border=\"1\" class=\"dataframe\">\n",
       "  <thead>\n",
       "    <tr style=\"text-align: right;\">\n",
       "      <th></th>\n",
       "      <th>A</th>\n",
       "      <th>B</th>\n",
       "      <th>C</th>\n",
       "      <th>D</th>\n",
       "    </tr>\n",
       "  </thead>\n",
       "  <tbody>\n",
       "    <tr>\n",
       "      <th>2022-01-01</th>\n",
       "      <td>-0.180612</td>\n",
       "      <td>0.067442</td>\n",
       "      <td>-0.199881</td>\n",
       "      <td>0.551448</td>\n",
       "    </tr>\n",
       "    <tr>\n",
       "      <th>2022-01-02</th>\n",
       "      <td>0.489572</td>\n",
       "      <td>0.181907</td>\n",
       "      <td>-0.768802</td>\n",
       "      <td>-1.265072</td>\n",
       "    </tr>\n",
       "    <tr>\n",
       "      <th>2022-01-03</th>\n",
       "      <td>0.579275</td>\n",
       "      <td>-1.858492</td>\n",
       "      <td>-1.089657</td>\n",
       "      <td>-1.321050</td>\n",
       "    </tr>\n",
       "    <tr>\n",
       "      <th>2022-01-04</th>\n",
       "      <td>0.819437</td>\n",
       "      <td>0.260454</td>\n",
       "      <td>-1.179605</td>\n",
       "      <td>0.303240</td>\n",
       "    </tr>\n",
       "    <tr>\n",
       "      <th>2022-01-05</th>\n",
       "      <td>0.595260</td>\n",
       "      <td>-0.134783</td>\n",
       "      <td>-1.219406</td>\n",
       "      <td>0.981173</td>\n",
       "    </tr>\n",
       "    <tr>\n",
       "      <th>2022-01-06</th>\n",
       "      <td>-0.271590</td>\n",
       "      <td>-0.080111</td>\n",
       "      <td>1.232864</td>\n",
       "      <td>-1.514883</td>\n",
       "    </tr>\n",
       "  </tbody>\n",
       "</table>\n",
       "</div>"
      ],
      "text/plain": [
       "                   A         B         C         D\n",
       "2022-01-01 -0.180612  0.067442 -0.199881  0.551448\n",
       "2022-01-02  0.489572  0.181907 -0.768802 -1.265072\n",
       "2022-01-03  0.579275 -1.858492 -1.089657 -1.321050\n",
       "2022-01-04  0.819437  0.260454 -1.179605  0.303240\n",
       "2022-01-05  0.595260 -0.134783 -1.219406  0.981173\n",
       "2022-01-06 -0.271590 -0.080111  1.232864 -1.514883"
      ]
     },
     "execution_count": 21,
     "metadata": {},
     "output_type": "execute_result"
    }
   ],
   "source": [
    "df"
   ]
  },
  {
   "cell_type": "markdown",
   "metadata": {
    "id": "uFYIj_QjPwDQ"
   },
   "source": [
    "Creating a DataFrame by passing a dictionary of objects that can be converted to series-like."
   ]
  },
  {
   "cell_type": "code",
   "execution_count": 24,
   "metadata": {
    "id": "LjfgwXc9Pt2J"
   },
   "outputs": [],
   "source": [
    "df2 = pd.DataFrame({ 'A' : 1.,\n",
    "                     'B' : pd.Timestamp('20130102'),\n",
    "                     'C' : pd.Series(1,index=list(range(4)),dtype='float32'),\n",
    "                     'D' : np.array([3] * 4,dtype='int32'),\n",
    "                     'E' : pd.Categorical([\"test\",\"train\",\"test\",\"train\"]),\n",
    "                     'F' : 'foo' })"
   ]
  },
  {
   "cell_type": "code",
   "execution_count": 25,
   "metadata": {
    "colab": {
     "base_uri": "https://localhost:8080/",
     "height": 174
    },
    "id": "A5D75GZ9P9BF",
    "outputId": "0291be7a-476b-4891-bd92-5fc4abdee2fc"
   },
   "outputs": [
    {
     "data": {
      "text/html": [
       "<div>\n",
       "<style scoped>\n",
       "    .dataframe tbody tr th:only-of-type {\n",
       "        vertical-align: middle;\n",
       "    }\n",
       "\n",
       "    .dataframe tbody tr th {\n",
       "        vertical-align: top;\n",
       "    }\n",
       "\n",
       "    .dataframe thead th {\n",
       "        text-align: right;\n",
       "    }\n",
       "</style>\n",
       "<table border=\"1\" class=\"dataframe\">\n",
       "  <thead>\n",
       "    <tr style=\"text-align: right;\">\n",
       "      <th></th>\n",
       "      <th>A</th>\n",
       "      <th>B</th>\n",
       "      <th>C</th>\n",
       "      <th>D</th>\n",
       "      <th>E</th>\n",
       "      <th>F</th>\n",
       "    </tr>\n",
       "  </thead>\n",
       "  <tbody>\n",
       "    <tr>\n",
       "      <th>0</th>\n",
       "      <td>1.0</td>\n",
       "      <td>2013-01-02</td>\n",
       "      <td>1.0</td>\n",
       "      <td>3</td>\n",
       "      <td>test</td>\n",
       "      <td>foo</td>\n",
       "    </tr>\n",
       "    <tr>\n",
       "      <th>1</th>\n",
       "      <td>1.0</td>\n",
       "      <td>2013-01-02</td>\n",
       "      <td>1.0</td>\n",
       "      <td>3</td>\n",
       "      <td>train</td>\n",
       "      <td>foo</td>\n",
       "    </tr>\n",
       "    <tr>\n",
       "      <th>2</th>\n",
       "      <td>1.0</td>\n",
       "      <td>2013-01-02</td>\n",
       "      <td>1.0</td>\n",
       "      <td>3</td>\n",
       "      <td>test</td>\n",
       "      <td>foo</td>\n",
       "    </tr>\n",
       "    <tr>\n",
       "      <th>3</th>\n",
       "      <td>1.0</td>\n",
       "      <td>2013-01-02</td>\n",
       "      <td>1.0</td>\n",
       "      <td>3</td>\n",
       "      <td>train</td>\n",
       "      <td>foo</td>\n",
       "    </tr>\n",
       "  </tbody>\n",
       "</table>\n",
       "</div>"
      ],
      "text/plain": [
       "     A          B    C  D      E    F\n",
       "0  1.0 2013-01-02  1.0  3   test  foo\n",
       "1  1.0 2013-01-02  1.0  3  train  foo\n",
       "2  1.0 2013-01-02  1.0  3   test  foo\n",
       "3  1.0 2013-01-02  1.0  3  train  foo"
      ]
     },
     "execution_count": 25,
     "metadata": {},
     "output_type": "execute_result"
    }
   ],
   "source": [
    "df2"
   ]
  },
  {
   "cell_type": "markdown",
   "metadata": {
    "id": "_mfuW20yQD5o"
   },
   "source": [
    "Having specific dtypes"
   ]
  },
  {
   "cell_type": "code",
   "execution_count": 26,
   "metadata": {
    "colab": {
     "base_uri": "https://localhost:8080/"
    },
    "id": "nkUY0EgBP-vO",
    "outputId": "704f093a-7417-4c4d-bef7-d62393e868dd"
   },
   "outputs": [
    {
     "data": {
      "text/plain": [
       "A           float64\n",
       "B    datetime64[ns]\n",
       "C           float32\n",
       "D             int32\n",
       "E          category\n",
       "F            object\n",
       "dtype: object"
      ]
     },
     "execution_count": 26,
     "metadata": {},
     "output_type": "execute_result"
    }
   ],
   "source": [
    "df2.dtypes"
   ]
  },
  {
   "cell_type": "markdown",
   "metadata": {
    "id": "hvrpTlcdQG_e"
   },
   "source": [
    "<H3>2. Viewing Data"
   ]
  },
  {
   "cell_type": "markdown",
   "metadata": {
    "id": "deXWiyGBQKXV"
   },
   "source": [
    "(Find more in the Basics section)\n",
    "\n",
    "See the top & bottom rows of the frame"
   ]
  },
  {
   "cell_type": "code",
   "execution_count": 27,
   "metadata": {
    "colab": {
     "base_uri": "https://localhost:8080/",
     "height": 206
    },
    "id": "QzQEaaYrQFs_",
    "outputId": "25221d24-05e4-4d2b-9b70-9c11024934a9"
   },
   "outputs": [
    {
     "data": {
      "text/html": [
       "<div>\n",
       "<style scoped>\n",
       "    .dataframe tbody tr th:only-of-type {\n",
       "        vertical-align: middle;\n",
       "    }\n",
       "\n",
       "    .dataframe tbody tr th {\n",
       "        vertical-align: top;\n",
       "    }\n",
       "\n",
       "    .dataframe thead th {\n",
       "        text-align: right;\n",
       "    }\n",
       "</style>\n",
       "<table border=\"1\" class=\"dataframe\">\n",
       "  <thead>\n",
       "    <tr style=\"text-align: right;\">\n",
       "      <th></th>\n",
       "      <th>A</th>\n",
       "      <th>B</th>\n",
       "      <th>C</th>\n",
       "      <th>D</th>\n",
       "    </tr>\n",
       "  </thead>\n",
       "  <tbody>\n",
       "    <tr>\n",
       "      <th>2022-01-01</th>\n",
       "      <td>-0.180612</td>\n",
       "      <td>0.067442</td>\n",
       "      <td>-0.199881</td>\n",
       "      <td>0.551448</td>\n",
       "    </tr>\n",
       "    <tr>\n",
       "      <th>2022-01-02</th>\n",
       "      <td>0.489572</td>\n",
       "      <td>0.181907</td>\n",
       "      <td>-0.768802</td>\n",
       "      <td>-1.265072</td>\n",
       "    </tr>\n",
       "    <tr>\n",
       "      <th>2022-01-03</th>\n",
       "      <td>0.579275</td>\n",
       "      <td>-1.858492</td>\n",
       "      <td>-1.089657</td>\n",
       "      <td>-1.321050</td>\n",
       "    </tr>\n",
       "    <tr>\n",
       "      <th>2022-01-04</th>\n",
       "      <td>0.819437</td>\n",
       "      <td>0.260454</td>\n",
       "      <td>-1.179605</td>\n",
       "      <td>0.303240</td>\n",
       "    </tr>\n",
       "    <tr>\n",
       "      <th>2022-01-05</th>\n",
       "      <td>0.595260</td>\n",
       "      <td>-0.134783</td>\n",
       "      <td>-1.219406</td>\n",
       "      <td>0.981173</td>\n",
       "    </tr>\n",
       "  </tbody>\n",
       "</table>\n",
       "</div>"
      ],
      "text/plain": [
       "                   A         B         C         D\n",
       "2022-01-01 -0.180612  0.067442 -0.199881  0.551448\n",
       "2022-01-02  0.489572  0.181907 -0.768802 -1.265072\n",
       "2022-01-03  0.579275 -1.858492 -1.089657 -1.321050\n",
       "2022-01-04  0.819437  0.260454 -1.179605  0.303240\n",
       "2022-01-05  0.595260 -0.134783 -1.219406  0.981173"
      ]
     },
     "execution_count": 27,
     "metadata": {},
     "output_type": "execute_result"
    }
   ],
   "source": [
    "df.head()"
   ]
  },
  {
   "cell_type": "code",
   "execution_count": 28,
   "metadata": {
    "colab": {
     "base_uri": "https://localhost:8080/",
     "height": 143
    },
    "id": "PjMtSVcsQPr_",
    "outputId": "5f97caee-0d46-4624-fdef-a956991457f9"
   },
   "outputs": [
    {
     "data": {
      "text/html": [
       "<div>\n",
       "<style scoped>\n",
       "    .dataframe tbody tr th:only-of-type {\n",
       "        vertical-align: middle;\n",
       "    }\n",
       "\n",
       "    .dataframe tbody tr th {\n",
       "        vertical-align: top;\n",
       "    }\n",
       "\n",
       "    .dataframe thead th {\n",
       "        text-align: right;\n",
       "    }\n",
       "</style>\n",
       "<table border=\"1\" class=\"dataframe\">\n",
       "  <thead>\n",
       "    <tr style=\"text-align: right;\">\n",
       "      <th></th>\n",
       "      <th>A</th>\n",
       "      <th>B</th>\n",
       "      <th>C</th>\n",
       "      <th>D</th>\n",
       "    </tr>\n",
       "  </thead>\n",
       "  <tbody>\n",
       "    <tr>\n",
       "      <th>2022-01-04</th>\n",
       "      <td>0.819437</td>\n",
       "      <td>0.260454</td>\n",
       "      <td>-1.179605</td>\n",
       "      <td>0.303240</td>\n",
       "    </tr>\n",
       "    <tr>\n",
       "      <th>2022-01-05</th>\n",
       "      <td>0.595260</td>\n",
       "      <td>-0.134783</td>\n",
       "      <td>-1.219406</td>\n",
       "      <td>0.981173</td>\n",
       "    </tr>\n",
       "    <tr>\n",
       "      <th>2022-01-06</th>\n",
       "      <td>-0.271590</td>\n",
       "      <td>-0.080111</td>\n",
       "      <td>1.232864</td>\n",
       "      <td>-1.514883</td>\n",
       "    </tr>\n",
       "  </tbody>\n",
       "</table>\n",
       "</div>"
      ],
      "text/plain": [
       "                   A         B         C         D\n",
       "2022-01-04  0.819437  0.260454 -1.179605  0.303240\n",
       "2022-01-05  0.595260 -0.134783 -1.219406  0.981173\n",
       "2022-01-06 -0.271590 -0.080111  1.232864 -1.514883"
      ]
     },
     "execution_count": 28,
     "metadata": {},
     "output_type": "execute_result"
    }
   ],
   "source": [
    "df.tail(3)"
   ]
  },
  {
   "cell_type": "markdown",
   "metadata": {
    "id": "M8R4yizPQV9M"
   },
   "source": [
    "Display the index, columns, and the underlying numpy data"
   ]
  },
  {
   "cell_type": "code",
   "execution_count": 29,
   "metadata": {
    "colab": {
     "base_uri": "https://localhost:8080/"
    },
    "id": "G3IQQt3QQQ_N",
    "outputId": "cf96b2da-1c2b-44fb-e397-64a5d9d5e718"
   },
   "outputs": [
    {
     "data": {
      "text/plain": [
       "DatetimeIndex(['2022-01-01', '2022-01-02', '2022-01-03', '2022-01-04',\n",
       "               '2022-01-05', '2022-01-06'],\n",
       "              dtype='datetime64[ns]', freq='D')"
      ]
     },
     "execution_count": 29,
     "metadata": {},
     "output_type": "execute_result"
    }
   ],
   "source": [
    "df.index"
   ]
  },
  {
   "cell_type": "code",
   "execution_count": 30,
   "metadata": {
    "colab": {
     "base_uri": "https://localhost:8080/"
    },
    "id": "j0zt1AcsQaY5",
    "outputId": "2ca8e6ff-eeb4-499f-db57-5f42f7e71d88"
   },
   "outputs": [
    {
     "data": {
      "text/plain": [
       "Index(['A', 'B', 'C', 'D'], dtype='object')"
      ]
     },
     "execution_count": 30,
     "metadata": {},
     "output_type": "execute_result"
    }
   ],
   "source": [
    "df.columns"
   ]
  },
  {
   "cell_type": "code",
   "execution_count": 31,
   "metadata": {
    "colab": {
     "base_uri": "https://localhost:8080/"
    },
    "id": "1wOTz_FoQec7",
    "outputId": "8dc40be7-8b3f-4df3-dc5b-0bb4b1332a6a"
   },
   "outputs": [
    {
     "data": {
      "text/plain": [
       "array([[-0.18061183,  0.0674424 , -0.19988112,  0.55144796],\n",
       "       [ 0.48957181,  0.18190739, -0.7688016 , -1.26507244],\n",
       "       [ 0.57927501, -1.85849207, -1.08965669, -1.32104961],\n",
       "       [ 0.81943664,  0.26045382, -1.17960465,  0.30324018],\n",
       "       [ 0.59525959, -0.13478274, -1.2194064 ,  0.98117331],\n",
       "       [-0.27159037, -0.0801115 ,  1.23286411, -1.51488321]])"
      ]
     },
     "execution_count": 31,
     "metadata": {},
     "output_type": "execute_result"
    }
   ],
   "source": [
    "df.values"
   ]
  },
  {
   "cell_type": "markdown",
   "metadata": {
    "id": "UCM79WlHQjfO"
   },
   "source": [
    "Describe shows a quick statistic summary of your data"
   ]
  },
  {
   "cell_type": "code",
   "execution_count": 32,
   "metadata": {
    "colab": {
     "base_uri": "https://localhost:8080/",
     "height": 300
    },
    "id": "3Zkq_1P1QhBQ",
    "outputId": "b231ca23-9e54-4605-a072-07381d2f088c"
   },
   "outputs": [
    {
     "data": {
      "text/html": [
       "<div>\n",
       "<style scoped>\n",
       "    .dataframe tbody tr th:only-of-type {\n",
       "        vertical-align: middle;\n",
       "    }\n",
       "\n",
       "    .dataframe tbody tr th {\n",
       "        vertical-align: top;\n",
       "    }\n",
       "\n",
       "    .dataframe thead th {\n",
       "        text-align: right;\n",
       "    }\n",
       "</style>\n",
       "<table border=\"1\" class=\"dataframe\">\n",
       "  <thead>\n",
       "    <tr style=\"text-align: right;\">\n",
       "      <th></th>\n",
       "      <th>A</th>\n",
       "      <th>B</th>\n",
       "      <th>C</th>\n",
       "      <th>D</th>\n",
       "    </tr>\n",
       "  </thead>\n",
       "  <tbody>\n",
       "    <tr>\n",
       "      <th>count</th>\n",
       "      <td>6.000000</td>\n",
       "      <td>6.000000</td>\n",
       "      <td>6.000000</td>\n",
       "      <td>6.000000</td>\n",
       "    </tr>\n",
       "    <tr>\n",
       "      <th>mean</th>\n",
       "      <td>0.338557</td>\n",
       "      <td>-0.260597</td>\n",
       "      <td>-0.537414</td>\n",
       "      <td>-0.377524</td>\n",
       "    </tr>\n",
       "    <tr>\n",
       "      <th>std</th>\n",
       "      <td>0.451599</td>\n",
       "      <td>0.797068</td>\n",
       "      <td>0.946979</td>\n",
       "      <td>1.108518</td>\n",
       "    </tr>\n",
       "    <tr>\n",
       "      <th>min</th>\n",
       "      <td>-0.271590</td>\n",
       "      <td>-1.858492</td>\n",
       "      <td>-1.219406</td>\n",
       "      <td>-1.514883</td>\n",
       "    </tr>\n",
       "    <tr>\n",
       "      <th>25%</th>\n",
       "      <td>-0.013066</td>\n",
       "      <td>-0.121115</td>\n",
       "      <td>-1.157118</td>\n",
       "      <td>-1.307055</td>\n",
       "    </tr>\n",
       "    <tr>\n",
       "      <th>50%</th>\n",
       "      <td>0.534423</td>\n",
       "      <td>-0.006335</td>\n",
       "      <td>-0.929229</td>\n",
       "      <td>-0.480916</td>\n",
       "    </tr>\n",
       "    <tr>\n",
       "      <th>75%</th>\n",
       "      <td>0.591263</td>\n",
       "      <td>0.153291</td>\n",
       "      <td>-0.342111</td>\n",
       "      <td>0.489396</td>\n",
       "    </tr>\n",
       "    <tr>\n",
       "      <th>max</th>\n",
       "      <td>0.819437</td>\n",
       "      <td>0.260454</td>\n",
       "      <td>1.232864</td>\n",
       "      <td>0.981173</td>\n",
       "    </tr>\n",
       "  </tbody>\n",
       "</table>\n",
       "</div>"
      ],
      "text/plain": [
       "              A         B         C         D\n",
       "count  6.000000  6.000000  6.000000  6.000000\n",
       "mean   0.338557 -0.260597 -0.537414 -0.377524\n",
       "std    0.451599  0.797068  0.946979  1.108518\n",
       "min   -0.271590 -1.858492 -1.219406 -1.514883\n",
       "25%   -0.013066 -0.121115 -1.157118 -1.307055\n",
       "50%    0.534423 -0.006335 -0.929229 -0.480916\n",
       "75%    0.591263  0.153291 -0.342111  0.489396\n",
       "max    0.819437  0.260454  1.232864  0.981173"
      ]
     },
     "execution_count": 32,
     "metadata": {},
     "output_type": "execute_result"
    }
   ],
   "source": [
    "df.describe()"
   ]
  },
  {
   "cell_type": "markdown",
   "metadata": {
    "id": "3A0XcgftQ1La"
   },
   "source": [
    "<H2>3. Selecting data"
   ]
  },
  {
   "cell_type": "markdown",
   "metadata": {
    "id": "S4y-GF8SQ5l_"
   },
   "source": [
    "(Find more in the indexing documentation Indexing and Selecing Data and MultiIndex / Advanced Indexing)\n",
    "\n",
    "Selecting a single column, which yields a Series, equivalent to df.A"
   ]
  },
  {
   "cell_type": "code",
   "execution_count": 29,
   "metadata": {
    "colab": {
     "base_uri": "https://localhost:8080/"
    },
    "id": "jJm545p8QlSy",
    "outputId": "232a6b70-7804-4820-e04e-a71ba6ae6943"
   },
   "outputs": [
    {
     "data": {
      "text/plain": [
       "2013-01-01    0.890330\n",
       "2013-01-02   -0.585088\n",
       "2013-01-03   -0.713641\n",
       "2013-01-04    0.385744\n",
       "2013-01-05    0.512667\n",
       "2013-01-06   -1.734715\n",
       "Freq: D, Name: A, dtype: float64"
      ]
     },
     "execution_count": 29,
     "metadata": {},
     "output_type": "execute_result"
    }
   ],
   "source": [
    "df['A']"
   ]
  },
  {
   "cell_type": "markdown",
   "metadata": {
    "id": "II23k5OiRBzi"
   },
   "source": [
    "Selecting via [], which slices the rows.\n"
   ]
  },
  {
   "cell_type": "code",
   "execution_count": 34,
   "metadata": {
    "colab": {
     "base_uri": "https://localhost:8080/",
     "height": 143
    },
    "id": "PA2NjLXuQ9Ir",
    "outputId": "9aef769c-291a-421f-e444-a6bca2dfe4cd"
   },
   "outputs": [
    {
     "data": {
      "text/html": [
       "<div>\n",
       "<style scoped>\n",
       "    .dataframe tbody tr th:only-of-type {\n",
       "        vertical-align: middle;\n",
       "    }\n",
       "\n",
       "    .dataframe tbody tr th {\n",
       "        vertical-align: top;\n",
       "    }\n",
       "\n",
       "    .dataframe thead th {\n",
       "        text-align: right;\n",
       "    }\n",
       "</style>\n",
       "<table border=\"1\" class=\"dataframe\">\n",
       "  <thead>\n",
       "    <tr style=\"text-align: right;\">\n",
       "      <th></th>\n",
       "      <th>A</th>\n",
       "      <th>B</th>\n",
       "      <th>C</th>\n",
       "      <th>D</th>\n",
       "    </tr>\n",
       "  </thead>\n",
       "  <tbody>\n",
       "    <tr>\n",
       "      <th>2022-01-01</th>\n",
       "      <td>-0.180612</td>\n",
       "      <td>0.067442</td>\n",
       "      <td>-0.199881</td>\n",
       "      <td>0.551448</td>\n",
       "    </tr>\n",
       "    <tr>\n",
       "      <th>2022-01-02</th>\n",
       "      <td>0.489572</td>\n",
       "      <td>0.181907</td>\n",
       "      <td>-0.768802</td>\n",
       "      <td>-1.265072</td>\n",
       "    </tr>\n",
       "    <tr>\n",
       "      <th>2022-01-03</th>\n",
       "      <td>0.579275</td>\n",
       "      <td>-1.858492</td>\n",
       "      <td>-1.089657</td>\n",
       "      <td>-1.321050</td>\n",
       "    </tr>\n",
       "  </tbody>\n",
       "</table>\n",
       "</div>"
      ],
      "text/plain": [
       "                   A         B         C         D\n",
       "2022-01-01 -0.180612  0.067442 -0.199881  0.551448\n",
       "2022-01-02  0.489572  0.181907 -0.768802 -1.265072\n",
       "2022-01-03  0.579275 -1.858492 -1.089657 -1.321050"
      ]
     },
     "execution_count": 34,
     "metadata": {},
     "output_type": "execute_result"
    }
   ],
   "source": [
    "df[0:3]"
   ]
  },
  {
   "cell_type": "code",
   "execution_count": 35,
   "metadata": {
    "colab": {
     "base_uri": "https://localhost:8080/",
     "height": 143
    },
    "id": "sNn5u4ujRFM_",
    "outputId": "f6eb3fcc-d2d4-4e6d-c887-f0abb8797f18"
   },
   "outputs": [
    {
     "data": {
      "text/html": [
       "<div>\n",
       "<style scoped>\n",
       "    .dataframe tbody tr th:only-of-type {\n",
       "        vertical-align: middle;\n",
       "    }\n",
       "\n",
       "    .dataframe tbody tr th {\n",
       "        vertical-align: top;\n",
       "    }\n",
       "\n",
       "    .dataframe thead th {\n",
       "        text-align: right;\n",
       "    }\n",
       "</style>\n",
       "<table border=\"1\" class=\"dataframe\">\n",
       "  <thead>\n",
       "    <tr style=\"text-align: right;\">\n",
       "      <th></th>\n",
       "      <th>A</th>\n",
       "      <th>B</th>\n",
       "      <th>C</th>\n",
       "      <th>D</th>\n",
       "    </tr>\n",
       "  </thead>\n",
       "  <tbody>\n",
       "    <tr>\n",
       "      <th>2022-01-02</th>\n",
       "      <td>0.489572</td>\n",
       "      <td>0.181907</td>\n",
       "      <td>-0.768802</td>\n",
       "      <td>-1.265072</td>\n",
       "    </tr>\n",
       "    <tr>\n",
       "      <th>2022-01-03</th>\n",
       "      <td>0.579275</td>\n",
       "      <td>-1.858492</td>\n",
       "      <td>-1.089657</td>\n",
       "      <td>-1.321050</td>\n",
       "    </tr>\n",
       "    <tr>\n",
       "      <th>2022-01-04</th>\n",
       "      <td>0.819437</td>\n",
       "      <td>0.260454</td>\n",
       "      <td>-1.179605</td>\n",
       "      <td>0.303240</td>\n",
       "    </tr>\n",
       "  </tbody>\n",
       "</table>\n",
       "</div>"
      ],
      "text/plain": [
       "                   A         B         C         D\n",
       "2022-01-02  0.489572  0.181907 -0.768802 -1.265072\n",
       "2022-01-03  0.579275 -1.858492 -1.089657 -1.321050\n",
       "2022-01-04  0.819437  0.260454 -1.179605  0.303240"
      ]
     },
     "execution_count": 35,
     "metadata": {},
     "output_type": "execute_result"
    }
   ],
   "source": [
    "df['20220102':'20220104']"
   ]
  },
  {
   "cell_type": "markdown",
   "metadata": {
    "id": "VfMcXodIRLxV"
   },
   "source": [
    "<H2> Selection by label"
   ]
  },
  {
   "cell_type": "markdown",
   "metadata": {
    "id": "kts0J2l8RRM2"
   },
   "source": [
    "(Find more in Selection by Label)\n",
    "\n",
    "For getting a single value"
   ]
  },
  {
   "cell_type": "code",
   "execution_count": 36,
   "metadata": {
    "colab": {
     "base_uri": "https://localhost:8080/"
    },
    "id": "vbFvYMsCRIKy",
    "outputId": "ef195df4-7b3f-4c9d-a9e7-7d3647a38943"
   },
   "outputs": [
    {
     "data": {
      "text/plain": [
       "-0.1806118316001302"
      ]
     },
     "execution_count": 36,
     "metadata": {},
     "output_type": "execute_result"
    }
   ],
   "source": [
    "df.loc[dates[0],'A']"
   ]
  },
  {
   "cell_type": "markdown",
   "metadata": {
    "id": "sVx10lnBRiYY"
   },
   "source": [
    "For getting a cross section using a label"
   ]
  },
  {
   "cell_type": "code",
   "execution_count": 37,
   "metadata": {
    "colab": {
     "base_uri": "https://localhost:8080/"
    },
    "id": "Tl8ZNW3HRXgq",
    "outputId": "fcfd7710-5325-4c67-d2c1-fd1d3dd4703e"
   },
   "outputs": [
    {
     "data": {
      "text/plain": [
       "A   -0.180612\n",
       "B    0.067442\n",
       "C   -0.199881\n",
       "D    0.551448\n",
       "Name: 2022-01-01 00:00:00, dtype: float64"
      ]
     },
     "execution_count": 37,
     "metadata": {},
     "output_type": "execute_result"
    }
   ],
   "source": [
    "df.loc[dates[0]]"
   ]
  },
  {
   "cell_type": "markdown",
   "metadata": {
    "id": "lzmylQ66Rkq0"
   },
   "source": [
    "Selecting on a multi-axis by label"
   ]
  },
  {
   "cell_type": "code",
   "execution_count": 38,
   "metadata": {
    "colab": {
     "base_uri": "https://localhost:8080/",
     "height": 238
    },
    "id": "SKaV2OhKRgVS",
    "outputId": "ad6aa6f2-c4aa-44ae-d1a6-47003dc2da7e"
   },
   "outputs": [
    {
     "data": {
      "text/html": [
       "<div>\n",
       "<style scoped>\n",
       "    .dataframe tbody tr th:only-of-type {\n",
       "        vertical-align: middle;\n",
       "    }\n",
       "\n",
       "    .dataframe tbody tr th {\n",
       "        vertical-align: top;\n",
       "    }\n",
       "\n",
       "    .dataframe thead th {\n",
       "        text-align: right;\n",
       "    }\n",
       "</style>\n",
       "<table border=\"1\" class=\"dataframe\">\n",
       "  <thead>\n",
       "    <tr style=\"text-align: right;\">\n",
       "      <th></th>\n",
       "      <th>A</th>\n",
       "      <th>B</th>\n",
       "    </tr>\n",
       "  </thead>\n",
       "  <tbody>\n",
       "    <tr>\n",
       "      <th>2022-01-01</th>\n",
       "      <td>-0.180612</td>\n",
       "      <td>0.067442</td>\n",
       "    </tr>\n",
       "    <tr>\n",
       "      <th>2022-01-02</th>\n",
       "      <td>0.489572</td>\n",
       "      <td>0.181907</td>\n",
       "    </tr>\n",
       "    <tr>\n",
       "      <th>2022-01-03</th>\n",
       "      <td>0.579275</td>\n",
       "      <td>-1.858492</td>\n",
       "    </tr>\n",
       "    <tr>\n",
       "      <th>2022-01-04</th>\n",
       "      <td>0.819437</td>\n",
       "      <td>0.260454</td>\n",
       "    </tr>\n",
       "    <tr>\n",
       "      <th>2022-01-05</th>\n",
       "      <td>0.595260</td>\n",
       "      <td>-0.134783</td>\n",
       "    </tr>\n",
       "    <tr>\n",
       "      <th>2022-01-06</th>\n",
       "      <td>-0.271590</td>\n",
       "      <td>-0.080111</td>\n",
       "    </tr>\n",
       "  </tbody>\n",
       "</table>\n",
       "</div>"
      ],
      "text/plain": [
       "                   A         B\n",
       "2022-01-01 -0.180612  0.067442\n",
       "2022-01-02  0.489572  0.181907\n",
       "2022-01-03  0.579275 -1.858492\n",
       "2022-01-04  0.819437  0.260454\n",
       "2022-01-05  0.595260 -0.134783\n",
       "2022-01-06 -0.271590 -0.080111"
      ]
     },
     "execution_count": 38,
     "metadata": {},
     "output_type": "execute_result"
    }
   ],
   "source": [
    "df.loc[:,['A','B']]"
   ]
  },
  {
   "cell_type": "markdown",
   "metadata": {
    "id": "IVwNZXQaRsbC"
   },
   "source": [
    "Showing label slicing, both endpoints are included"
   ]
  },
  {
   "cell_type": "code",
   "execution_count": 39,
   "metadata": {
    "colab": {
     "base_uri": "https://localhost:8080/",
     "height": 143
    },
    "id": "LFMBtN17RobD",
    "outputId": "7cb146bb-af1c-4cbb-b7a3-fefb72627ba5"
   },
   "outputs": [
    {
     "data": {
      "text/html": [
       "<div>\n",
       "<style scoped>\n",
       "    .dataframe tbody tr th:only-of-type {\n",
       "        vertical-align: middle;\n",
       "    }\n",
       "\n",
       "    .dataframe tbody tr th {\n",
       "        vertical-align: top;\n",
       "    }\n",
       "\n",
       "    .dataframe thead th {\n",
       "        text-align: right;\n",
       "    }\n",
       "</style>\n",
       "<table border=\"1\" class=\"dataframe\">\n",
       "  <thead>\n",
       "    <tr style=\"text-align: right;\">\n",
       "      <th></th>\n",
       "      <th>A</th>\n",
       "      <th>B</th>\n",
       "    </tr>\n",
       "  </thead>\n",
       "  <tbody>\n",
       "    <tr>\n",
       "      <th>2022-01-02</th>\n",
       "      <td>0.489572</td>\n",
       "      <td>0.181907</td>\n",
       "    </tr>\n",
       "    <tr>\n",
       "      <th>2022-01-03</th>\n",
       "      <td>0.579275</td>\n",
       "      <td>-1.858492</td>\n",
       "    </tr>\n",
       "    <tr>\n",
       "      <th>2022-01-04</th>\n",
       "      <td>0.819437</td>\n",
       "      <td>0.260454</td>\n",
       "    </tr>\n",
       "  </tbody>\n",
       "</table>\n",
       "</div>"
      ],
      "text/plain": [
       "                   A         B\n",
       "2022-01-02  0.489572  0.181907\n",
       "2022-01-03  0.579275 -1.858492\n",
       "2022-01-04  0.819437  0.260454"
      ]
     },
     "execution_count": 39,
     "metadata": {},
     "output_type": "execute_result"
    }
   ],
   "source": [
    "df.loc['20220102':'20220104',['A','B']]"
   ]
  },
  {
   "cell_type": "markdown",
   "metadata": {
    "id": "kBFo2FAZR0Os"
   },
   "source": [
    "<H2> Selection by Position"
   ]
  },
  {
   "cell_type": "markdown",
   "metadata": {
    "id": "ZVL96iQBRuy-"
   },
   "source": [
    "For getting a single value"
   ]
  },
  {
   "cell_type": "code",
   "execution_count": 40,
   "metadata": {
    "colab": {
     "base_uri": "https://localhost:8080/"
    },
    "id": "aCxHi2NXIFiI",
    "outputId": "9a20b691-cd70-4e8f-cc00-a5bf4146f119"
   },
   "outputs": [
    {
     "data": {
      "text/plain": [
       "0.181907385945508"
      ]
     },
     "execution_count": 40,
     "metadata": {},
     "output_type": "execute_result"
    }
   ],
   "source": [
    "df.iloc[1,1]"
   ]
  },
  {
   "cell_type": "markdown",
   "metadata": {
    "id": "waTi1UokIFiJ"
   },
   "source": [
    "By integer slices, acting similar to numpy/python"
   ]
  },
  {
   "cell_type": "code",
   "execution_count": 41,
   "metadata": {
    "colab": {
     "base_uri": "https://localhost:8080/",
     "height": 112
    },
    "id": "zH51ytlPIFiJ",
    "outputId": "ade02aa1-3747-46b8-d29a-d192b46bcb1a"
   },
   "outputs": [
    {
     "data": {
      "text/html": [
       "<div>\n",
       "<style scoped>\n",
       "    .dataframe tbody tr th:only-of-type {\n",
       "        vertical-align: middle;\n",
       "    }\n",
       "\n",
       "    .dataframe tbody tr th {\n",
       "        vertical-align: top;\n",
       "    }\n",
       "\n",
       "    .dataframe thead th {\n",
       "        text-align: right;\n",
       "    }\n",
       "</style>\n",
       "<table border=\"1\" class=\"dataframe\">\n",
       "  <thead>\n",
       "    <tr style=\"text-align: right;\">\n",
       "      <th></th>\n",
       "      <th>A</th>\n",
       "      <th>B</th>\n",
       "    </tr>\n",
       "  </thead>\n",
       "  <tbody>\n",
       "    <tr>\n",
       "      <th>2022-01-04</th>\n",
       "      <td>0.819437</td>\n",
       "      <td>0.260454</td>\n",
       "    </tr>\n",
       "    <tr>\n",
       "      <th>2022-01-05</th>\n",
       "      <td>0.595260</td>\n",
       "      <td>-0.134783</td>\n",
       "    </tr>\n",
       "  </tbody>\n",
       "</table>\n",
       "</div>"
      ],
      "text/plain": [
       "                   A         B\n",
       "2022-01-04  0.819437  0.260454\n",
       "2022-01-05  0.595260 -0.134783"
      ]
     },
     "execution_count": 41,
     "metadata": {},
     "output_type": "execute_result"
    }
   ],
   "source": [
    "df.iloc[3:5,0:2]"
   ]
  },
  {
   "cell_type": "markdown",
   "metadata": {
    "id": "dPsbdTCEIFiJ"
   },
   "source": [
    "For slicing rows explicitly"
   ]
  },
  {
   "cell_type": "code",
   "execution_count": 42,
   "metadata": {
    "colab": {
     "base_uri": "https://localhost:8080/",
     "height": 112
    },
    "id": "zZfX113EIFiJ",
    "outputId": "f97bad90-38e3-41aa-c190-4477505e4e0d"
   },
   "outputs": [
    {
     "data": {
      "text/html": [
       "<div>\n",
       "<style scoped>\n",
       "    .dataframe tbody tr th:only-of-type {\n",
       "        vertical-align: middle;\n",
       "    }\n",
       "\n",
       "    .dataframe tbody tr th {\n",
       "        vertical-align: top;\n",
       "    }\n",
       "\n",
       "    .dataframe thead th {\n",
       "        text-align: right;\n",
       "    }\n",
       "</style>\n",
       "<table border=\"1\" class=\"dataframe\">\n",
       "  <thead>\n",
       "    <tr style=\"text-align: right;\">\n",
       "      <th></th>\n",
       "      <th>A</th>\n",
       "      <th>B</th>\n",
       "      <th>C</th>\n",
       "      <th>D</th>\n",
       "    </tr>\n",
       "  </thead>\n",
       "  <tbody>\n",
       "    <tr>\n",
       "      <th>2022-01-02</th>\n",
       "      <td>0.489572</td>\n",
       "      <td>0.181907</td>\n",
       "      <td>-0.768802</td>\n",
       "      <td>-1.265072</td>\n",
       "    </tr>\n",
       "    <tr>\n",
       "      <th>2022-01-03</th>\n",
       "      <td>0.579275</td>\n",
       "      <td>-1.858492</td>\n",
       "      <td>-1.089657</td>\n",
       "      <td>-1.321050</td>\n",
       "    </tr>\n",
       "  </tbody>\n",
       "</table>\n",
       "</div>"
      ],
      "text/plain": [
       "                   A         B         C         D\n",
       "2022-01-02  0.489572  0.181907 -0.768802 -1.265072\n",
       "2022-01-03  0.579275 -1.858492 -1.089657 -1.321050"
      ]
     },
     "execution_count": 42,
     "metadata": {},
     "output_type": "execute_result"
    }
   ],
   "source": [
    "df.iloc[1:3,:]"
   ]
  },
  {
   "cell_type": "markdown",
   "metadata": {
    "id": "zJ6izekUIFiJ"
   },
   "source": [
    "For slicing columns explicitly"
   ]
  },
  {
   "cell_type": "code",
   "execution_count": 43,
   "metadata": {
    "colab": {
     "base_uri": "https://localhost:8080/",
     "height": 238
    },
    "id": "brFbdPSGIFiJ",
    "outputId": "85e8af00-1d4b-4734-b049-81eea41d4e13"
   },
   "outputs": [
    {
     "data": {
      "text/html": [
       "<div>\n",
       "<style scoped>\n",
       "    .dataframe tbody tr th:only-of-type {\n",
       "        vertical-align: middle;\n",
       "    }\n",
       "\n",
       "    .dataframe tbody tr th {\n",
       "        vertical-align: top;\n",
       "    }\n",
       "\n",
       "    .dataframe thead th {\n",
       "        text-align: right;\n",
       "    }\n",
       "</style>\n",
       "<table border=\"1\" class=\"dataframe\">\n",
       "  <thead>\n",
       "    <tr style=\"text-align: right;\">\n",
       "      <th></th>\n",
       "      <th>B</th>\n",
       "      <th>C</th>\n",
       "    </tr>\n",
       "  </thead>\n",
       "  <tbody>\n",
       "    <tr>\n",
       "      <th>2022-01-01</th>\n",
       "      <td>0.067442</td>\n",
       "      <td>-0.199881</td>\n",
       "    </tr>\n",
       "    <tr>\n",
       "      <th>2022-01-02</th>\n",
       "      <td>0.181907</td>\n",
       "      <td>-0.768802</td>\n",
       "    </tr>\n",
       "    <tr>\n",
       "      <th>2022-01-03</th>\n",
       "      <td>-1.858492</td>\n",
       "      <td>-1.089657</td>\n",
       "    </tr>\n",
       "    <tr>\n",
       "      <th>2022-01-04</th>\n",
       "      <td>0.260454</td>\n",
       "      <td>-1.179605</td>\n",
       "    </tr>\n",
       "    <tr>\n",
       "      <th>2022-01-05</th>\n",
       "      <td>-0.134783</td>\n",
       "      <td>-1.219406</td>\n",
       "    </tr>\n",
       "    <tr>\n",
       "      <th>2022-01-06</th>\n",
       "      <td>-0.080111</td>\n",
       "      <td>1.232864</td>\n",
       "    </tr>\n",
       "  </tbody>\n",
       "</table>\n",
       "</div>"
      ],
      "text/plain": [
       "                   B         C\n",
       "2022-01-01  0.067442 -0.199881\n",
       "2022-01-02  0.181907 -0.768802\n",
       "2022-01-03 -1.858492 -1.089657\n",
       "2022-01-04  0.260454 -1.179605\n",
       "2022-01-05 -0.134783 -1.219406\n",
       "2022-01-06 -0.080111  1.232864"
      ]
     },
     "execution_count": 43,
     "metadata": {},
     "output_type": "execute_result"
    }
   ],
   "source": [
    "df.iloc[:,1:3]"
   ]
  },
  {
   "cell_type": "markdown",
   "metadata": {
    "id": "bjp6O9l9IFiJ"
   },
   "source": [
    "By lists of integer position locations, similar to the numpy/python style"
   ]
  },
  {
   "cell_type": "code",
   "execution_count": 44,
   "metadata": {
    "colab": {
     "base_uri": "https://localhost:8080/",
     "height": 143
    },
    "id": "O3OUYIelIFiK",
    "outputId": "88cad8a6-3c4d-41ce-a2b7-6d62e7a2c018"
   },
   "outputs": [
    {
     "data": {
      "text/html": [
       "<div>\n",
       "<style scoped>\n",
       "    .dataframe tbody tr th:only-of-type {\n",
       "        vertical-align: middle;\n",
       "    }\n",
       "\n",
       "    .dataframe tbody tr th {\n",
       "        vertical-align: top;\n",
       "    }\n",
       "\n",
       "    .dataframe thead th {\n",
       "        text-align: right;\n",
       "    }\n",
       "</style>\n",
       "<table border=\"1\" class=\"dataframe\">\n",
       "  <thead>\n",
       "    <tr style=\"text-align: right;\">\n",
       "      <th></th>\n",
       "      <th>A</th>\n",
       "      <th>C</th>\n",
       "    </tr>\n",
       "  </thead>\n",
       "  <tbody>\n",
       "    <tr>\n",
       "      <th>2022-01-02</th>\n",
       "      <td>0.489572</td>\n",
       "      <td>-0.768802</td>\n",
       "    </tr>\n",
       "    <tr>\n",
       "      <th>2022-01-03</th>\n",
       "      <td>0.579275</td>\n",
       "      <td>-1.089657</td>\n",
       "    </tr>\n",
       "    <tr>\n",
       "      <th>2022-01-05</th>\n",
       "      <td>0.595260</td>\n",
       "      <td>-1.219406</td>\n",
       "    </tr>\n",
       "  </tbody>\n",
       "</table>\n",
       "</div>"
      ],
      "text/plain": [
       "                   A         C\n",
       "2022-01-02  0.489572 -0.768802\n",
       "2022-01-03  0.579275 -1.089657\n",
       "2022-01-05  0.595260 -1.219406"
      ]
     },
     "execution_count": 44,
     "metadata": {},
     "output_type": "execute_result"
    }
   ],
   "source": [
    "df.iloc[[1,2,4],[0,2]]"
   ]
  },
  {
   "cell_type": "markdown",
   "metadata": {
    "id": "EibOdAi-IFiK"
   },
   "source": [
    "<h2> Boolean Indexing"
   ]
  },
  {
   "cell_type": "markdown",
   "metadata": {
    "id": "siQnoGMYIFiK"
   },
   "source": [
    "Using a single column’s values to select data."
   ]
  },
  {
   "cell_type": "code",
   "execution_count": 45,
   "metadata": {
    "colab": {
     "base_uri": "https://localhost:8080/",
     "height": 206
    },
    "id": "ay-7bxDzIFiK",
    "outputId": "2a548bbc-19d9-48ef-f3f8-15b35fb8ecc3"
   },
   "outputs": [
    {
     "data": {
      "text/html": [
       "<div>\n",
       "<style scoped>\n",
       "    .dataframe tbody tr th:only-of-type {\n",
       "        vertical-align: middle;\n",
       "    }\n",
       "\n",
       "    .dataframe tbody tr th {\n",
       "        vertical-align: top;\n",
       "    }\n",
       "\n",
       "    .dataframe thead th {\n",
       "        text-align: right;\n",
       "    }\n",
       "</style>\n",
       "<table border=\"1\" class=\"dataframe\">\n",
       "  <thead>\n",
       "    <tr style=\"text-align: right;\">\n",
       "      <th></th>\n",
       "      <th>A</th>\n",
       "      <th>B</th>\n",
       "      <th>C</th>\n",
       "      <th>D</th>\n",
       "    </tr>\n",
       "  </thead>\n",
       "  <tbody>\n",
       "    <tr>\n",
       "      <th>2022-01-02</th>\n",
       "      <td>0.489572</td>\n",
       "      <td>0.181907</td>\n",
       "      <td>-0.768802</td>\n",
       "      <td>-1.265072</td>\n",
       "    </tr>\n",
       "    <tr>\n",
       "      <th>2022-01-03</th>\n",
       "      <td>0.579275</td>\n",
       "      <td>-1.858492</td>\n",
       "      <td>-1.089657</td>\n",
       "      <td>-1.321050</td>\n",
       "    </tr>\n",
       "    <tr>\n",
       "      <th>2022-01-04</th>\n",
       "      <td>0.819437</td>\n",
       "      <td>0.260454</td>\n",
       "      <td>-1.179605</td>\n",
       "      <td>0.303240</td>\n",
       "    </tr>\n",
       "    <tr>\n",
       "      <th>2022-01-05</th>\n",
       "      <td>0.595260</td>\n",
       "      <td>-0.134783</td>\n",
       "      <td>-1.219406</td>\n",
       "      <td>0.981173</td>\n",
       "    </tr>\n",
       "  </tbody>\n",
       "</table>\n",
       "</div>"
      ],
      "text/plain": [
       "                   A         B         C         D\n",
       "2022-01-02  0.489572  0.181907 -0.768802 -1.265072\n",
       "2022-01-03  0.579275 -1.858492 -1.089657 -1.321050\n",
       "2022-01-04  0.819437  0.260454 -1.179605  0.303240\n",
       "2022-01-05  0.595260 -0.134783 -1.219406  0.981173"
      ]
     },
     "execution_count": 45,
     "metadata": {},
     "output_type": "execute_result"
    }
   ],
   "source": [
    "df[df.A > 0]"
   ]
  },
  {
   "cell_type": "markdown",
   "metadata": {
    "id": "liMKVb34IFiK"
   },
   "source": [
    "A where operation for getting"
   ]
  },
  {
   "cell_type": "code",
   "execution_count": 46,
   "metadata": {
    "colab": {
     "base_uri": "https://localhost:8080/",
     "height": 238
    },
    "id": "93SEiNhlIFiK",
    "outputId": "f666791b-4e40-4ecb-8e48-ab6edd2cb0cd"
   },
   "outputs": [
    {
     "data": {
      "text/html": [
       "<div>\n",
       "<style scoped>\n",
       "    .dataframe tbody tr th:only-of-type {\n",
       "        vertical-align: middle;\n",
       "    }\n",
       "\n",
       "    .dataframe tbody tr th {\n",
       "        vertical-align: top;\n",
       "    }\n",
       "\n",
       "    .dataframe thead th {\n",
       "        text-align: right;\n",
       "    }\n",
       "</style>\n",
       "<table border=\"1\" class=\"dataframe\">\n",
       "  <thead>\n",
       "    <tr style=\"text-align: right;\">\n",
       "      <th></th>\n",
       "      <th>A</th>\n",
       "      <th>B</th>\n",
       "      <th>C</th>\n",
       "      <th>D</th>\n",
       "    </tr>\n",
       "  </thead>\n",
       "  <tbody>\n",
       "    <tr>\n",
       "      <th>2022-01-01</th>\n",
       "      <td>NaN</td>\n",
       "      <td>0.067442</td>\n",
       "      <td>NaN</td>\n",
       "      <td>0.551448</td>\n",
       "    </tr>\n",
       "    <tr>\n",
       "      <th>2022-01-02</th>\n",
       "      <td>0.489572</td>\n",
       "      <td>0.181907</td>\n",
       "      <td>NaN</td>\n",
       "      <td>NaN</td>\n",
       "    </tr>\n",
       "    <tr>\n",
       "      <th>2022-01-03</th>\n",
       "      <td>0.579275</td>\n",
       "      <td>NaN</td>\n",
       "      <td>NaN</td>\n",
       "      <td>NaN</td>\n",
       "    </tr>\n",
       "    <tr>\n",
       "      <th>2022-01-04</th>\n",
       "      <td>0.819437</td>\n",
       "      <td>0.260454</td>\n",
       "      <td>NaN</td>\n",
       "      <td>0.303240</td>\n",
       "    </tr>\n",
       "    <tr>\n",
       "      <th>2022-01-05</th>\n",
       "      <td>0.595260</td>\n",
       "      <td>NaN</td>\n",
       "      <td>NaN</td>\n",
       "      <td>0.981173</td>\n",
       "    </tr>\n",
       "    <tr>\n",
       "      <th>2022-01-06</th>\n",
       "      <td>NaN</td>\n",
       "      <td>NaN</td>\n",
       "      <td>1.232864</td>\n",
       "      <td>NaN</td>\n",
       "    </tr>\n",
       "  </tbody>\n",
       "</table>\n",
       "</div>"
      ],
      "text/plain": [
       "                   A         B         C         D\n",
       "2022-01-01       NaN  0.067442       NaN  0.551448\n",
       "2022-01-02  0.489572  0.181907       NaN       NaN\n",
       "2022-01-03  0.579275       NaN       NaN       NaN\n",
       "2022-01-04  0.819437  0.260454       NaN  0.303240\n",
       "2022-01-05  0.595260       NaN       NaN  0.981173\n",
       "2022-01-06       NaN       NaN  1.232864       NaN"
      ]
     },
     "execution_count": 46,
     "metadata": {},
     "output_type": "execute_result"
    }
   ],
   "source": [
    "df[df > 0]"
   ]
  },
  {
   "cell_type": "markdown",
   "metadata": {
    "id": "kqEjIzs_IFiK"
   },
   "source": [
    "Using the isin() method for filtering:"
   ]
  },
  {
   "cell_type": "code",
   "execution_count": 47,
   "metadata": {
    "colab": {
     "base_uri": "https://localhost:8080/",
     "height": 238
    },
    "id": "VLsAYoDJIFiK",
    "outputId": "4a03b44b-f848-4073-8c91-6be8ef772b0d"
   },
   "outputs": [
    {
     "data": {
      "text/html": [
       "<div>\n",
       "<style scoped>\n",
       "    .dataframe tbody tr th:only-of-type {\n",
       "        vertical-align: middle;\n",
       "    }\n",
       "\n",
       "    .dataframe tbody tr th {\n",
       "        vertical-align: top;\n",
       "    }\n",
       "\n",
       "    .dataframe thead th {\n",
       "        text-align: right;\n",
       "    }\n",
       "</style>\n",
       "<table border=\"1\" class=\"dataframe\">\n",
       "  <thead>\n",
       "    <tr style=\"text-align: right;\">\n",
       "      <th></th>\n",
       "      <th>A</th>\n",
       "      <th>B</th>\n",
       "      <th>C</th>\n",
       "      <th>D</th>\n",
       "      <th>E</th>\n",
       "    </tr>\n",
       "  </thead>\n",
       "  <tbody>\n",
       "    <tr>\n",
       "      <th>2022-01-01</th>\n",
       "      <td>-0.180612</td>\n",
       "      <td>0.067442</td>\n",
       "      <td>-0.199881</td>\n",
       "      <td>0.551448</td>\n",
       "      <td>one</td>\n",
       "    </tr>\n",
       "    <tr>\n",
       "      <th>2022-01-02</th>\n",
       "      <td>0.489572</td>\n",
       "      <td>0.181907</td>\n",
       "      <td>-0.768802</td>\n",
       "      <td>-1.265072</td>\n",
       "      <td>one</td>\n",
       "    </tr>\n",
       "    <tr>\n",
       "      <th>2022-01-03</th>\n",
       "      <td>0.579275</td>\n",
       "      <td>-1.858492</td>\n",
       "      <td>-1.089657</td>\n",
       "      <td>-1.321050</td>\n",
       "      <td>two</td>\n",
       "    </tr>\n",
       "    <tr>\n",
       "      <th>2022-01-04</th>\n",
       "      <td>0.819437</td>\n",
       "      <td>0.260454</td>\n",
       "      <td>-1.179605</td>\n",
       "      <td>0.303240</td>\n",
       "      <td>three</td>\n",
       "    </tr>\n",
       "    <tr>\n",
       "      <th>2022-01-05</th>\n",
       "      <td>0.595260</td>\n",
       "      <td>-0.134783</td>\n",
       "      <td>-1.219406</td>\n",
       "      <td>0.981173</td>\n",
       "      <td>four</td>\n",
       "    </tr>\n",
       "    <tr>\n",
       "      <th>2022-01-06</th>\n",
       "      <td>-0.271590</td>\n",
       "      <td>-0.080111</td>\n",
       "      <td>1.232864</td>\n",
       "      <td>-1.514883</td>\n",
       "      <td>three</td>\n",
       "    </tr>\n",
       "  </tbody>\n",
       "</table>\n",
       "</div>"
      ],
      "text/plain": [
       "                   A         B         C         D      E\n",
       "2022-01-01 -0.180612  0.067442 -0.199881  0.551448    one\n",
       "2022-01-02  0.489572  0.181907 -0.768802 -1.265072    one\n",
       "2022-01-03  0.579275 -1.858492 -1.089657 -1.321050    two\n",
       "2022-01-04  0.819437  0.260454 -1.179605  0.303240  three\n",
       "2022-01-05  0.595260 -0.134783 -1.219406  0.981173   four\n",
       "2022-01-06 -0.271590 -0.080111  1.232864 -1.514883  three"
      ]
     },
     "execution_count": 47,
     "metadata": {},
     "output_type": "execute_result"
    }
   ],
   "source": [
    "df2 = df.copy()\n",
    "df2['E'] = ['one', 'one','two','three','four','three']\n",
    "df2"
   ]
  },
  {
   "cell_type": "code",
   "execution_count": 48,
   "metadata": {
    "colab": {
     "base_uri": "https://localhost:8080/",
     "height": 112
    },
    "id": "9FhuuD-JIFiL",
    "outputId": "2c8f1a0d-b0ce-4281-e2bd-0bf6f5842c45"
   },
   "outputs": [
    {
     "data": {
      "text/html": [
       "<div>\n",
       "<style scoped>\n",
       "    .dataframe tbody tr th:only-of-type {\n",
       "        vertical-align: middle;\n",
       "    }\n",
       "\n",
       "    .dataframe tbody tr th {\n",
       "        vertical-align: top;\n",
       "    }\n",
       "\n",
       "    .dataframe thead th {\n",
       "        text-align: right;\n",
       "    }\n",
       "</style>\n",
       "<table border=\"1\" class=\"dataframe\">\n",
       "  <thead>\n",
       "    <tr style=\"text-align: right;\">\n",
       "      <th></th>\n",
       "      <th>A</th>\n",
       "      <th>B</th>\n",
       "      <th>C</th>\n",
       "      <th>D</th>\n",
       "      <th>E</th>\n",
       "    </tr>\n",
       "  </thead>\n",
       "  <tbody>\n",
       "    <tr>\n",
       "      <th>2022-01-03</th>\n",
       "      <td>0.579275</td>\n",
       "      <td>-1.858492</td>\n",
       "      <td>-1.089657</td>\n",
       "      <td>-1.321050</td>\n",
       "      <td>two</td>\n",
       "    </tr>\n",
       "    <tr>\n",
       "      <th>2022-01-05</th>\n",
       "      <td>0.595260</td>\n",
       "      <td>-0.134783</td>\n",
       "      <td>-1.219406</td>\n",
       "      <td>0.981173</td>\n",
       "      <td>four</td>\n",
       "    </tr>\n",
       "  </tbody>\n",
       "</table>\n",
       "</div>"
      ],
      "text/plain": [
       "                   A         B         C         D     E\n",
       "2022-01-03  0.579275 -1.858492 -1.089657 -1.321050   two\n",
       "2022-01-05  0.595260 -0.134783 -1.219406  0.981173  four"
      ]
     },
     "execution_count": 48,
     "metadata": {},
     "output_type": "execute_result"
    }
   ],
   "source": [
    "df2[df2['E'].isin(['two','four'])]"
   ]
  },
  {
   "cell_type": "markdown",
   "metadata": {
    "id": "2_jUof7HIFiL"
   },
   "source": [
    "<h2> Setting"
   ]
  },
  {
   "cell_type": "markdown",
   "metadata": {
    "id": "IB2qcKxGIFiL"
   },
   "source": [
    "Setting values by label"
   ]
  },
  {
   "cell_type": "code",
   "execution_count": 49,
   "metadata": {
    "id": "o-oO6jZrIFiL"
   },
   "outputs": [],
   "source": [
    "df.at[dates[0],'A'] = 0"
   ]
  },
  {
   "cell_type": "markdown",
   "metadata": {
    "id": "JeiuxTfsIFiL"
   },
   "source": [
    "Setting values by position"
   ]
  },
  {
   "cell_type": "code",
   "execution_count": 50,
   "metadata": {
    "id": "g19nJYLxIFiL"
   },
   "outputs": [],
   "source": [
    "df.iat[0,1] = 0"
   ]
  },
  {
   "cell_type": "markdown",
   "metadata": {
    "id": "k64f-vvoIFiL"
   },
   "source": [
    "Setting by assigning with a numpy array"
   ]
  },
  {
   "cell_type": "code",
   "execution_count": 51,
   "metadata": {
    "id": "BpULJFrAIFiM"
   },
   "outputs": [],
   "source": [
    "df.loc[:,'D'] = np.array([5] * len(df))"
   ]
  },
  {
   "cell_type": "markdown",
   "metadata": {
    "id": "MDRqJVsAIFiM"
   },
   "source": [
    "The result of the prior setting operations"
   ]
  },
  {
   "cell_type": "code",
   "execution_count": 64,
   "metadata": {
    "colab": {
     "base_uri": "https://localhost:8080/",
     "height": 238
    },
    "id": "dfw3NZXXIFiM",
    "outputId": "098b0b94-8a9c-4389-ad89-a7a6d364401c"
   },
   "outputs": [
    {
     "data": {
      "text/html": [
       "<div>\n",
       "<style scoped>\n",
       "    .dataframe tbody tr th:only-of-type {\n",
       "        vertical-align: middle;\n",
       "    }\n",
       "\n",
       "    .dataframe tbody tr th {\n",
       "        vertical-align: top;\n",
       "    }\n",
       "\n",
       "    .dataframe thead th {\n",
       "        text-align: right;\n",
       "    }\n",
       "</style>\n",
       "<table border=\"1\" class=\"dataframe\">\n",
       "  <thead>\n",
       "    <tr style=\"text-align: right;\">\n",
       "      <th></th>\n",
       "      <th>A</th>\n",
       "      <th>B</th>\n",
       "      <th>C</th>\n",
       "      <th>D</th>\n",
       "    </tr>\n",
       "  </thead>\n",
       "  <tbody>\n",
       "    <tr>\n",
       "      <th>2022-01-01</th>\n",
       "      <td>0.000000</td>\n",
       "      <td>0.000000</td>\n",
       "      <td>-0.199881</td>\n",
       "      <td>5</td>\n",
       "    </tr>\n",
       "    <tr>\n",
       "      <th>2022-01-02</th>\n",
       "      <td>0.489572</td>\n",
       "      <td>0.181907</td>\n",
       "      <td>-0.768802</td>\n",
       "      <td>5</td>\n",
       "    </tr>\n",
       "    <tr>\n",
       "      <th>2022-01-03</th>\n",
       "      <td>0.579275</td>\n",
       "      <td>-1.858492</td>\n",
       "      <td>-1.089657</td>\n",
       "      <td>5</td>\n",
       "    </tr>\n",
       "    <tr>\n",
       "      <th>2022-01-04</th>\n",
       "      <td>0.819437</td>\n",
       "      <td>0.260454</td>\n",
       "      <td>-1.179605</td>\n",
       "      <td>5</td>\n",
       "    </tr>\n",
       "    <tr>\n",
       "      <th>2022-01-05</th>\n",
       "      <td>0.595260</td>\n",
       "      <td>-0.134783</td>\n",
       "      <td>-1.219406</td>\n",
       "      <td>5</td>\n",
       "    </tr>\n",
       "    <tr>\n",
       "      <th>2022-01-06</th>\n",
       "      <td>-0.271590</td>\n",
       "      <td>-0.080111</td>\n",
       "      <td>1.232864</td>\n",
       "      <td>5</td>\n",
       "    </tr>\n",
       "  </tbody>\n",
       "</table>\n",
       "</div>"
      ],
      "text/plain": [
       "                   A         B         C  D\n",
       "2022-01-01  0.000000  0.000000 -0.199881  5\n",
       "2022-01-02  0.489572  0.181907 -0.768802  5\n",
       "2022-01-03  0.579275 -1.858492 -1.089657  5\n",
       "2022-01-04  0.819437  0.260454 -1.179605  5\n",
       "2022-01-05  0.595260 -0.134783 -1.219406  5\n",
       "2022-01-06 -0.271590 -0.080111  1.232864  5"
      ]
     },
     "execution_count": 64,
     "metadata": {},
     "output_type": "execute_result"
    }
   ],
   "source": [
    "df"
   ]
  },
  {
   "cell_type": "markdown",
   "metadata": {
    "id": "l5B3w5c2IFiM"
   },
   "source": [
    "A where operation with setting."
   ]
  },
  {
   "cell_type": "code",
   "execution_count": 65,
   "metadata": {
    "id": "UN0LR5gbIFiM"
   },
   "outputs": [],
   "source": [
    "df2 = df.copy()"
   ]
  },
  {
   "cell_type": "code",
   "execution_count": 66,
   "metadata": {
    "id": "GKoJcXRjIFiN"
   },
   "outputs": [],
   "source": [
    "df2[df2 > 0] = -df2"
   ]
  },
  {
   "cell_type": "code",
   "execution_count": 68,
   "metadata": {
    "colab": {
     "base_uri": "https://localhost:8080/",
     "height": 238
    },
    "id": "uYcWE8LzIFiN",
    "outputId": "b11185a4-8d22-4d66-8276-bec75d723a3a"
   },
   "outputs": [
    {
     "data": {
      "text/html": [
       "<div>\n",
       "<style scoped>\n",
       "    .dataframe tbody tr th:only-of-type {\n",
       "        vertical-align: middle;\n",
       "    }\n",
       "\n",
       "    .dataframe tbody tr th {\n",
       "        vertical-align: top;\n",
       "    }\n",
       "\n",
       "    .dataframe thead th {\n",
       "        text-align: right;\n",
       "    }\n",
       "</style>\n",
       "<table border=\"1\" class=\"dataframe\">\n",
       "  <thead>\n",
       "    <tr style=\"text-align: right;\">\n",
       "      <th></th>\n",
       "      <th>A</th>\n",
       "      <th>B</th>\n",
       "      <th>C</th>\n",
       "      <th>D</th>\n",
       "    </tr>\n",
       "  </thead>\n",
       "  <tbody>\n",
       "    <tr>\n",
       "      <th>2022-01-01</th>\n",
       "      <td>0.000000</td>\n",
       "      <td>0.000000</td>\n",
       "      <td>-0.199881</td>\n",
       "      <td>-5</td>\n",
       "    </tr>\n",
       "    <tr>\n",
       "      <th>2022-01-02</th>\n",
       "      <td>-0.489572</td>\n",
       "      <td>-0.181907</td>\n",
       "      <td>-0.768802</td>\n",
       "      <td>-5</td>\n",
       "    </tr>\n",
       "    <tr>\n",
       "      <th>2022-01-03</th>\n",
       "      <td>-0.579275</td>\n",
       "      <td>-1.858492</td>\n",
       "      <td>-1.089657</td>\n",
       "      <td>-5</td>\n",
       "    </tr>\n",
       "    <tr>\n",
       "      <th>2022-01-04</th>\n",
       "      <td>-0.819437</td>\n",
       "      <td>-0.260454</td>\n",
       "      <td>-1.179605</td>\n",
       "      <td>-5</td>\n",
       "    </tr>\n",
       "    <tr>\n",
       "      <th>2022-01-05</th>\n",
       "      <td>-0.595260</td>\n",
       "      <td>-0.134783</td>\n",
       "      <td>-1.219406</td>\n",
       "      <td>-5</td>\n",
       "    </tr>\n",
       "    <tr>\n",
       "      <th>2022-01-06</th>\n",
       "      <td>-0.271590</td>\n",
       "      <td>-0.080111</td>\n",
       "      <td>-1.232864</td>\n",
       "      <td>-5</td>\n",
       "    </tr>\n",
       "  </tbody>\n",
       "</table>\n",
       "</div>"
      ],
      "text/plain": [
       "                   A         B         C  D\n",
       "2022-01-01  0.000000  0.000000 -0.199881 -5\n",
       "2022-01-02 -0.489572 -0.181907 -0.768802 -5\n",
       "2022-01-03 -0.579275 -1.858492 -1.089657 -5\n",
       "2022-01-04 -0.819437 -0.260454 -1.179605 -5\n",
       "2022-01-05 -0.595260 -0.134783 -1.219406 -5\n",
       "2022-01-06 -0.271590 -0.080111 -1.232864 -5"
      ]
     },
     "execution_count": 68,
     "metadata": {},
     "output_type": "execute_result"
    }
   ],
   "source": [
    "df2"
   ]
  },
  {
   "cell_type": "markdown",
   "metadata": {
    "id": "ddSpef28IFiN"
   },
   "source": [
    "<h2> Operations"
   ]
  },
  {
   "cell_type": "markdown",
   "metadata": {
    "id": "2Tr89CItIFiN"
   },
   "source": [
    "<h3> Statistics"
   ]
  },
  {
   "cell_type": "markdown",
   "metadata": {
    "id": "iqt2JR6oIFiN"
   },
   "source": [
    "<i>Operations in general exclude missing data (i.e. \"nan\" values).<i>"
   ]
  },
  {
   "cell_type": "markdown",
   "metadata": {
    "id": "sgSICvvaIFiN"
   },
   "source": [
    "Performing a descriptive statistic"
   ]
  },
  {
   "cell_type": "code",
   "execution_count": 69,
   "metadata": {
    "colab": {
     "base_uri": "https://localhost:8080/"
    },
    "id": "AYqoGAOyIFiN",
    "outputId": "8b5b7f1e-71d2-49e6-c003-787e2e95e2cc"
   },
   "outputs": [
    {
     "data": {
      "text/plain": [
       "A    0.368659\n",
       "B   -0.271838\n",
       "C   -0.537414\n",
       "D    5.000000\n",
       "dtype: float64"
      ]
     },
     "execution_count": 69,
     "metadata": {},
     "output_type": "execute_result"
    }
   ],
   "source": [
    "df.mean()"
   ]
  },
  {
   "cell_type": "markdown",
   "metadata": {
    "id": "GedyBMXDIFiN"
   },
   "source": [
    "Same operation on the other axis"
   ]
  },
  {
   "cell_type": "code",
   "execution_count": 70,
   "metadata": {
    "colab": {
     "base_uri": "https://localhost:8080/"
    },
    "id": "x0ntPlGhIFiN",
    "outputId": "54d11444-fa74-41d5-9697-775601da8908"
   },
   "outputs": [
    {
     "data": {
      "text/plain": [
       "2022-01-01    1.200030\n",
       "2022-01-02    1.225669\n",
       "2022-01-03    0.657782\n",
       "2022-01-04    1.225071\n",
       "2022-01-05    1.060268\n",
       "2022-01-06    1.470291\n",
       "Freq: D, dtype: float64"
      ]
     },
     "execution_count": 70,
     "metadata": {},
     "output_type": "execute_result"
    }
   ],
   "source": [
    "df.mean(1)"
   ]
  },
  {
   "cell_type": "code",
   "execution_count": 72,
   "metadata": {},
   "outputs": [
    {
     "data": {
      "text/plain": [
       "2022-01-01    2.535065\n",
       "2022-01-02    2.572597\n",
       "2022-01-03    3.068452\n",
       "2022-01-04    2.653776\n",
       "2022-01-05    2.730249\n",
       "2022-01-06    2.446298\n",
       "Freq: D, dtype: float64"
      ]
     },
     "execution_count": 72,
     "metadata": {},
     "output_type": "execute_result"
    }
   ],
   "source": [
    "df.std(1)"
   ]
  },
  {
   "cell_type": "markdown",
   "metadata": {
    "id": "Vh1Q0JNtIFiO"
   },
   "source": [
    "<h3>Apply"
   ]
  },
  {
   "cell_type": "markdown",
   "metadata": {
    "id": "-isEY_0EIFiO"
   },
   "source": [
    "Applying functions to the data"
   ]
  },
  {
   "cell_type": "code",
   "execution_count": 73,
   "metadata": {
    "colab": {
     "base_uri": "https://localhost:8080/",
     "height": 238
    },
    "id": "CeCVzKjvIFiO",
    "outputId": "084ebe7b-cf56-457d-a297-72fd7e78beb5"
   },
   "outputs": [
    {
     "data": {
      "text/html": [
       "<div>\n",
       "<style scoped>\n",
       "    .dataframe tbody tr th:only-of-type {\n",
       "        vertical-align: middle;\n",
       "    }\n",
       "\n",
       "    .dataframe tbody tr th {\n",
       "        vertical-align: top;\n",
       "    }\n",
       "\n",
       "    .dataframe thead th {\n",
       "        text-align: right;\n",
       "    }\n",
       "</style>\n",
       "<table border=\"1\" class=\"dataframe\">\n",
       "  <thead>\n",
       "    <tr style=\"text-align: right;\">\n",
       "      <th></th>\n",
       "      <th>A</th>\n",
       "      <th>B</th>\n",
       "      <th>C</th>\n",
       "      <th>D</th>\n",
       "    </tr>\n",
       "  </thead>\n",
       "  <tbody>\n",
       "    <tr>\n",
       "      <th>2022-01-01</th>\n",
       "      <td>0.000000</td>\n",
       "      <td>0.000000</td>\n",
       "      <td>-0.199881</td>\n",
       "      <td>5</td>\n",
       "    </tr>\n",
       "    <tr>\n",
       "      <th>2022-01-02</th>\n",
       "      <td>0.489572</td>\n",
       "      <td>0.181907</td>\n",
       "      <td>-0.968683</td>\n",
       "      <td>10</td>\n",
       "    </tr>\n",
       "    <tr>\n",
       "      <th>2022-01-03</th>\n",
       "      <td>1.068847</td>\n",
       "      <td>-1.676585</td>\n",
       "      <td>-2.058339</td>\n",
       "      <td>15</td>\n",
       "    </tr>\n",
       "    <tr>\n",
       "      <th>2022-01-04</th>\n",
       "      <td>1.888283</td>\n",
       "      <td>-1.416131</td>\n",
       "      <td>-3.237944</td>\n",
       "      <td>20</td>\n",
       "    </tr>\n",
       "    <tr>\n",
       "      <th>2022-01-05</th>\n",
       "      <td>2.483543</td>\n",
       "      <td>-1.550914</td>\n",
       "      <td>-4.457350</td>\n",
       "      <td>25</td>\n",
       "    </tr>\n",
       "    <tr>\n",
       "      <th>2022-01-06</th>\n",
       "      <td>2.211953</td>\n",
       "      <td>-1.631025</td>\n",
       "      <td>-3.224486</td>\n",
       "      <td>30</td>\n",
       "    </tr>\n",
       "  </tbody>\n",
       "</table>\n",
       "</div>"
      ],
      "text/plain": [
       "                   A         B         C   D\n",
       "2022-01-01  0.000000  0.000000 -0.199881   5\n",
       "2022-01-02  0.489572  0.181907 -0.968683  10\n",
       "2022-01-03  1.068847 -1.676585 -2.058339  15\n",
       "2022-01-04  1.888283 -1.416131 -3.237944  20\n",
       "2022-01-05  2.483543 -1.550914 -4.457350  25\n",
       "2022-01-06  2.211953 -1.631025 -3.224486  30"
      ]
     },
     "execution_count": 73,
     "metadata": {},
     "output_type": "execute_result"
    }
   ],
   "source": [
    "df.apply(np.cumsum)"
   ]
  },
  {
   "cell_type": "code",
   "execution_count": 74,
   "metadata": {
    "colab": {
     "base_uri": "https://localhost:8080/"
    },
    "id": "6hrH4M9jIFiO",
    "outputId": "ccf0aa4f-1038-4438-8b86-c127fa7f428a"
   },
   "outputs": [
    {
     "data": {
      "text/plain": [
       "A    1.091027\n",
       "B    2.118946\n",
       "C    2.452271\n",
       "D    0.000000\n",
       "dtype: float64"
      ]
     },
     "execution_count": 74,
     "metadata": {},
     "output_type": "execute_result"
    }
   ],
   "source": [
    "df.apply(lambda x: x.max() - x.min())"
   ]
  },
  {
   "cell_type": "markdown",
   "metadata": {
    "id": "k4xOycPyIFiO"
   },
   "source": [
    "<h3>Histogramming"
   ]
  },
  {
   "cell_type": "code",
   "execution_count": 164,
   "metadata": {
    "id": "I45OHyTPIFiO"
   },
   "outputs": [],
   "source": [
    "s = pd.Series(np.random.randint(0, 7, size=10))"
   ]
  },
  {
   "cell_type": "code",
   "execution_count": 165,
   "metadata": {
    "colab": {
     "base_uri": "https://localhost:8080/"
    },
    "id": "BOtp_xJhIFiO",
    "outputId": "1adf0f57-ff58-4ace-9e8c-afba24109f73"
   },
   "outputs": [
    {
     "data": {
      "text/plain": [
       "0    6\n",
       "1    6\n",
       "2    4\n",
       "3    4\n",
       "4    5\n",
       "5    0\n",
       "6    2\n",
       "7    6\n",
       "8    1\n",
       "9    6\n",
       "dtype: int64"
      ]
     },
     "execution_count": 165,
     "metadata": {},
     "output_type": "execute_result"
    }
   ],
   "source": [
    "s"
   ]
  },
  {
   "cell_type": "code",
   "execution_count": 166,
   "metadata": {
    "colab": {
     "base_uri": "https://localhost:8080/"
    },
    "id": "NxdJSXgVIFiO",
    "outputId": "26541105-a437-4164-eaf8-b4f731e44334"
   },
   "outputs": [
    {
     "data": {
      "text/plain": [
       "6    4\n",
       "4    2\n",
       "5    1\n",
       "2    1\n",
       "1    1\n",
       "0    1\n",
       "dtype: int64"
      ]
     },
     "execution_count": 166,
     "metadata": {},
     "output_type": "execute_result"
    }
   ],
   "source": [
    "s.value_counts()"
   ]
  },
  {
   "cell_type": "markdown",
   "metadata": {
    "id": "BiFIzKJqIFiP"
   },
   "source": [
    "<h2> Plotting"
   ]
  },
  {
   "cell_type": "code",
   "execution_count": 79,
   "metadata": {
    "id": "cpLFuiFFIFiP"
   },
   "outputs": [],
   "source": [
    "ts = pd.Series(np.random.randn(1000), index=pd.date_range('1/1/2000', periods=1000))"
   ]
  },
  {
   "cell_type": "code",
   "execution_count": 80,
   "metadata": {
    "id": "V9JkaU8rIFiP"
   },
   "outputs": [],
   "source": [
    "ts = ts.cumsum()"
   ]
  },
  {
   "cell_type": "code",
   "execution_count": 81,
   "metadata": {},
   "outputs": [
    {
     "data": {
      "text/plain": [
       "2000-01-01    -1.668163\n",
       "2000-01-02    -2.191096\n",
       "2000-01-03    -3.906946\n",
       "2000-01-04    -4.486824\n",
       "2000-01-05    -6.612080\n",
       "                ...    \n",
       "2002-09-22    22.869826\n",
       "2002-09-23    23.454393\n",
       "2002-09-24    23.858902\n",
       "2002-09-25    24.171915\n",
       "2002-09-26    23.535458\n",
       "Freq: D, Length: 1000, dtype: float64"
      ]
     },
     "execution_count": 81,
     "metadata": {},
     "output_type": "execute_result"
    }
   ],
   "source": [
    "ts"
   ]
  },
  {
   "cell_type": "code",
   "execution_count": 82,
   "metadata": {
    "colab": {
     "base_uri": "https://localhost:8080/",
     "height": 294
    },
    "id": "jp6c-qPTIFiP",
    "outputId": "3c38eaf6-c44e-4d91-a7f6-6c8424e09615"
   },
   "outputs": [
    {
     "data": {
      "text/plain": [
       "<matplotlib.axes._subplots.AxesSubplot at 0x7f913ab38460>"
      ]
     },
     "execution_count": 82,
     "metadata": {},
     "output_type": "execute_result"
    },
    {
     "data": {
      "image/png": "[encoded data removed]",
      "text/plain": [
       "<Figure size 432x288 with 1 Axes>"
      ]
     },
     "metadata": {
      "needs_background": "light"
     },
     "output_type": "display_data"
    }
   ],
   "source": [
    "ts.plot()"
   ]
  },
  {
   "cell_type": "markdown",
   "metadata": {
    "id": "JwbAdZXqIFiP"
   },
   "source": [
    "On DataFrame, plot() is a convenience to plot all of the columns with labels:"
   ]
  },
  {
   "cell_type": "code",
   "execution_count": 83,
   "metadata": {
    "id": "cxynAZmMIFiP"
   },
   "outputs": [],
   "source": [
    "df = pd.DataFrame(np.random.randn(1000, 4), index=ts.index, columns=['A', 'B', 'C', 'D'])"
   ]
  },
  {
   "cell_type": "code",
   "execution_count": 84,
   "metadata": {
    "id": "jgq6XTfuIFiP"
   },
   "outputs": [],
   "source": [
    "df = df.cumsum()"
   ]
  },
  {
   "cell_type": "code",
   "execution_count": 87,
   "metadata": {
    "colab": {
     "base_uri": "https://localhost:8080/",
     "height": 313
    },
    "id": "B0hdvl-AIFiP",
    "outputId": "9f93dcce-7cd4-45c4-b213-69dce2b79de5"
   },
   "outputs": [
    {
     "data": {
      "text/plain": [
       "<matplotlib.legend.Legend at 0x7f913afbe430>"
      ]
     },
     "execution_count": 87,
     "metadata": {},
     "output_type": "execute_result"
    },
    {
     "data": {
      "text/plain": [
       "<Figure size 432x288 with 0 Axes>"
      ]
     },
     "metadata": {},
     "output_type": "display_data"
    },
    {
     "data": {
      "image/png": "[encoded data removed]",
      "text/plain": [
       "<Figure size 432x288 with 1 Axes>"
      ]
     },
     "metadata": {
      "needs_background": "light"
     },
     "output_type": "display_data"
    }
   ],
   "source": [
    "plt.figure() \n",
    "df.plot() \n",
    "plt.legend(loc='best')"
   ]
  },
  {
   "cell_type": "markdown",
   "metadata": {
    "id": "hEvZDg8xIFiP"
   },
   "source": [
    " <h2>6. Getting Data In/Out"
   ]
  },
  {
   "cell_type": "markdown",
   "metadata": {
    "id": "So7Me7awIFiQ"
   },
   "source": [
    "<h3>CSV"
   ]
  },
  {
   "cell_type": "markdown",
   "metadata": {
    "id": "mp_S_VHpIFiQ"
   },
   "source": [
    "*writing to  a csv file by df.to_csv(filename)*"
   ]
  },
  {
   "cell_type": "code",
   "execution_count": 13,
   "metadata": {},
   "outputs": [],
   "source": [
    "people_df = pd.read_csv(\"Project_Class/files1/weight_height_gender.csv\")"
   ]
  },
  {
   "cell_type": "code",
   "execution_count": 14,
   "metadata": {},
   "outputs": [
    {
     "data": {
      "text/html": [
       "<div>\n",
       "<style scoped>\n",
       "    .dataframe tbody tr th:only-of-type {\n",
       "        vertical-align: middle;\n",
       "    }\n",
       "\n",
       "    .dataframe tbody tr th {\n",
       "        vertical-align: top;\n",
       "    }\n",
       "\n",
       "    .dataframe thead th {\n",
       "        text-align: right;\n",
       "    }\n",
       "</style>\n",
       "<table border=\"1\" class=\"dataframe\">\n",
       "  <thead>\n",
       "    <tr style=\"text-align: right;\">\n",
       "      <th></th>\n",
       "      <th>Weight</th>\n",
       "      <th>Height</th>\n",
       "      <th>Gender</th>\n",
       "    </tr>\n",
       "  </thead>\n",
       "  <tbody>\n",
       "    <tr>\n",
       "      <th>0</th>\n",
       "      <td>90</td>\n",
       "      <td>180</td>\n",
       "      <td>Male</td>\n",
       "    </tr>\n",
       "    <tr>\n",
       "      <th>1</th>\n",
       "      <td>56</td>\n",
       "      <td>161</td>\n",
       "      <td>Female</td>\n",
       "    </tr>\n",
       "    <tr>\n",
       "      <th>2</th>\n",
       "      <td>72</td>\n",
       "      <td>186</td>\n",
       "      <td>Male</td>\n",
       "    </tr>\n",
       "    <tr>\n",
       "      <th>3</th>\n",
       "      <td>49</td>\n",
       "      <td>160</td>\n",
       "      <td>Female</td>\n",
       "    </tr>\n",
       "    <tr>\n",
       "      <th>4</th>\n",
       "      <td>78</td>\n",
       "      <td>184</td>\n",
       "      <td>Male</td>\n",
       "    </tr>\n",
       "    <tr>\n",
       "      <th>...</th>\n",
       "      <td>...</td>\n",
       "      <td>...</td>\n",
       "      <td>...</td>\n",
       "    </tr>\n",
       "    <tr>\n",
       "      <th>78</th>\n",
       "      <td>74</td>\n",
       "      <td>177</td>\n",
       "      <td>Female</td>\n",
       "    </tr>\n",
       "    <tr>\n",
       "      <th>79</th>\n",
       "      <td>46</td>\n",
       "      <td>155</td>\n",
       "      <td>Female</td>\n",
       "    </tr>\n",
       "    <tr>\n",
       "      <th>80</th>\n",
       "      <td>46</td>\n",
       "      <td>155</td>\n",
       "      <td>Female</td>\n",
       "    </tr>\n",
       "    <tr>\n",
       "      <th>81</th>\n",
       "      <td>56</td>\n",
       "      <td>167</td>\n",
       "      <td>Female</td>\n",
       "    </tr>\n",
       "    <tr>\n",
       "      <th>82</th>\n",
       "      <td>76</td>\n",
       "      <td>183</td>\n",
       "      <td>Male</td>\n",
       "    </tr>\n",
       "  </tbody>\n",
       "</table>\n",
       "<p>83 rows × 3 columns</p>\n",
       "</div>"
      ],
      "text/plain": [
       "    Weight  Height  Gender\n",
       "0       90     180    Male\n",
       "1       56     161  Female\n",
       "2       72     186    Male\n",
       "3       49     160  Female\n",
       "4       78     184    Male\n",
       "..     ...     ...     ...\n",
       "78      74     177  Female\n",
       "79      46     155  Female\n",
       "80      46     155  Female\n",
       "81      56     167  Female\n",
       "82      76     183    Male\n",
       "\n",
       "[83 rows x 3 columns]"
      ]
     },
     "execution_count": 14,
     "metadata": {},
     "output_type": "execute_result"
    }
   ],
   "source": [
    "people_df"
   ]
  },
  {
   "cell_type": "code",
   "execution_count": 19,
   "metadata": {},
   "outputs": [
    {
     "data": {
      "text/plain": [
       "[<matplotlib.lines.Line2D at 0x7fdd3d21a2e0>]"
      ]
     },
     "execution_count": 19,
     "metadata": {},
     "output_type": "execute_result"
    },
    {
     "data": {
      "image/png": "[encoded data removed]",
      "text/plain": [
       "<Figure size 432x288 with 1 Axes>"
      ]
     },
     "metadata": {
      "needs_background": "light"
     },
     "output_type": "display_data"
    }
   ],
   "source": [
    "people_df.plot(kind = \"scatter\", x = \"Weight\", y = \"Height\", color = \"red\")\n",
    "X_ln = np.array([people_df.Weight.min(),people_df.Weight.max()])\n",
    "Y_ln = np.array([people_df.Height.min(),people_df.Height.max()])\n",
    "plt.plot(X_ln, Y_ln, 'b-')"
   ]
  },
  {
   "cell_type": "code",
   "execution_count": 17,
   "metadata": {},
   "outputs": [
    {
     "data": {
      "text/plain": [
       "array([45, 45])"
      ]
     },
     "execution_count": 17,
     "metadata": {},
     "output_type": "execute_result"
    }
   ],
   "source": [
    "X_ln"
   ]
  },
  {
   "cell_type": "markdown",
   "metadata": {
    "id": "jRUUqKI_IFiQ"
   },
   "source": [
    "<h2>1. Grouping and aggregating"
   ]
  },
  {
   "cell_type": "markdown",
   "metadata": {
    "id": "sF8cr2awIFiQ"
   },
   "source": [
    "By “group by” we are referring to a process involving one or more of the following steps:\n",
    " - Splitting the data into groups based on some criteria\n",
    " - Applying a function to each group independently\n",
    " - Combining the results into a data structure"
   ]
  },
  {
   "cell_type": "markdown",
   "metadata": {
    "id": "Y9QKQ7WKIFiQ"
   },
   "source": [
    "Of these, the split step is the most straightforward. In fact, in many situations you may wish to split the data set into groups and do something with those groups yourself. In the apply step, we might wish to e.g. compute a summary statistic (or statistics) about each group, such as group sums, means or counts."
   ]
  },
  {
   "cell_type": "markdown",
   "metadata": {
    "id": "sfq7vCz7IFiR"
   },
   "source": [
    "Since the set of object instance method on pandas data structures are generally rich and expressive, we often simplywant to invoke, say, a DataFrame function on each group."
   ]
  },
  {
   "cell_type": "markdown",
   "metadata": {
    "id": "21FwgKqjIFiR"
   },
   "source": [
    "See the cookbook for some advanced strategies"
   ]
  },
  {
   "cell_type": "markdown",
   "metadata": {
    "id": "V3hd0f5vIFiR"
   },
   "source": [
    "<h3>Splitting an object into groups:"
   ]
  },
  {
   "cell_type": "markdown",
   "metadata": {
    "id": "kIEfSWT6IFiR"
   },
   "source": [
    "Pandas objects can be split on any of their axes. The abstract definition of grouping is to provide a mapping of labelsto group names. To create a GroupBy object (more on what the GroupBy object is later), you do the following:"
   ]
  },
  {
   "cell_type": "markdown",
   "metadata": {
    "id": "VE48w7DgIFiR"
   },
   "source": [
    " - grouped = obj.groupby(key) <br>\n",
    " - grouped = obj.groupby(key, axis=1) <br>\n",
    " - grouped = obj.groupby([key1, key2]) <br>"
   ]
  },
  {
   "cell_type": "markdown",
   "metadata": {
    "id": "JPnq8M9qIFiR"
   },
   "source": [
    "The mapping can be specified many different ways, but for DataFrame objects you can use a string indicating acolumn to be used to group, for example: df.groupby('A'). This is just syntactic sugar for df.groupby(df['A']),but it makes life simpler"
   ]
  },
  {
   "cell_type": "markdown",
   "metadata": {
    "id": "ATl23Vo4IFiR"
   },
   "source": [
    "Collectively we refer to the grouping objects as the keys. For example, consider the following DataFrame:"
   ]
  },
  {
   "cell_type": "code",
   "execution_count": 168,
   "metadata": {
    "id": "ek9R1ruzIFiS"
   },
   "outputs": [],
   "source": [
    "from numpy.random import randn\n",
    "df=pd.DataFrame({'A':['foo','bar','foo','bar', 'foo', 'bar','foo','foo'], 'B':['one','one','two', 'three', 'two','two','one','three'], 'C':randn(8),'D':randn(8)})"
   ]
  },
  {
   "cell_type": "code",
   "execution_count": 169,
   "metadata": {},
   "outputs": [
    {
     "data": {
      "text/html": [
       "<div>\n",
       "<style scoped>\n",
       "    .dataframe tbody tr th:only-of-type {\n",
       "        vertical-align: middle;\n",
       "    }\n",
       "\n",
       "    .dataframe tbody tr th {\n",
       "        vertical-align: top;\n",
       "    }\n",
       "\n",
       "    .dataframe thead th {\n",
       "        text-align: right;\n",
       "    }\n",
       "</style>\n",
       "<table border=\"1\" class=\"dataframe\">\n",
       "  <thead>\n",
       "    <tr style=\"text-align: right;\">\n",
       "      <th></th>\n",
       "      <th>A</th>\n",
       "      <th>B</th>\n",
       "      <th>C</th>\n",
       "      <th>D</th>\n",
       "    </tr>\n",
       "  </thead>\n",
       "  <tbody>\n",
       "    <tr>\n",
       "      <th>0</th>\n",
       "      <td>foo</td>\n",
       "      <td>one</td>\n",
       "      <td>-0.477109</td>\n",
       "      <td>0.116676</td>\n",
       "    </tr>\n",
       "    <tr>\n",
       "      <th>1</th>\n",
       "      <td>bar</td>\n",
       "      <td>one</td>\n",
       "      <td>-0.621572</td>\n",
       "      <td>-0.661617</td>\n",
       "    </tr>\n",
       "    <tr>\n",
       "      <th>2</th>\n",
       "      <td>foo</td>\n",
       "      <td>two</td>\n",
       "      <td>-0.325150</td>\n",
       "      <td>-1.605153</td>\n",
       "    </tr>\n",
       "    <tr>\n",
       "      <th>3</th>\n",
       "      <td>bar</td>\n",
       "      <td>three</td>\n",
       "      <td>-0.775265</td>\n",
       "      <td>0.696430</td>\n",
       "    </tr>\n",
       "    <tr>\n",
       "      <th>4</th>\n",
       "      <td>foo</td>\n",
       "      <td>two</td>\n",
       "      <td>-0.269058</td>\n",
       "      <td>-1.295812</td>\n",
       "    </tr>\n",
       "    <tr>\n",
       "      <th>5</th>\n",
       "      <td>bar</td>\n",
       "      <td>two</td>\n",
       "      <td>-0.552169</td>\n",
       "      <td>0.524251</td>\n",
       "    </tr>\n",
       "    <tr>\n",
       "      <th>6</th>\n",
       "      <td>foo</td>\n",
       "      <td>one</td>\n",
       "      <td>0.202609</td>\n",
       "      <td>2.204817</td>\n",
       "    </tr>\n",
       "    <tr>\n",
       "      <th>7</th>\n",
       "      <td>foo</td>\n",
       "      <td>three</td>\n",
       "      <td>0.292919</td>\n",
       "      <td>0.042552</td>\n",
       "    </tr>\n",
       "  </tbody>\n",
       "</table>\n",
       "</div>"
      ],
      "text/plain": [
       "     A      B         C         D\n",
       "0  foo    one -0.477109  0.116676\n",
       "1  bar    one -0.621572 -0.661617\n",
       "2  foo    two -0.325150 -1.605153\n",
       "3  bar  three -0.775265  0.696430\n",
       "4  foo    two -0.269058 -1.295812\n",
       "5  bar    two -0.552169  0.524251\n",
       "6  foo    one  0.202609  2.204817\n",
       "7  foo  three  0.292919  0.042552"
      ]
     },
     "execution_count": 169,
     "metadata": {},
     "output_type": "execute_result"
    }
   ],
   "source": [
    "df"
   ]
  },
  {
   "cell_type": "code",
   "execution_count": 99,
   "metadata": {
    "id": "yPh-kDnFIFiS"
   },
   "outputs": [],
   "source": [
    "grouped=df.groupby('A')"
   ]
  },
  {
   "cell_type": "code",
   "execution_count": 101,
   "metadata": {},
   "outputs": [
    {
     "name": "stdout",
     "output_type": "stream",
     "text": [
      "bar      A      B         C         D\n",
      "1  bar    one -1.082822 -0.000215\n",
      "3  bar  three -0.546066  0.555632\n",
      "5  bar    two  0.228987  0.334580\n",
      "foo      A      B         C         D\n",
      "0  foo    one -1.619137 -2.746519\n",
      "2  foo    two  1.843902 -1.116060\n",
      "4  foo    two -0.041678 -0.742646\n",
      "6  foo    one -0.803585 -0.319071\n",
      "7  foo  three  0.063057  1.188441\n"
     ]
    }
   ],
   "source": [
    "for name, group in grouped:\n",
    "    print(name, group)"
   ]
  },
  {
   "cell_type": "code",
   "execution_count": 102,
   "metadata": {
    "id": "Bfvi8uG_IFiS"
   },
   "outputs": [],
   "source": [
    "grouped=df.groupby(['A','B'])"
   ]
  },
  {
   "cell_type": "code",
   "execution_count": 103,
   "metadata": {},
   "outputs": [
    {
     "name": "stdout",
     "output_type": "stream",
     "text": [
      "('bar', 'one')      A    B         C         D\n",
      "1  bar  one -1.082822 -0.000215\n",
      "('bar', 'three')      A      B         C         D\n",
      "3  bar  three -0.546066  0.555632\n",
      "('bar', 'two')      A    B         C        D\n",
      "5  bar  two  0.228987  0.33458\n",
      "('foo', 'one')      A    B         C         D\n",
      "0  foo  one -1.619137 -2.746519\n",
      "6  foo  one -0.803585 -0.319071\n",
      "('foo', 'three')      A      B         C         D\n",
      "7  foo  three  0.063057  1.188441\n",
      "('foo', 'two')      A    B         C         D\n",
      "2  foo  two  1.843902 -1.116060\n",
      "4  foo  two -0.041678 -0.742646\n"
     ]
    }
   ],
   "source": [
    "for name, group in grouped:\n",
    "    print(name, group)"
   ]
  },
  {
   "cell_type": "markdown",
   "metadata": {
    "id": "xBhNtkDfIFiS"
   },
   "source": [
    "These will split the DataFrame on its index (rows). We could also split by the columns by using a function (try it!):"
   ]
  },
  {
   "cell_type": "code",
   "execution_count": 104,
   "metadata": {
    "id": "qDoVYq0jIFiT"
   },
   "outputs": [],
   "source": [
    "def get_letter_type(letter):\n",
    "    if letter.lower()in'aeiou':\n",
    "        return 'vowel'\n",
    "    else:\n",
    "        return 'consonant'"
   ]
  },
  {
   "cell_type": "code",
   "execution_count": 105,
   "metadata": {
    "id": "NVoDx-qGIFiT"
   },
   "outputs": [],
   "source": [
    "grouped=df.groupby(get_letter_type,axis=1)"
   ]
  },
  {
   "cell_type": "code",
   "execution_count": 106,
   "metadata": {},
   "outputs": [
    {
     "name": "stdout",
     "output_type": "stream",
     "text": [
      "consonant        B         C         D\n",
      "0    one -1.619137 -2.746519\n",
      "1    one -1.082822 -0.000215\n",
      "2    two  1.843902 -1.116060\n",
      "3  three -0.546066  0.555632\n",
      "4    two -0.041678 -0.742646\n",
      "5    two  0.228987  0.334580\n",
      "6    one -0.803585 -0.319071\n",
      "7  three  0.063057  1.188441\n",
      "vowel      A\n",
      "0  foo\n",
      "1  bar\n",
      "2  foo\n",
      "3  bar\n",
      "4  foo\n",
      "5  bar\n",
      "6  foo\n",
      "7  foo\n"
     ]
    }
   ],
   "source": [
    "for name, group in grouped:\n",
    "    print(name, group)"
   ]
  },
  {
   "cell_type": "markdown",
   "metadata": {
    "id": "4ZKsxYQ_IFiT"
   },
   "source": [
    "Starting with 0.8, pandas Index objects now supports duplicate values. If a non-unique index is used as the group keyin a groupby operation, all values for the same index value will be considered to be in one group and thus the output of aggregation functions will only contain unique index values:"
   ]
  },
  {
   "cell_type": "code",
   "execution_count": 107,
   "metadata": {
    "id": "_EAtulWOIFiT"
   },
   "outputs": [],
   "source": [
    "lst=[1,2,3,1,2,3]"
   ]
  },
  {
   "cell_type": "code",
   "execution_count": 108,
   "metadata": {
    "id": "Keq-OjIaIFiT"
   },
   "outputs": [],
   "source": [
    "s=pd.Series([1,2,3,10,20,30],lst)"
   ]
  },
  {
   "cell_type": "code",
   "execution_count": 109,
   "metadata": {
    "id": "Rcu1YQCHIFiU"
   },
   "outputs": [],
   "source": [
    "grouped=s.groupby(level=0)"
   ]
  },
  {
   "cell_type": "code",
   "execution_count": 112,
   "metadata": {
    "colab": {
     "base_uri": "https://localhost:8080/"
    },
    "id": "avwTvy4AIFiU",
    "outputId": "ce6af6ae-8939-467f-cd9d-1e7270088c04"
   },
   "outputs": [
    {
     "data": {
      "text/plain": [
       "1    1\n",
       "2    2\n",
       "3    3\n",
       "dtype: int64"
      ]
     },
     "execution_count": 112,
     "metadata": {},
     "output_type": "execute_result"
    }
   ],
   "source": [
    "grouped.first()"
   ]
  },
  {
   "cell_type": "code",
   "execution_count": 113,
   "metadata": {
    "colab": {
     "base_uri": "https://localhost:8080/"
    },
    "id": "wwxWJXV5IFiU",
    "outputId": "64f522df-7eae-462c-fce3-e22741238269"
   },
   "outputs": [
    {
     "data": {
      "text/plain": [
       "1    10\n",
       "2    20\n",
       "3    30\n",
       "dtype: int64"
      ]
     },
     "execution_count": 113,
     "metadata": {},
     "output_type": "execute_result"
    }
   ],
   "source": [
    "grouped.last()"
   ]
  },
  {
   "cell_type": "code",
   "execution_count": 114,
   "metadata": {
    "colab": {
     "base_uri": "https://localhost:8080/"
    },
    "id": "8jngOggEIFiU",
    "outputId": "2eb6fe78-807a-4d7c-9973-78aea2af8350"
   },
   "outputs": [
    {
     "data": {
      "text/plain": [
       "1    11\n",
       "2    22\n",
       "3    33\n",
       "dtype: int64"
      ]
     },
     "execution_count": 114,
     "metadata": {},
     "output_type": "execute_result"
    }
   ],
   "source": [
    "grouped.sum()"
   ]
  },
  {
   "cell_type": "markdown",
   "metadata": {
    "id": "rUV-M8NXIFiV"
   },
   "source": [
    "Note that no splitting occurs until it’s needed. Creating the GroupBy object only verifies that you’ve passed a valid mapping."
   ]
  },
  {
   "cell_type": "markdown",
   "metadata": {
    "id": "-74Ssn6CIFiV"
   },
   "source": [
    "Note: Many kinds of complicated data manipulations can be expressed in terms of GroupBy operations (though can’t be guaranteed to be the most efficient). You can get quite creative with the label mapping functions."
   ]
  },
  {
   "cell_type": "markdown",
   "metadata": {
    "id": "mT0ApxzIIFiV"
   },
   "source": [
    "<h3>Aggregation"
   ]
  },
  {
   "cell_type": "markdown",
   "metadata": {
    "id": "Xs6MUkt2IFiV"
   },
   "source": [
    "Once the GroupBy object has been created, several methods are available to perform a computation on the groupeddata."
   ]
  },
  {
   "cell_type": "markdown",
   "metadata": {
    "id": "1jnUQnlEIFiV"
   },
   "source": [
    "An obvious one is aggregation via the 'aggregate' or equivalently 'agg' method:"
   ]
  },
  {
   "cell_type": "code",
   "execution_count": 115,
   "metadata": {
    "id": "iKALNg7NIFiW"
   },
   "outputs": [],
   "source": [
    "grouped=df.groupby('A')"
   ]
  },
  {
   "cell_type": "code",
   "execution_count": 116,
   "metadata": {
    "colab": {
     "base_uri": "https://localhost:8080/",
     "height": 143
    },
    "id": "SYKu7sZMIFiW",
    "outputId": "ac875522-ed18-4e1c-d2be-22aa5bdd1279"
   },
   "outputs": [
    {
     "data": {
      "text/html": [
       "<div>\n",
       "<style scoped>\n",
       "    .dataframe tbody tr th:only-of-type {\n",
       "        vertical-align: middle;\n",
       "    }\n",
       "\n",
       "    .dataframe tbody tr th {\n",
       "        vertical-align: top;\n",
       "    }\n",
       "\n",
       "    .dataframe thead th {\n",
       "        text-align: right;\n",
       "    }\n",
       "</style>\n",
       "<table border=\"1\" class=\"dataframe\">\n",
       "  <thead>\n",
       "    <tr style=\"text-align: right;\">\n",
       "      <th></th>\n",
       "      <th>C</th>\n",
       "      <th>D</th>\n",
       "    </tr>\n",
       "    <tr>\n",
       "      <th>A</th>\n",
       "      <th></th>\n",
       "      <th></th>\n",
       "    </tr>\n",
       "  </thead>\n",
       "  <tbody>\n",
       "    <tr>\n",
       "      <th>bar</th>\n",
       "      <td>-1.399902</td>\n",
       "      <td>0.889998</td>\n",
       "    </tr>\n",
       "    <tr>\n",
       "      <th>foo</th>\n",
       "      <td>-0.557441</td>\n",
       "      <td>-3.735855</td>\n",
       "    </tr>\n",
       "  </tbody>\n",
       "</table>\n",
       "</div>"
      ],
      "text/plain": [
       "            C         D\n",
       "A                      \n",
       "bar -1.399902  0.889998\n",
       "foo -0.557441 -3.735855"
      ]
     },
     "execution_count": 116,
     "metadata": {},
     "output_type": "execute_result"
    }
   ],
   "source": [
    "grouped.aggregate(np.sum)"
   ]
  },
  {
   "cell_type": "code",
   "execution_count": 117,
   "metadata": {
    "id": "zREdnj4UIFiW"
   },
   "outputs": [],
   "source": [
    " grouped = df.groupby(['A', 'B'])"
   ]
  },
  {
   "cell_type": "code",
   "execution_count": 118,
   "metadata": {
    "colab": {
     "base_uri": "https://localhost:8080/",
     "height": 269
    },
    "id": "jw0mzzMuIFiW",
    "outputId": "a7c62716-ac5b-45f6-8746-8e6082c9ba2f",
    "scrolled": true
   },
   "outputs": [
    {
     "data": {
      "text/html": [
       "<div>\n",
       "<style scoped>\n",
       "    .dataframe tbody tr th:only-of-type {\n",
       "        vertical-align: middle;\n",
       "    }\n",
       "\n",
       "    .dataframe tbody tr th {\n",
       "        vertical-align: top;\n",
       "    }\n",
       "\n",
       "    .dataframe thead th {\n",
       "        text-align: right;\n",
       "    }\n",
       "</style>\n",
       "<table border=\"1\" class=\"dataframe\">\n",
       "  <thead>\n",
       "    <tr style=\"text-align: right;\">\n",
       "      <th></th>\n",
       "      <th></th>\n",
       "      <th>C</th>\n",
       "      <th>D</th>\n",
       "    </tr>\n",
       "    <tr>\n",
       "      <th>A</th>\n",
       "      <th>B</th>\n",
       "      <th></th>\n",
       "      <th></th>\n",
       "    </tr>\n",
       "  </thead>\n",
       "  <tbody>\n",
       "    <tr>\n",
       "      <th rowspan=\"3\" valign=\"top\">bar</th>\n",
       "      <th>one</th>\n",
       "      <td>-1.082822</td>\n",
       "      <td>-0.000215</td>\n",
       "    </tr>\n",
       "    <tr>\n",
       "      <th>three</th>\n",
       "      <td>-0.546066</td>\n",
       "      <td>0.555632</td>\n",
       "    </tr>\n",
       "    <tr>\n",
       "      <th>two</th>\n",
       "      <td>0.228987</td>\n",
       "      <td>0.334580</td>\n",
       "    </tr>\n",
       "    <tr>\n",
       "      <th rowspan=\"3\" valign=\"top\">foo</th>\n",
       "      <th>one</th>\n",
       "      <td>-2.422722</td>\n",
       "      <td>-3.065590</td>\n",
       "    </tr>\n",
       "    <tr>\n",
       "      <th>three</th>\n",
       "      <td>0.063057</td>\n",
       "      <td>1.188441</td>\n",
       "    </tr>\n",
       "    <tr>\n",
       "      <th>two</th>\n",
       "      <td>1.802224</td>\n",
       "      <td>-1.858706</td>\n",
       "    </tr>\n",
       "  </tbody>\n",
       "</table>\n",
       "</div>"
      ],
      "text/plain": [
       "                  C         D\n",
       "A   B                        \n",
       "bar one   -1.082822 -0.000215\n",
       "    three -0.546066  0.555632\n",
       "    two    0.228987  0.334580\n",
       "foo one   -2.422722 -3.065590\n",
       "    three  0.063057  1.188441\n",
       "    two    1.802224 -1.858706"
      ]
     },
     "execution_count": 118,
     "metadata": {},
     "output_type": "execute_result"
    }
   ],
   "source": [
    " grouped.aggregate(np.sum)"
   ]
  },
  {
   "cell_type": "markdown",
   "metadata": {
    "id": "s0yICB18IFiW"
   },
   "source": [
    "As you can see, <mark style=background-color:yellow>the result of</mark> the aggregation will have the group names as the new index along the grouped axis. In the case of multiple keys, the result is a MultiIndex by default, though this can be changed by using the `as_index` option:"
   ]
  },
  {
   "cell_type": "code",
   "execution_count": 124,
   "metadata": {
    "id": "PkQ_p4jdIFib"
   },
   "outputs": [],
   "source": [
    "grouped = df.groupby(['A', 'B'], as_index=False)"
   ]
  },
  {
   "cell_type": "code",
   "execution_count": 125,
   "metadata": {
    "colab": {
     "base_uri": "https://localhost:8080/",
     "height": 238
    },
    "id": "_oxUQ4SjIFib",
    "outputId": "ed76d5c8-40a1-4f88-fe55-0c6eeb8da19d"
   },
   "outputs": [
    {
     "data": {
      "text/html": [
       "<div>\n",
       "<style scoped>\n",
       "    .dataframe tbody tr th:only-of-type {\n",
       "        vertical-align: middle;\n",
       "    }\n",
       "\n",
       "    .dataframe tbody tr th {\n",
       "        vertical-align: top;\n",
       "    }\n",
       "\n",
       "    .dataframe thead th {\n",
       "        text-align: right;\n",
       "    }\n",
       "</style>\n",
       "<table border=\"1\" class=\"dataframe\">\n",
       "  <thead>\n",
       "    <tr style=\"text-align: right;\">\n",
       "      <th></th>\n",
       "      <th>A</th>\n",
       "      <th>B</th>\n",
       "      <th>C</th>\n",
       "      <th>D</th>\n",
       "    </tr>\n",
       "  </thead>\n",
       "  <tbody>\n",
       "    <tr>\n",
       "      <th>0</th>\n",
       "      <td>bar</td>\n",
       "      <td>one</td>\n",
       "      <td>-1.082822</td>\n",
       "      <td>-0.000215</td>\n",
       "    </tr>\n",
       "    <tr>\n",
       "      <th>1</th>\n",
       "      <td>bar</td>\n",
       "      <td>three</td>\n",
       "      <td>-0.546066</td>\n",
       "      <td>0.555632</td>\n",
       "    </tr>\n",
       "    <tr>\n",
       "      <th>2</th>\n",
       "      <td>bar</td>\n",
       "      <td>two</td>\n",
       "      <td>0.228987</td>\n",
       "      <td>0.334580</td>\n",
       "    </tr>\n",
       "    <tr>\n",
       "      <th>3</th>\n",
       "      <td>foo</td>\n",
       "      <td>one</td>\n",
       "      <td>-2.422722</td>\n",
       "      <td>-3.065590</td>\n",
       "    </tr>\n",
       "    <tr>\n",
       "      <th>4</th>\n",
       "      <td>foo</td>\n",
       "      <td>three</td>\n",
       "      <td>0.063057</td>\n",
       "      <td>1.188441</td>\n",
       "    </tr>\n",
       "    <tr>\n",
       "      <th>5</th>\n",
       "      <td>foo</td>\n",
       "      <td>two</td>\n",
       "      <td>1.802224</td>\n",
       "      <td>-1.858706</td>\n",
       "    </tr>\n",
       "  </tbody>\n",
       "</table>\n",
       "</div>"
      ],
      "text/plain": [
       "     A      B         C         D\n",
       "0  bar    one -1.082822 -0.000215\n",
       "1  bar  three -0.546066  0.555632\n",
       "2  bar    two  0.228987  0.334580\n",
       "3  foo    one -2.422722 -3.065590\n",
       "4  foo  three  0.063057  1.188441\n",
       "5  foo    two  1.802224 -1.858706"
      ]
     },
     "execution_count": 125,
     "metadata": {},
     "output_type": "execute_result"
    }
   ],
   "source": [
    "grouped.aggregate(np.sum)"
   ]
  },
  {
   "cell_type": "markdown",
   "metadata": {
    "id": "YyVOlH45IFic"
   },
   "source": [
    "Another simple aggregation example is to compute the size of each group. This is included in GroupBy as the `size`\n",
    "method. It returns a Series whose index are the group names and whose values are the sizes of each group."
   ]
  },
  {
   "cell_type": "code",
   "execution_count": 126,
   "metadata": {
    "colab": {
     "base_uri": "https://localhost:8080/",
     "height": 238
    },
    "id": "J46jmykPIFic",
    "outputId": "2f9ef2e6-410a-4a91-a2a4-663c86249e7e"
   },
   "outputs": [
    {
     "data": {
      "text/plain": [
       "A    B    \n",
       "bar  one      1\n",
       "     three    1\n",
       "     two      1\n",
       "foo  one      2\n",
       "     three    1\n",
       "     two      2\n",
       "dtype: int64"
      ]
     },
     "execution_count": 126,
     "metadata": {},
     "output_type": "execute_result"
    }
   ],
   "source": [
    " grouped.size()"
   ]
  },
  {
   "cell_type": "code",
   "execution_count": 127,
   "metadata": {
    "colab": {
     "base_uri": "https://localhost:8080/",
     "height": 333
    },
    "id": "dDX4X5dRIFic",
    "outputId": "dee3a17b-936b-43e7-e5d8-344109c0d7c7"
   },
   "outputs": [
    {
     "data": {
      "text/html": [
       "<div>\n",
       "<style scoped>\n",
       "    .dataframe tbody tr th:only-of-type {\n",
       "        vertical-align: middle;\n",
       "    }\n",
       "\n",
       "    .dataframe tbody tr th {\n",
       "        vertical-align: top;\n",
       "    }\n",
       "\n",
       "    .dataframe thead tr th {\n",
       "        text-align: left;\n",
       "    }\n",
       "</style>\n",
       "<table border=\"1\" class=\"dataframe\">\n",
       "  <thead>\n",
       "    <tr>\n",
       "      <th></th>\n",
       "      <th colspan=\"8\" halign=\"left\">C</th>\n",
       "      <th colspan=\"8\" halign=\"left\">D</th>\n",
       "    </tr>\n",
       "    <tr>\n",
       "      <th></th>\n",
       "      <th>count</th>\n",
       "      <th>mean</th>\n",
       "      <th>std</th>\n",
       "      <th>min</th>\n",
       "      <th>25%</th>\n",
       "      <th>50%</th>\n",
       "      <th>75%</th>\n",
       "      <th>max</th>\n",
       "      <th>count</th>\n",
       "      <th>mean</th>\n",
       "      <th>std</th>\n",
       "      <th>min</th>\n",
       "      <th>25%</th>\n",
       "      <th>50%</th>\n",
       "      <th>75%</th>\n",
       "      <th>max</th>\n",
       "    </tr>\n",
       "  </thead>\n",
       "  <tbody>\n",
       "    <tr>\n",
       "      <th>0</th>\n",
       "      <td>1.0</td>\n",
       "      <td>-1.082822</td>\n",
       "      <td>NaN</td>\n",
       "      <td>-1.082822</td>\n",
       "      <td>-1.082822</td>\n",
       "      <td>-1.082822</td>\n",
       "      <td>-1.082822</td>\n",
       "      <td>-1.082822</td>\n",
       "      <td>1.0</td>\n",
       "      <td>-0.000215</td>\n",
       "      <td>NaN</td>\n",
       "      <td>-0.000215</td>\n",
       "      <td>-0.000215</td>\n",
       "      <td>-0.000215</td>\n",
       "      <td>-0.000215</td>\n",
       "      <td>-0.000215</td>\n",
       "    </tr>\n",
       "    <tr>\n",
       "      <th>1</th>\n",
       "      <td>1.0</td>\n",
       "      <td>-0.546066</td>\n",
       "      <td>NaN</td>\n",
       "      <td>-0.546066</td>\n",
       "      <td>-0.546066</td>\n",
       "      <td>-0.546066</td>\n",
       "      <td>-0.546066</td>\n",
       "      <td>-0.546066</td>\n",
       "      <td>1.0</td>\n",
       "      <td>0.555632</td>\n",
       "      <td>NaN</td>\n",
       "      <td>0.555632</td>\n",
       "      <td>0.555632</td>\n",
       "      <td>0.555632</td>\n",
       "      <td>0.555632</td>\n",
       "      <td>0.555632</td>\n",
       "    </tr>\n",
       "    <tr>\n",
       "      <th>2</th>\n",
       "      <td>1.0</td>\n",
       "      <td>0.228987</td>\n",
       "      <td>NaN</td>\n",
       "      <td>0.228987</td>\n",
       "      <td>0.228987</td>\n",
       "      <td>0.228987</td>\n",
       "      <td>0.228987</td>\n",
       "      <td>0.228987</td>\n",
       "      <td>1.0</td>\n",
       "      <td>0.334580</td>\n",
       "      <td>NaN</td>\n",
       "      <td>0.334580</td>\n",
       "      <td>0.334580</td>\n",
       "      <td>0.334580</td>\n",
       "      <td>0.334580</td>\n",
       "      <td>0.334580</td>\n",
       "    </tr>\n",
       "    <tr>\n",
       "      <th>3</th>\n",
       "      <td>2.0</td>\n",
       "      <td>-1.211361</td>\n",
       "      <td>0.576683</td>\n",
       "      <td>-1.619137</td>\n",
       "      <td>-1.415249</td>\n",
       "      <td>-1.211361</td>\n",
       "      <td>-1.007473</td>\n",
       "      <td>-0.803585</td>\n",
       "      <td>2.0</td>\n",
       "      <td>-1.532795</td>\n",
       "      <td>1.716465</td>\n",
       "      <td>-2.746519</td>\n",
       "      <td>-2.139657</td>\n",
       "      <td>-1.532795</td>\n",
       "      <td>-0.925933</td>\n",
       "      <td>-0.319071</td>\n",
       "    </tr>\n",
       "    <tr>\n",
       "      <th>4</th>\n",
       "      <td>1.0</td>\n",
       "      <td>0.063057</td>\n",
       "      <td>NaN</td>\n",
       "      <td>0.063057</td>\n",
       "      <td>0.063057</td>\n",
       "      <td>0.063057</td>\n",
       "      <td>0.063057</td>\n",
       "      <td>0.063057</td>\n",
       "      <td>1.0</td>\n",
       "      <td>1.188441</td>\n",
       "      <td>NaN</td>\n",
       "      <td>1.188441</td>\n",
       "      <td>1.188441</td>\n",
       "      <td>1.188441</td>\n",
       "      <td>1.188441</td>\n",
       "      <td>1.188441</td>\n",
       "    </tr>\n",
       "    <tr>\n",
       "      <th>5</th>\n",
       "      <td>2.0</td>\n",
       "      <td>0.901112</td>\n",
       "      <td>1.333306</td>\n",
       "      <td>-0.041678</td>\n",
       "      <td>0.429717</td>\n",
       "      <td>0.901112</td>\n",
       "      <td>1.372507</td>\n",
       "      <td>1.843902</td>\n",
       "      <td>2.0</td>\n",
       "      <td>-0.929353</td>\n",
       "      <td>0.264043</td>\n",
       "      <td>-1.116060</td>\n",
       "      <td>-1.022706</td>\n",
       "      <td>-0.929353</td>\n",
       "      <td>-0.835999</td>\n",
       "      <td>-0.742646</td>\n",
       "    </tr>\n",
       "  </tbody>\n",
       "</table>\n",
       "</div>"
      ],
      "text/plain": [
       "      C                                                                        \\\n",
       "  count      mean       std       min       25%       50%       75%       max   \n",
       "0   1.0 -1.082822       NaN -1.082822 -1.082822 -1.082822 -1.082822 -1.082822   \n",
       "1   1.0 -0.546066       NaN -0.546066 -0.546066 -0.546066 -0.546066 -0.546066   \n",
       "2   1.0  0.228987       NaN  0.228987  0.228987  0.228987  0.228987  0.228987   \n",
       "3   2.0 -1.211361  0.576683 -1.619137 -1.415249 -1.211361 -1.007473 -0.803585   \n",
       "4   1.0  0.063057       NaN  0.063057  0.063057  0.063057  0.063057  0.063057   \n",
       "5   2.0  0.901112  1.333306 -0.041678  0.429717  0.901112  1.372507  1.843902   \n",
       "\n",
       "      D                                                                        \n",
       "  count      mean       std       min       25%       50%       75%       max  \n",
       "0   1.0 -0.000215       NaN -0.000215 -0.000215 -0.000215 -0.000215 -0.000215  \n",
       "1   1.0  0.555632       NaN  0.555632  0.555632  0.555632  0.555632  0.555632  \n",
       "2   1.0  0.334580       NaN  0.334580  0.334580  0.334580  0.334580  0.334580  \n",
       "3   2.0 -1.532795  1.716465 -2.746519 -2.139657 -1.532795 -0.925933 -0.319071  \n",
       "4   1.0  1.188441       NaN  1.188441  1.188441  1.188441  1.188441  1.188441  \n",
       "5   2.0 -0.929353  0.264043 -1.116060 -1.022706 -0.929353 -0.835999 -0.742646  "
      ]
     },
     "execution_count": 127,
     "metadata": {},
     "output_type": "execute_result"
    }
   ],
   "source": [
    "grouped.describe()"
   ]
  },
  {
   "cell_type": "markdown",
   "metadata": {
    "id": "7jL-zmcUIFic"
   },
   "source": [
    "**Note: Aggregating functions are ones that reduce the dimension of the returned objects, for example:** *mean, sum,\n",
    "size, count, std, var, sem, describe, first, last, nth, min, max.*    \n",
    "**This is what happens when you do for example** *DataFrame.sum()* **and get back a** *Series*."
   ]
  },
  {
   "cell_type": "markdown",
   "metadata": {
    "id": "6vHLbHaEIFic"
   },
   "source": [
    "<h2>Exercise"
   ]
  },
  {
   "cell_type": "markdown",
   "metadata": {
    "id": "p0uSlpqyIFid"
   },
   "source": [
    "Write a function createFrame() that takes as input three positive integers n, m and k and returns a\n",
    "pandas DataFrame object with n rows and m columns, containing random integers in the\n",
    "range 0 to k (both endpoints included). Group the dataframe by values of the first column and compute the sum, average, min, max,\n",
    "and standard deviation."
   ]
  },
  {
   "cell_type": "code",
   "execution_count": 152,
   "metadata": {
    "id": "QtofZn-9IFid"
   },
   "outputs": [],
   "source": [
    "import math\n",
    "def createFrame(m,n, k):\n",
    "    df = pd.DataFrame(np.random.randint(k, size = (m,n)), columns = [\"col_\"+str(i) for i in range(n)])\n",
    "    grouped = df.groupby(\"col_0\")\n",
    "    return grouped.sum(), grouped.mean(), grouped.min(), grouped.max(), grouped.std()"
   ]
  },
  {
   "cell_type": "code",
   "execution_count": 154,
   "metadata": {},
   "outputs": [
    {
     "data": {
      "text/plain": [
       "(       col_1  col_2\n",
       " col_0              \n",
       " 0         32     31\n",
       " 1         32     35\n",
       " 2         29     38,\n",
       "           col_1     col_2\n",
       " col_0                    \n",
       " 0      1.066667  1.033333\n",
       " 1      0.914286  1.000000\n",
       " 2      0.828571  1.085714,\n",
       "        col_1  col_2\n",
       " col_0              \n",
       " 0          0      0\n",
       " 1          0      0\n",
       " 2          0      0,\n",
       "        col_1  col_2\n",
       " col_0              \n",
       " 0          2      2\n",
       " 1          2      2\n",
       " 2          2      2,\n",
       "           col_1     col_2\n",
       " col_0                    \n",
       " 0      0.868345  0.808717\n",
       " 1      0.817868  0.840168\n",
       " 2      0.821967  0.919444)"
      ]
     },
     "execution_count": 154,
     "metadata": {},
     "output_type": "execute_result"
    }
   ],
   "source": [
    "createFrame(100, 3, 3)"
   ]
  },
  {
   "cell_type": "markdown",
   "metadata": {
    "id": "g5Da2ZfIIFid"
   },
   "source": [
    "<H2>2. Working with missing data"
   ]
  },
  {
   "cell_type": "markdown",
   "metadata": {
    "id": "-9PMAsIeIFid"
   },
   "source": [
    "In this section, we will discuss missing (also referred to as NA) values in pandas.\n",
    "See the <font color = blue>cookbook</font> for some advanced strategies"
   ]
  },
  {
   "cell_type": "markdown",
   "metadata": {
    "id": "3Ez_SQU-IFid"
   },
   "source": [
    "<H3>Missing data basics"
   ]
  },
  {
   "cell_type": "markdown",
   "metadata": {
    "id": "sE9AEMp2IFid"
   },
   "source": [
    "<H4>When / why does data become missing?"
   ]
  },
  {
   "cell_type": "markdown",
   "metadata": {
    "id": "w_mZOoXRIFid"
   },
   "source": [
    "Some might quibble over our usage of missing. By “missing” we simply mean **null** or “not present for whatever reason”.\n",
    "Many data sets simply arrive with missing data, either because it exists and was not collected or it never existed. \n",
    "For example, in a collection of financial time series, some of the time series might start on different dates.\n",
    "Thus, values prior to the start date would generally be marked as missing.\n",
    "\n",
    "In pandas, one of the most common ways that missing data is **introduced** into a data set is by reindexing. For\n",
    "example"
   ]
  },
  {
   "cell_type": "code",
   "execution_count": 102,
   "metadata": {
    "id": "Q1uI5ghhIFie"
   },
   "outputs": [],
   "source": [
    "df = pd.DataFrame(np.random.randn(5, 3), index=['a', 'c', 'e', 'f', 'h'],columns=['one', 'two', 'three'])"
   ]
  },
  {
   "cell_type": "code",
   "execution_count": 103,
   "metadata": {
    "id": "k6_L_znLIFie"
   },
   "outputs": [],
   "source": [
    "df['four'] = 'bar'"
   ]
  },
  {
   "cell_type": "code",
   "execution_count": 104,
   "metadata": {
    "id": "txX0FQPIIFie"
   },
   "outputs": [],
   "source": [
    "df['five'] = df['one'] > 0"
   ]
  },
  {
   "cell_type": "code",
   "execution_count": 105,
   "metadata": {
    "colab": {
     "base_uri": "https://localhost:8080/",
     "height": 206
    },
    "id": "dYuuStZwIFie",
    "outputId": "8cea09fe-eff8-4eba-a0ed-dffd3b79b416"
   },
   "outputs": [
    {
     "data": {
      "text/html": [
       "<div>\n",
       "<style scoped>\n",
       "    .dataframe tbody tr th:only-of-type {\n",
       "        vertical-align: middle;\n",
       "    }\n",
       "\n",
       "    .dataframe tbody tr th {\n",
       "        vertical-align: top;\n",
       "    }\n",
       "\n",
       "    .dataframe thead th {\n",
       "        text-align: right;\n",
       "    }\n",
       "</style>\n",
       "<table border=\"1\" class=\"dataframe\">\n",
       "  <thead>\n",
       "    <tr style=\"text-align: right;\">\n",
       "      <th></th>\n",
       "      <th>one</th>\n",
       "      <th>two</th>\n",
       "      <th>three</th>\n",
       "      <th>four</th>\n",
       "      <th>five</th>\n",
       "    </tr>\n",
       "  </thead>\n",
       "  <tbody>\n",
       "    <tr>\n",
       "      <th>a</th>\n",
       "      <td>-0.706897</td>\n",
       "      <td>-0.631542</td>\n",
       "      <td>1.289141</td>\n",
       "      <td>bar</td>\n",
       "      <td>False</td>\n",
       "    </tr>\n",
       "    <tr>\n",
       "      <th>c</th>\n",
       "      <td>0.161016</td>\n",
       "      <td>-0.703575</td>\n",
       "      <td>0.657035</td>\n",
       "      <td>bar</td>\n",
       "      <td>True</td>\n",
       "    </tr>\n",
       "    <tr>\n",
       "      <th>e</th>\n",
       "      <td>-0.930488</td>\n",
       "      <td>-0.683948</td>\n",
       "      <td>-1.089541</td>\n",
       "      <td>bar</td>\n",
       "      <td>False</td>\n",
       "    </tr>\n",
       "    <tr>\n",
       "      <th>f</th>\n",
       "      <td>1.767862</td>\n",
       "      <td>0.282852</td>\n",
       "      <td>-0.103379</td>\n",
       "      <td>bar</td>\n",
       "      <td>True</td>\n",
       "    </tr>\n",
       "    <tr>\n",
       "      <th>h</th>\n",
       "      <td>0.296957</td>\n",
       "      <td>-2.403669</td>\n",
       "      <td>0.549190</td>\n",
       "      <td>bar</td>\n",
       "      <td>True</td>\n",
       "    </tr>\n",
       "  </tbody>\n",
       "</table>\n",
       "</div>"
      ],
      "text/plain": [
       "        one       two     three four   five\n",
       "a -0.706897 -0.631542  1.289141  bar  False\n",
       "c  0.161016 -0.703575  0.657035  bar   True\n",
       "e -0.930488 -0.683948 -1.089541  bar  False\n",
       "f  1.767862  0.282852 -0.103379  bar   True\n",
       "h  0.296957 -2.403669  0.549190  bar   True"
      ]
     },
     "execution_count": 105,
     "metadata": {},
     "output_type": "execute_result"
    }
   ],
   "source": [
    "df"
   ]
  },
  {
   "cell_type": "code",
   "execution_count": 106,
   "metadata": {
    "id": "9CR_fhc4IFie"
   },
   "outputs": [],
   "source": [
    "df2 = df.reindex(['a', 'b', 'c', 'd', 'e', 'f', 'g', 'h'])"
   ]
  },
  {
   "cell_type": "code",
   "execution_count": 107,
   "metadata": {
    "colab": {
     "base_uri": "https://localhost:8080/",
     "height": 300
    },
    "id": "SKMIKCJzIFif",
    "outputId": "af808ee6-65a7-4b50-c3b8-b720d2dca166"
   },
   "outputs": [
    {
     "data": {
      "text/html": [
       "<div>\n",
       "<style scoped>\n",
       "    .dataframe tbody tr th:only-of-type {\n",
       "        vertical-align: middle;\n",
       "    }\n",
       "\n",
       "    .dataframe tbody tr th {\n",
       "        vertical-align: top;\n",
       "    }\n",
       "\n",
       "    .dataframe thead th {\n",
       "        text-align: right;\n",
       "    }\n",
       "</style>\n",
       "<table border=\"1\" class=\"dataframe\">\n",
       "  <thead>\n",
       "    <tr style=\"text-align: right;\">\n",
       "      <th></th>\n",
       "      <th>one</th>\n",
       "      <th>two</th>\n",
       "      <th>three</th>\n",
       "      <th>four</th>\n",
       "      <th>five</th>\n",
       "    </tr>\n",
       "  </thead>\n",
       "  <tbody>\n",
       "    <tr>\n",
       "      <th>a</th>\n",
       "      <td>-0.706897</td>\n",
       "      <td>-0.631542</td>\n",
       "      <td>1.289141</td>\n",
       "      <td>bar</td>\n",
       "      <td>False</td>\n",
       "    </tr>\n",
       "    <tr>\n",
       "      <th>b</th>\n",
       "      <td>NaN</td>\n",
       "      <td>NaN</td>\n",
       "      <td>NaN</td>\n",
       "      <td>NaN</td>\n",
       "      <td>NaN</td>\n",
       "    </tr>\n",
       "    <tr>\n",
       "      <th>c</th>\n",
       "      <td>0.161016</td>\n",
       "      <td>-0.703575</td>\n",
       "      <td>0.657035</td>\n",
       "      <td>bar</td>\n",
       "      <td>True</td>\n",
       "    </tr>\n",
       "    <tr>\n",
       "      <th>d</th>\n",
       "      <td>NaN</td>\n",
       "      <td>NaN</td>\n",
       "      <td>NaN</td>\n",
       "      <td>NaN</td>\n",
       "      <td>NaN</td>\n",
       "    </tr>\n",
       "    <tr>\n",
       "      <th>e</th>\n",
       "      <td>-0.930488</td>\n",
       "      <td>-0.683948</td>\n",
       "      <td>-1.089541</td>\n",
       "      <td>bar</td>\n",
       "      <td>False</td>\n",
       "    </tr>\n",
       "    <tr>\n",
       "      <th>f</th>\n",
       "      <td>1.767862</td>\n",
       "      <td>0.282852</td>\n",
       "      <td>-0.103379</td>\n",
       "      <td>bar</td>\n",
       "      <td>True</td>\n",
       "    </tr>\n",
       "    <tr>\n",
       "      <th>g</th>\n",
       "      <td>NaN</td>\n",
       "      <td>NaN</td>\n",
       "      <td>NaN</td>\n",
       "      <td>NaN</td>\n",
       "      <td>NaN</td>\n",
       "    </tr>\n",
       "    <tr>\n",
       "      <th>h</th>\n",
       "      <td>0.296957</td>\n",
       "      <td>-2.403669</td>\n",
       "      <td>0.549190</td>\n",
       "      <td>bar</td>\n",
       "      <td>True</td>\n",
       "    </tr>\n",
       "  </tbody>\n",
       "</table>\n",
       "</div>"
      ],
      "text/plain": [
       "        one       two     three four   five\n",
       "a -0.706897 -0.631542  1.289141  bar  False\n",
       "b       NaN       NaN       NaN  NaN    NaN\n",
       "c  0.161016 -0.703575  0.657035  bar   True\n",
       "d       NaN       NaN       NaN  NaN    NaN\n",
       "e -0.930488 -0.683948 -1.089541  bar  False\n",
       "f  1.767862  0.282852 -0.103379  bar   True\n",
       "g       NaN       NaN       NaN  NaN    NaN\n",
       "h  0.296957 -2.403669  0.549190  bar   True"
      ]
     },
     "execution_count": 107,
     "metadata": {},
     "output_type": "execute_result"
    }
   ],
   "source": [
    "df2"
   ]
  },
  {
   "cell_type": "markdown",
   "metadata": {
    "id": "Edz1DlGKIFif"
   },
   "source": [
    "<H4>Values considered “missing”"
   ]
  },
  {
   "cell_type": "markdown",
   "metadata": {
    "id": "Bdtbsrs1IFif"
   },
   "source": [
    "As data comes in many shapes and forms, pandas aims to be flexible with regard to handling missing data. While `NaN`\n",
    "is the default missing value marker for reasons of computational speed and convenience, we need to be able to easily\n",
    "detect this value with data of different types: floating point, integer, boolean, and general object. In many cases,\n",
    "however, the Python `None` will arise and we wish to also consider that “missing” or “null”.\n",
    "\n",
    "To make detecting missing values easier (and across different array dtypes), pandas provides the `isnull()` and\n",
    "`notnull()` functions, which are also methods on `Series` objects:"
   ]
  },
  {
   "cell_type": "code",
   "execution_count": 108,
   "metadata": {
    "colab": {
     "base_uri": "https://localhost:8080/"
    },
    "id": "c4KT1HBjIFif",
    "outputId": "baaff0ca-ef34-446c-d86b-9df7a55cb4a2"
   },
   "outputs": [
    {
     "data": {
      "text/plain": [
       "a   -0.706897\n",
       "b         NaN\n",
       "c    0.161016\n",
       "d         NaN\n",
       "e   -0.930488\n",
       "f    1.767862\n",
       "g         NaN\n",
       "h    0.296957\n",
       "Name: one, dtype: float64"
      ]
     },
     "execution_count": 108,
     "metadata": {},
     "output_type": "execute_result"
    }
   ],
   "source": [
    "df2['one']"
   ]
  },
  {
   "cell_type": "code",
   "execution_count": 109,
   "metadata": {
    "colab": {
     "base_uri": "https://localhost:8080/"
    },
    "id": "8aPnn0ZvIFif",
    "outputId": "82520eab-aa0b-410e-eb51-79f5b8311c82"
   },
   "outputs": [
    {
     "data": {
      "text/plain": [
       "a    False\n",
       "b     True\n",
       "c    False\n",
       "d     True\n",
       "e    False\n",
       "f    False\n",
       "g     True\n",
       "h    False\n",
       "Name: one, dtype: bool"
      ]
     },
     "execution_count": 109,
     "metadata": {},
     "output_type": "execute_result"
    }
   ],
   "source": [
    "pd.isnull(df2['one'])"
   ]
  },
  {
   "cell_type": "code",
   "execution_count": 110,
   "metadata": {
    "colab": {
     "base_uri": "https://localhost:8080/"
    },
    "id": "k7tkO7_XIFif",
    "outputId": "33c61695-6ea7-43f6-cf81-4de581433c29"
   },
   "outputs": [
    {
     "data": {
      "text/plain": [
       "a     True\n",
       "b    False\n",
       "c     True\n",
       "d    False\n",
       "e     True\n",
       "f     True\n",
       "g    False\n",
       "h     True\n",
       "Name: four, dtype: bool"
      ]
     },
     "execution_count": 110,
     "metadata": {},
     "output_type": "execute_result"
    }
   ],
   "source": [
    "df2['four'].notnull()"
   ]
  },
  {
   "cell_type": "markdown",
   "metadata": {
    "id": "o61H-ogMIFig"
   },
   "source": [
    "**Summary**: `NaN` and `None` (in object arrays) are considered missing by the `isnull` and `notnull` functions. `inf` and `-inf` are no longer considered missing by default."
   ]
  },
  {
   "cell_type": "markdown",
   "metadata": {
    "id": "it7JRz_ZIFig"
   },
   "source": [
    "\n",
    "<H3>Inserting missing data"
   ]
  },
  {
   "cell_type": "markdown",
   "metadata": {
    "id": "IcRIIsbPIFig"
   },
   "source": [
    "You can insert missing values by simply assigning to containers. The actual missing value used will be chosen based\n",
    "on the dtype.\n",
    "\n",
    "For example, numeric containers will always use `NaN` regardless of the missing value type chosen:"
   ]
  },
  {
   "cell_type": "code",
   "execution_count": 111,
   "metadata": {
    "id": "nRSjDia3IFig"
   },
   "outputs": [],
   "source": [
    "s = pd.Series([1, 2, 3])"
   ]
  },
  {
   "cell_type": "code",
   "execution_count": 112,
   "metadata": {
    "id": "P603wdzxIFig"
   },
   "outputs": [],
   "source": [
    "s.loc[0] = None"
   ]
  },
  {
   "cell_type": "code",
   "execution_count": 113,
   "metadata": {
    "colab": {
     "base_uri": "https://localhost:8080/"
    },
    "id": "ExdO4IDDIFig",
    "outputId": "0f6313cc-92d7-4585-a484-92ec6c490fe7"
   },
   "outputs": [
    {
     "data": {
      "text/plain": [
       "0    NaN\n",
       "1    2.0\n",
       "2    3.0\n",
       "dtype: float64"
      ]
     },
     "execution_count": 113,
     "metadata": {},
     "output_type": "execute_result"
    }
   ],
   "source": [
    "s"
   ]
  },
  {
   "cell_type": "markdown",
   "metadata": {
    "id": "6fiXUdCqIFig"
   },
   "source": [
    "Likewise, datetime containers will always use `NaT`.\n",
    "\n",
    "For object containers, pandas will use the value given:"
   ]
  },
  {
   "cell_type": "code",
   "execution_count": 114,
   "metadata": {
    "id": "sGsUxdH-IFih"
   },
   "outputs": [],
   "source": [
    "s = pd.Series([\"a\", \"b\", \"c\"])"
   ]
  },
  {
   "cell_type": "code",
   "execution_count": 115,
   "metadata": {
    "id": "yVTLJsvbIFih"
   },
   "outputs": [],
   "source": [
    "s.loc[0] = None"
   ]
  },
  {
   "cell_type": "code",
   "execution_count": 116,
   "metadata": {
    "id": "OfrSTva-IFih"
   },
   "outputs": [],
   "source": [
    "s.loc[1] = np.nan"
   ]
  },
  {
   "cell_type": "code",
   "execution_count": 117,
   "metadata": {
    "colab": {
     "base_uri": "https://localhost:8080/"
    },
    "id": "DrofsvLIIFih",
    "outputId": "3dd2fe18-1130-44c5-a625-989746433cd7"
   },
   "outputs": [
    {
     "data": {
      "text/plain": [
       "0    None\n",
       "1     NaN\n",
       "2       c\n",
       "dtype: object"
      ]
     },
     "execution_count": 117,
     "metadata": {},
     "output_type": "execute_result"
    }
   ],
   "source": [
    "s"
   ]
  },
  {
   "cell_type": "markdown",
   "metadata": {
    "id": "w7F2qXWTIFih"
   },
   "source": [
    "\n",
    "<H3>Calculations with missing data"
   ]
  },
  {
   "cell_type": "markdown",
   "metadata": {
    "id": "L_L3ijUPIFih"
   },
   "source": [
    "Missing values propagate naturally through arithmetic operations between pandas objects."
   ]
  },
  {
   "cell_type": "code",
   "execution_count": 118,
   "metadata": {
    "colab": {
     "base_uri": "https://localhost:8080/",
     "height": 206
    },
    "id": "KaxXjO4NIFih",
    "outputId": "641d6d66-62b6-46e1-9dfc-f58ec21e53ce"
   },
   "outputs": [
    {
     "data": {
      "text/html": [
       "<div>\n",
       "<style scoped>\n",
       "    .dataframe tbody tr th:only-of-type {\n",
       "        vertical-align: middle;\n",
       "    }\n",
       "\n",
       "    .dataframe tbody tr th {\n",
       "        vertical-align: top;\n",
       "    }\n",
       "\n",
       "    .dataframe thead th {\n",
       "        text-align: right;\n",
       "    }\n",
       "</style>\n",
       "<table border=\"1\" class=\"dataframe\">\n",
       "  <thead>\n",
       "    <tr style=\"text-align: right;\">\n",
       "      <th></th>\n",
       "      <th>one</th>\n",
       "      <th>two</th>\n",
       "    </tr>\n",
       "  </thead>\n",
       "  <tbody>\n",
       "    <tr>\n",
       "      <th>a</th>\n",
       "      <td>NaN</td>\n",
       "      <td>-0.895770</td>\n",
       "    </tr>\n",
       "    <tr>\n",
       "      <th>c</th>\n",
       "      <td>NaN</td>\n",
       "      <td>1.066112</td>\n",
       "    </tr>\n",
       "    <tr>\n",
       "      <th>e</th>\n",
       "      <td>-0.193772</td>\n",
       "      <td>-1.147819</td>\n",
       "    </tr>\n",
       "    <tr>\n",
       "      <th>f</th>\n",
       "      <td>-2.299183</td>\n",
       "      <td>0.160662</td>\n",
       "    </tr>\n",
       "    <tr>\n",
       "      <th>h</th>\n",
       "      <td>-0.484579</td>\n",
       "      <td>1.723858</td>\n",
       "    </tr>\n",
       "  </tbody>\n",
       "</table>\n",
       "</div>"
      ],
      "text/plain": [
       "        one       two\n",
       "a       NaN -0.895770\n",
       "c       NaN  1.066112\n",
       "e -0.193772 -1.147819\n",
       "f -2.299183  0.160662\n",
       "h -0.484579  1.723858"
      ]
     },
     "execution_count": 118,
     "metadata": {},
     "output_type": "execute_result"
    }
   ],
   "source": [
    "a = pd.DataFrame(np.random.randn(5, 2), index=['a', 'c', 'e', 'f', 'h'],columns=['one', 'two'])\n",
    "a.loc['a','one'] = np.nan\n",
    "a.loc['c','one'] = np.nan\n",
    "a"
   ]
  },
  {
   "cell_type": "code",
   "execution_count": 119,
   "metadata": {
    "colab": {
     "base_uri": "https://localhost:8080/",
     "height": 206
    },
    "id": "uMoC95tGIFii",
    "outputId": "b3ff5274-002e-47f2-fe7e-6ffff6fdd1c6"
   },
   "outputs": [
    {
     "data": {
      "text/html": [
       "<div>\n",
       "<style scoped>\n",
       "    .dataframe tbody tr th:only-of-type {\n",
       "        vertical-align: middle;\n",
       "    }\n",
       "\n",
       "    .dataframe tbody tr th {\n",
       "        vertical-align: top;\n",
       "    }\n",
       "\n",
       "    .dataframe thead th {\n",
       "        text-align: right;\n",
       "    }\n",
       "</style>\n",
       "<table border=\"1\" class=\"dataframe\">\n",
       "  <thead>\n",
       "    <tr style=\"text-align: right;\">\n",
       "      <th></th>\n",
       "      <th>one</th>\n",
       "      <th>two</th>\n",
       "      <th>three</th>\n",
       "    </tr>\n",
       "  </thead>\n",
       "  <tbody>\n",
       "    <tr>\n",
       "      <th>a</th>\n",
       "      <td>NaN</td>\n",
       "      <td>0.344105</td>\n",
       "      <td>0.980132</td>\n",
       "    </tr>\n",
       "    <tr>\n",
       "      <th>c</th>\n",
       "      <td>NaN</td>\n",
       "      <td>0.672315</td>\n",
       "      <td>-0.333434</td>\n",
       "    </tr>\n",
       "    <tr>\n",
       "      <th>e</th>\n",
       "      <td>-1.197563</td>\n",
       "      <td>-0.642437</td>\n",
       "      <td>0.769472</td>\n",
       "    </tr>\n",
       "    <tr>\n",
       "      <th>f</th>\n",
       "      <td>0.535169</td>\n",
       "      <td>-0.375934</td>\n",
       "      <td>-0.695042</td>\n",
       "    </tr>\n",
       "    <tr>\n",
       "      <th>h</th>\n",
       "      <td>NaN</td>\n",
       "      <td>2.218355</td>\n",
       "      <td>0.300500</td>\n",
       "    </tr>\n",
       "  </tbody>\n",
       "</table>\n",
       "</div>"
      ],
      "text/plain": [
       "        one       two     three\n",
       "a       NaN  0.344105  0.980132\n",
       "c       NaN  0.672315 -0.333434\n",
       "e -1.197563 -0.642437  0.769472\n",
       "f  0.535169 -0.375934 -0.695042\n",
       "h       NaN  2.218355  0.300500"
      ]
     },
     "execution_count": 119,
     "metadata": {},
     "output_type": "execute_result"
    }
   ],
   "source": [
    "b = pd.DataFrame(np.random.randn(5, 3), index=['a', 'c', 'e', 'f', 'h'],columns=['one', 'two','three'])\n",
    "b.loc['a','one'] = np.nan\n",
    "b.loc['c','one'] = np.nan\n",
    "b.loc['h','one'] = np.nan\n",
    "b"
   ]
  },
  {
   "cell_type": "code",
   "execution_count": 120,
   "metadata": {
    "colab": {
     "base_uri": "https://localhost:8080/",
     "height": 206
    },
    "id": "6dzxfCj3IFii",
    "outputId": "631288ba-e406-49a8-d5be-2a87f06521a1"
   },
   "outputs": [
    {
     "data": {
      "text/html": [
       "<div>\n",
       "<style scoped>\n",
       "    .dataframe tbody tr th:only-of-type {\n",
       "        vertical-align: middle;\n",
       "    }\n",
       "\n",
       "    .dataframe tbody tr th {\n",
       "        vertical-align: top;\n",
       "    }\n",
       "\n",
       "    .dataframe thead th {\n",
       "        text-align: right;\n",
       "    }\n",
       "</style>\n",
       "<table border=\"1\" class=\"dataframe\">\n",
       "  <thead>\n",
       "    <tr style=\"text-align: right;\">\n",
       "      <th></th>\n",
       "      <th>one</th>\n",
       "      <th>three</th>\n",
       "      <th>two</th>\n",
       "    </tr>\n",
       "  </thead>\n",
       "  <tbody>\n",
       "    <tr>\n",
       "      <th>a</th>\n",
       "      <td>NaN</td>\n",
       "      <td>NaN</td>\n",
       "      <td>-0.551666</td>\n",
       "    </tr>\n",
       "    <tr>\n",
       "      <th>c</th>\n",
       "      <td>NaN</td>\n",
       "      <td>NaN</td>\n",
       "      <td>1.738427</td>\n",
       "    </tr>\n",
       "    <tr>\n",
       "      <th>e</th>\n",
       "      <td>-1.391335</td>\n",
       "      <td>NaN</td>\n",
       "      <td>-1.790256</td>\n",
       "    </tr>\n",
       "    <tr>\n",
       "      <th>f</th>\n",
       "      <td>-1.764014</td>\n",
       "      <td>NaN</td>\n",
       "      <td>-0.215272</td>\n",
       "    </tr>\n",
       "    <tr>\n",
       "      <th>h</th>\n",
       "      <td>NaN</td>\n",
       "      <td>NaN</td>\n",
       "      <td>3.942213</td>\n",
       "    </tr>\n",
       "  </tbody>\n",
       "</table>\n",
       "</div>"
      ],
      "text/plain": [
       "        one  three       two\n",
       "a       NaN    NaN -0.551666\n",
       "c       NaN    NaN  1.738427\n",
       "e -1.391335    NaN -1.790256\n",
       "f -1.764014    NaN -0.215272\n",
       "h       NaN    NaN  3.942213"
      ]
     },
     "execution_count": 120,
     "metadata": {},
     "output_type": "execute_result"
    }
   ],
   "source": [
    "a + b"
   ]
  },
  {
   "cell_type": "markdown",
   "metadata": {
    "id": "Z00mVQkSIFii"
   },
   "source": [
    "\n",
    "The descriptive statistics and computational methods are all written to account for missing data. For example:\n",
    "+ When summing data, NA (missing) values will be treated as zero\n",
    "+ If the data are all NA, the result will be NA\n",
    "+ Methods like **cumsum** and **cumprod** ignore NA values, but preserve them in the resulting arrays"
   ]
  },
  {
   "cell_type": "code",
   "execution_count": 121,
   "metadata": {
    "colab": {
     "base_uri": "https://localhost:8080/",
     "height": 206
    },
    "id": "Q4i26OC8IFii",
    "outputId": "eee1a9ee-f1c1-4fcc-fa58-adb928e30e8b"
   },
   "outputs": [
    {
     "data": {
      "text/html": [
       "<div>\n",
       "<style scoped>\n",
       "    .dataframe tbody tr th:only-of-type {\n",
       "        vertical-align: middle;\n",
       "    }\n",
       "\n",
       "    .dataframe tbody tr th {\n",
       "        vertical-align: top;\n",
       "    }\n",
       "\n",
       "    .dataframe thead th {\n",
       "        text-align: right;\n",
       "    }\n",
       "</style>\n",
       "<table border=\"1\" class=\"dataframe\">\n",
       "  <thead>\n",
       "    <tr style=\"text-align: right;\">\n",
       "      <th></th>\n",
       "      <th>one</th>\n",
       "      <th>two</th>\n",
       "      <th>three</th>\n",
       "    </tr>\n",
       "  </thead>\n",
       "  <tbody>\n",
       "    <tr>\n",
       "      <th>a</th>\n",
       "      <td>NaN</td>\n",
       "      <td>0.344105</td>\n",
       "      <td>0.980132</td>\n",
       "    </tr>\n",
       "    <tr>\n",
       "      <th>c</th>\n",
       "      <td>NaN</td>\n",
       "      <td>0.672315</td>\n",
       "      <td>-0.333434</td>\n",
       "    </tr>\n",
       "    <tr>\n",
       "      <th>e</th>\n",
       "      <td>-1.197563</td>\n",
       "      <td>-0.642437</td>\n",
       "      <td>0.769472</td>\n",
       "    </tr>\n",
       "    <tr>\n",
       "      <th>f</th>\n",
       "      <td>0.535169</td>\n",
       "      <td>-0.375934</td>\n",
       "      <td>-0.695042</td>\n",
       "    </tr>\n",
       "    <tr>\n",
       "      <th>h</th>\n",
       "      <td>NaN</td>\n",
       "      <td>2.218355</td>\n",
       "      <td>0.300500</td>\n",
       "    </tr>\n",
       "  </tbody>\n",
       "</table>\n",
       "</div>"
      ],
      "text/plain": [
       "        one       two     three\n",
       "a       NaN  0.344105  0.980132\n",
       "c       NaN  0.672315 -0.333434\n",
       "e -1.197563 -0.642437  0.769472\n",
       "f  0.535169 -0.375934 -0.695042\n",
       "h       NaN  2.218355  0.300500"
      ]
     },
     "execution_count": 121,
     "metadata": {},
     "output_type": "execute_result"
    }
   ],
   "source": [
    "df = b\n",
    "df"
   ]
  },
  {
   "cell_type": "code",
   "execution_count": 122,
   "metadata": {
    "colab": {
     "base_uri": "https://localhost:8080/"
    },
    "id": "xNqSUtJ9IFii",
    "outputId": "88bdc333-5157-4917-cab1-23cf38a657d0"
   },
   "outputs": [
    {
     "data": {
      "text/plain": [
       "-0.6623930791231137"
      ]
     },
     "execution_count": 122,
     "metadata": {},
     "output_type": "execute_result"
    }
   ],
   "source": [
    "df['one'].sum()"
   ]
  },
  {
   "cell_type": "code",
   "execution_count": 123,
   "metadata": {
    "colab": {
     "base_uri": "https://localhost:8080/"
    },
    "id": "h_gizTT6IFii",
    "outputId": "1772f84a-56b1-4392-b63e-44e06c1d3fe1"
   },
   "outputs": [
    {
     "data": {
      "text/plain": [
       "a    0.662119\n",
       "c    0.169441\n",
       "e   -0.356843\n",
       "f   -0.178602\n",
       "h    1.259428\n",
       "dtype: float64"
      ]
     },
     "execution_count": 123,
     "metadata": {},
     "output_type": "execute_result"
    }
   ],
   "source": [
    "df.mean(1)"
   ]
  },
  {
   "cell_type": "code",
   "execution_count": 124,
   "metadata": {
    "colab": {
     "base_uri": "https://localhost:8080/",
     "height": 206
    },
    "id": "kpRPcNPCIFij",
    "outputId": "7c0819bd-eb3f-48ae-f737-fa06cf035147"
   },
   "outputs": [
    {
     "data": {
      "text/html": [
       "<div>\n",
       "<style scoped>\n",
       "    .dataframe tbody tr th:only-of-type {\n",
       "        vertical-align: middle;\n",
       "    }\n",
       "\n",
       "    .dataframe tbody tr th {\n",
       "        vertical-align: top;\n",
       "    }\n",
       "\n",
       "    .dataframe thead th {\n",
       "        text-align: right;\n",
       "    }\n",
       "</style>\n",
       "<table border=\"1\" class=\"dataframe\">\n",
       "  <thead>\n",
       "    <tr style=\"text-align: right;\">\n",
       "      <th></th>\n",
       "      <th>one</th>\n",
       "      <th>two</th>\n",
       "      <th>three</th>\n",
       "    </tr>\n",
       "  </thead>\n",
       "  <tbody>\n",
       "    <tr>\n",
       "      <th>a</th>\n",
       "      <td>NaN</td>\n",
       "      <td>0.344105</td>\n",
       "      <td>0.980132</td>\n",
       "    </tr>\n",
       "    <tr>\n",
       "      <th>c</th>\n",
       "      <td>NaN</td>\n",
       "      <td>1.016420</td>\n",
       "      <td>0.646698</td>\n",
       "    </tr>\n",
       "    <tr>\n",
       "      <th>e</th>\n",
       "      <td>-1.197563</td>\n",
       "      <td>0.373983</td>\n",
       "      <td>1.416170</td>\n",
       "    </tr>\n",
       "    <tr>\n",
       "      <th>f</th>\n",
       "      <td>-0.662393</td>\n",
       "      <td>-0.001951</td>\n",
       "      <td>0.721128</td>\n",
       "    </tr>\n",
       "    <tr>\n",
       "      <th>h</th>\n",
       "      <td>NaN</td>\n",
       "      <td>2.216404</td>\n",
       "      <td>1.021628</td>\n",
       "    </tr>\n",
       "  </tbody>\n",
       "</table>\n",
       "</div>"
      ],
      "text/plain": [
       "        one       two     three\n",
       "a       NaN  0.344105  0.980132\n",
       "c       NaN  1.016420  0.646698\n",
       "e -1.197563  0.373983  1.416170\n",
       "f -0.662393 -0.001951  0.721128\n",
       "h       NaN  2.216404  1.021628"
      ]
     },
     "execution_count": 124,
     "metadata": {},
     "output_type": "execute_result"
    }
   ],
   "source": [
    "df.cumsum()"
   ]
  },
  {
   "cell_type": "markdown",
   "metadata": {
    "id": "bl6nHXC5IFij"
   },
   "source": [
    "\n",
    "<H4>NA values in GroupBy"
   ]
  },
  {
   "cell_type": "markdown",
   "metadata": {
    "id": "hn_fVGqwIFij"
   },
   "source": [
    "NA groups in GroupBy are automatically excluded. This behavior is consistent with R, for example."
   ]
  },
  {
   "cell_type": "markdown",
   "metadata": {
    "id": "-sj75D7WIFij"
   },
   "source": [
    "\n",
    "<H3>Cleaning / filling missing dat"
   ]
  },
  {
   "cell_type": "markdown",
   "metadata": {
    "id": "sT9hwNcDIFij"
   },
   "source": [
    "pandas objects are equipped with various data manipulation methods for dealing with missing data."
   ]
  },
  {
   "cell_type": "markdown",
   "metadata": {
    "id": "nNYiXh1DIFij"
   },
   "source": [
    "<H4>Filling missing values: fillna"
   ]
  },
  {
   "cell_type": "markdown",
   "metadata": {
    "id": "JrvCo-DtIFij"
   },
   "source": [
    "The **fillna** function can “fill in” NA values with non-null data in a couple of ways, which we illustrate:"
   ]
  },
  {
   "cell_type": "markdown",
   "metadata": {
    "id": "t1cA7niMIFik"
   },
   "source": [
    "**Replace NAwith a scalar value**"
   ]
  },
  {
   "cell_type": "code",
   "execution_count": 125,
   "metadata": {
    "colab": {
     "base_uri": "https://localhost:8080/",
     "height": 261
    },
    "id": "LmoEESCXIFik",
    "outputId": "e538ae5d-bb89-44b7-8be4-ebc61b3de308"
   },
   "outputs": [
    {
     "name": "stderr",
     "output_type": "stream",
     "text": [
      "<ipython-input-125-93cdd9412b7a>:4: FutureWarning: The pandas.datetime class is deprecated and will be removed from pandas in a future version. Import from datetime module instead.\n",
      "  df2['six'] = pd.datetime.now().date()\n"
     ]
    },
    {
     "data": {
      "text/html": [
       "<div>\n",
       "<style scoped>\n",
       "    .dataframe tbody tr th:only-of-type {\n",
       "        vertical-align: middle;\n",
       "    }\n",
       "\n",
       "    .dataframe tbody tr th {\n",
       "        vertical-align: top;\n",
       "    }\n",
       "\n",
       "    .dataframe thead th {\n",
       "        text-align: right;\n",
       "    }\n",
       "</style>\n",
       "<table border=\"1\" class=\"dataframe\">\n",
       "  <thead>\n",
       "    <tr style=\"text-align: right;\">\n",
       "      <th></th>\n",
       "      <th>one</th>\n",
       "      <th>two</th>\n",
       "      <th>three</th>\n",
       "      <th>four</th>\n",
       "      <th>five</th>\n",
       "      <th>six</th>\n",
       "    </tr>\n",
       "  </thead>\n",
       "  <tbody>\n",
       "    <tr>\n",
       "      <th>a</th>\n",
       "      <td>NaN</td>\n",
       "      <td>0.344105</td>\n",
       "      <td>0.980132</td>\n",
       "      <td>bar</td>\n",
       "      <td>True</td>\n",
       "      <td>2022-02-05</td>\n",
       "    </tr>\n",
       "    <tr>\n",
       "      <th>c</th>\n",
       "      <td>NaN</td>\n",
       "      <td>0.672315</td>\n",
       "      <td>-0.333434</td>\n",
       "      <td>bar</td>\n",
       "      <td>True</td>\n",
       "      <td>2022-02-05</td>\n",
       "    </tr>\n",
       "    <tr>\n",
       "      <th>e</th>\n",
       "      <td>-1.197563</td>\n",
       "      <td>-0.642437</td>\n",
       "      <td>0.769472</td>\n",
       "      <td>bar</td>\n",
       "      <td>False</td>\n",
       "      <td>2022-02-05</td>\n",
       "    </tr>\n",
       "    <tr>\n",
       "      <th>f</th>\n",
       "      <td>0.535169</td>\n",
       "      <td>-0.375934</td>\n",
       "      <td>-0.695042</td>\n",
       "      <td>bar</td>\n",
       "      <td>False</td>\n",
       "      <td>2022-02-05</td>\n",
       "    </tr>\n",
       "    <tr>\n",
       "      <th>h</th>\n",
       "      <td>NaN</td>\n",
       "      <td>2.218355</td>\n",
       "      <td>0.300500</td>\n",
       "      <td>bar</td>\n",
       "      <td>True</td>\n",
       "      <td>2022-02-05</td>\n",
       "    </tr>\n",
       "  </tbody>\n",
       "</table>\n",
       "</div>"
      ],
      "text/plain": [
       "        one       two     three four   five         six\n",
       "a       NaN  0.344105  0.980132  bar   True  2022-02-05\n",
       "c       NaN  0.672315 -0.333434  bar   True  2022-02-05\n",
       "e -1.197563 -0.642437  0.769472  bar  False  2022-02-05\n",
       "f  0.535169 -0.375934 -0.695042  bar  False  2022-02-05\n",
       "h       NaN  2.218355  0.300500  bar   True  2022-02-05"
      ]
     },
     "execution_count": 125,
     "metadata": {},
     "output_type": "execute_result"
    }
   ],
   "source": [
    "df2 = df\n",
    "df2['four'] = 'bar'\n",
    "df2['five'] = b['two'] > 0\n",
    "df2['six'] = pd.datetime.now().date()\n",
    "df2"
   ]
  },
  {
   "cell_type": "code",
   "execution_count": 126,
   "metadata": {
    "colab": {
     "base_uri": "https://localhost:8080/",
     "height": 206
    },
    "id": "e8mEZ2HPIFik",
    "outputId": "8d25906f-b4ff-43c5-dce2-4c8ee9101c7c"
   },
   "outputs": [
    {
     "data": {
      "text/html": [
       "<div>\n",
       "<style scoped>\n",
       "    .dataframe tbody tr th:only-of-type {\n",
       "        vertical-align: middle;\n",
       "    }\n",
       "\n",
       "    .dataframe tbody tr th {\n",
       "        vertical-align: top;\n",
       "    }\n",
       "\n",
       "    .dataframe thead th {\n",
       "        text-align: right;\n",
       "    }\n",
       "</style>\n",
       "<table border=\"1\" class=\"dataframe\">\n",
       "  <thead>\n",
       "    <tr style=\"text-align: right;\">\n",
       "      <th></th>\n",
       "      <th>one</th>\n",
       "      <th>two</th>\n",
       "      <th>three</th>\n",
       "      <th>four</th>\n",
       "      <th>five</th>\n",
       "      <th>six</th>\n",
       "    </tr>\n",
       "  </thead>\n",
       "  <tbody>\n",
       "    <tr>\n",
       "      <th>a</th>\n",
       "      <td>0.000000</td>\n",
       "      <td>0.344105</td>\n",
       "      <td>0.980132</td>\n",
       "      <td>bar</td>\n",
       "      <td>True</td>\n",
       "      <td>2022-02-05</td>\n",
       "    </tr>\n",
       "    <tr>\n",
       "      <th>c</th>\n",
       "      <td>0.000000</td>\n",
       "      <td>0.672315</td>\n",
       "      <td>-0.333434</td>\n",
       "      <td>bar</td>\n",
       "      <td>True</td>\n",
       "      <td>2022-02-05</td>\n",
       "    </tr>\n",
       "    <tr>\n",
       "      <th>e</th>\n",
       "      <td>-1.197563</td>\n",
       "      <td>-0.642437</td>\n",
       "      <td>0.769472</td>\n",
       "      <td>bar</td>\n",
       "      <td>False</td>\n",
       "      <td>2022-02-05</td>\n",
       "    </tr>\n",
       "    <tr>\n",
       "      <th>f</th>\n",
       "      <td>0.535169</td>\n",
       "      <td>-0.375934</td>\n",
       "      <td>-0.695042</td>\n",
       "      <td>bar</td>\n",
       "      <td>False</td>\n",
       "      <td>2022-02-05</td>\n",
       "    </tr>\n",
       "    <tr>\n",
       "      <th>h</th>\n",
       "      <td>0.000000</td>\n",
       "      <td>2.218355</td>\n",
       "      <td>0.300500</td>\n",
       "      <td>bar</td>\n",
       "      <td>True</td>\n",
       "      <td>2022-02-05</td>\n",
       "    </tr>\n",
       "  </tbody>\n",
       "</table>\n",
       "</div>"
      ],
      "text/plain": [
       "        one       two     three four   five         six\n",
       "a  0.000000  0.344105  0.980132  bar   True  2022-02-05\n",
       "c  0.000000  0.672315 -0.333434  bar   True  2022-02-05\n",
       "e -1.197563 -0.642437  0.769472  bar  False  2022-02-05\n",
       "f  0.535169 -0.375934 -0.695042  bar  False  2022-02-05\n",
       "h  0.000000  2.218355  0.300500  bar   True  2022-02-05"
      ]
     },
     "execution_count": 126,
     "metadata": {},
     "output_type": "execute_result"
    }
   ],
   "source": [
    "df2.fillna(0)"
   ]
  },
  {
   "cell_type": "code",
   "execution_count": 127,
   "metadata": {
    "colab": {
     "base_uri": "https://localhost:8080/"
    },
    "id": "GL3vI_ggIFik",
    "outputId": "e7a21729-964a-421d-e9ae-2e678273725a"
   },
   "outputs": [
    {
     "data": {
      "text/plain": [
       "a    bar\n",
       "c    bar\n",
       "e    bar\n",
       "f    bar\n",
       "h    bar\n",
       "Name: four, dtype: object"
      ]
     },
     "execution_count": 127,
     "metadata": {},
     "output_type": "execute_result"
    }
   ],
   "source": [
    "df2['four'].fillna('missing')"
   ]
  },
  {
   "cell_type": "markdown",
   "metadata": {
    "id": "9QvWnGnQIFik"
   },
   "source": [
    "<H4>Fill gaps forward or backward"
   ]
  },
  {
   "cell_type": "markdown",
   "metadata": {
    "id": "1EWgX0ymIFik"
   },
   "source": [
    "Using the same filling arguments as <font color = blue>*reindexing*</font>, we can propagate non-null values forward or backward:"
   ]
  },
  {
   "cell_type": "code",
   "execution_count": 128,
   "metadata": {
    "colab": {
     "base_uri": "https://localhost:8080/",
     "height": 206
    },
    "id": "hnp_vP37IFil",
    "outputId": "dccf3c58-6f54-4a86-8603-e2b31f1c2c0f"
   },
   "outputs": [
    {
     "data": {
      "text/html": [
       "<div>\n",
       "<style scoped>\n",
       "    .dataframe tbody tr th:only-of-type {\n",
       "        vertical-align: middle;\n",
       "    }\n",
       "\n",
       "    .dataframe tbody tr th {\n",
       "        vertical-align: top;\n",
       "    }\n",
       "\n",
       "    .dataframe thead th {\n",
       "        text-align: right;\n",
       "    }\n",
       "</style>\n",
       "<table border=\"1\" class=\"dataframe\">\n",
       "  <thead>\n",
       "    <tr style=\"text-align: right;\">\n",
       "      <th></th>\n",
       "      <th>one</th>\n",
       "      <th>two</th>\n",
       "      <th>three</th>\n",
       "      <th>four</th>\n",
       "      <th>five</th>\n",
       "      <th>six</th>\n",
       "    </tr>\n",
       "  </thead>\n",
       "  <tbody>\n",
       "    <tr>\n",
       "      <th>a</th>\n",
       "      <td>NaN</td>\n",
       "      <td>0.344105</td>\n",
       "      <td>0.980132</td>\n",
       "      <td>bar</td>\n",
       "      <td>True</td>\n",
       "      <td>2022-02-05</td>\n",
       "    </tr>\n",
       "    <tr>\n",
       "      <th>c</th>\n",
       "      <td>NaN</td>\n",
       "      <td>0.672315</td>\n",
       "      <td>-0.333434</td>\n",
       "      <td>bar</td>\n",
       "      <td>True</td>\n",
       "      <td>2022-02-05</td>\n",
       "    </tr>\n",
       "    <tr>\n",
       "      <th>e</th>\n",
       "      <td>-1.197563</td>\n",
       "      <td>-0.642437</td>\n",
       "      <td>0.769472</td>\n",
       "      <td>bar</td>\n",
       "      <td>False</td>\n",
       "      <td>2022-02-05</td>\n",
       "    </tr>\n",
       "    <tr>\n",
       "      <th>f</th>\n",
       "      <td>0.535169</td>\n",
       "      <td>-0.375934</td>\n",
       "      <td>-0.695042</td>\n",
       "      <td>bar</td>\n",
       "      <td>False</td>\n",
       "      <td>2022-02-05</td>\n",
       "    </tr>\n",
       "    <tr>\n",
       "      <th>h</th>\n",
       "      <td>NaN</td>\n",
       "      <td>2.218355</td>\n",
       "      <td>0.300500</td>\n",
       "      <td>bar</td>\n",
       "      <td>True</td>\n",
       "      <td>2022-02-05</td>\n",
       "    </tr>\n",
       "  </tbody>\n",
       "</table>\n",
       "</div>"
      ],
      "text/plain": [
       "        one       two     three four   five         six\n",
       "a       NaN  0.344105  0.980132  bar   True  2022-02-05\n",
       "c       NaN  0.672315 -0.333434  bar   True  2022-02-05\n",
       "e -1.197563 -0.642437  0.769472  bar  False  2022-02-05\n",
       "f  0.535169 -0.375934 -0.695042  bar  False  2022-02-05\n",
       "h       NaN  2.218355  0.300500  bar   True  2022-02-05"
      ]
     },
     "execution_count": 128,
     "metadata": {},
     "output_type": "execute_result"
    }
   ],
   "source": [
    "df"
   ]
  },
  {
   "cell_type": "code",
   "execution_count": 129,
   "metadata": {
    "colab": {
     "base_uri": "https://localhost:8080/",
     "height": 206
    },
    "id": "ukyvcu7YIFil",
    "outputId": "8a4be657-2f34-40eb-fbee-bab79f466341"
   },
   "outputs": [
    {
     "data": {
      "text/html": [
       "<div>\n",
       "<style scoped>\n",
       "    .dataframe tbody tr th:only-of-type {\n",
       "        vertical-align: middle;\n",
       "    }\n",
       "\n",
       "    .dataframe tbody tr th {\n",
       "        vertical-align: top;\n",
       "    }\n",
       "\n",
       "    .dataframe thead th {\n",
       "        text-align: right;\n",
       "    }\n",
       "</style>\n",
       "<table border=\"1\" class=\"dataframe\">\n",
       "  <thead>\n",
       "    <tr style=\"text-align: right;\">\n",
       "      <th></th>\n",
       "      <th>one</th>\n",
       "      <th>two</th>\n",
       "      <th>three</th>\n",
       "      <th>four</th>\n",
       "      <th>five</th>\n",
       "      <th>six</th>\n",
       "    </tr>\n",
       "  </thead>\n",
       "  <tbody>\n",
       "    <tr>\n",
       "      <th>a</th>\n",
       "      <td>NaN</td>\n",
       "      <td>0.344105</td>\n",
       "      <td>0.980132</td>\n",
       "      <td>bar</td>\n",
       "      <td>True</td>\n",
       "      <td>2022-02-05</td>\n",
       "    </tr>\n",
       "    <tr>\n",
       "      <th>c</th>\n",
       "      <td>NaN</td>\n",
       "      <td>0.672315</td>\n",
       "      <td>-0.333434</td>\n",
       "      <td>bar</td>\n",
       "      <td>True</td>\n",
       "      <td>2022-02-05</td>\n",
       "    </tr>\n",
       "    <tr>\n",
       "      <th>e</th>\n",
       "      <td>-1.197563</td>\n",
       "      <td>-0.642437</td>\n",
       "      <td>0.769472</td>\n",
       "      <td>bar</td>\n",
       "      <td>False</td>\n",
       "      <td>2022-02-05</td>\n",
       "    </tr>\n",
       "    <tr>\n",
       "      <th>f</th>\n",
       "      <td>0.535169</td>\n",
       "      <td>-0.375934</td>\n",
       "      <td>-0.695042</td>\n",
       "      <td>bar</td>\n",
       "      <td>False</td>\n",
       "      <td>2022-02-05</td>\n",
       "    </tr>\n",
       "    <tr>\n",
       "      <th>h</th>\n",
       "      <td>0.535169</td>\n",
       "      <td>2.218355</td>\n",
       "      <td>0.300500</td>\n",
       "      <td>bar</td>\n",
       "      <td>True</td>\n",
       "      <td>2022-02-05</td>\n",
       "    </tr>\n",
       "  </tbody>\n",
       "</table>\n",
       "</div>"
      ],
      "text/plain": [
       "        one       two     three four   five         six\n",
       "a       NaN  0.344105  0.980132  bar   True  2022-02-05\n",
       "c       NaN  0.672315 -0.333434  bar   True  2022-02-05\n",
       "e -1.197563 -0.642437  0.769472  bar  False  2022-02-05\n",
       "f  0.535169 -0.375934 -0.695042  bar  False  2022-02-05\n",
       "h  0.535169  2.218355  0.300500  bar   True  2022-02-05"
      ]
     },
     "execution_count": 129,
     "metadata": {},
     "output_type": "execute_result"
    }
   ],
   "source": [
    "df.fillna(method='pad')"
   ]
  },
  {
   "cell_type": "markdown",
   "metadata": {
    "id": "-yrCo6CpIFil"
   },
   "source": [
    "To remind you, these are the available filling methods:"
   ]
  },
  {
   "cell_type": "markdown",
   "metadata": {
    "id": "2AvC4tvjIFil"
   },
   "source": [
    "|  **Method** | **Action**  |\n",
    "|  :----  | :----:  |\n",
    "|  pad / ffill  |   Fill values forward |\n",
    "| bfill / backfill  |    Fill values backward  |"
   ]
  },
  {
   "cell_type": "markdown",
   "metadata": {
    "id": "xqrABHFvIFil"
   },
   "source": [
    "With time series data, using pad/ffill is extremely common so that the “last known value” is available at every time\n",
    "point.\n",
    "\n",
    "The `ffill()` function is equivalent to `fillna(method='ffill')` and `bfill()` is equivalent to `fillna(method='bfill')`\n"
   ]
  },
  {
   "cell_type": "markdown",
   "metadata": {
    "id": "PxwSHt8pIYbj"
   },
   "source": [
    "<H4>Dropping axis labels with missing data: dropna"
   ]
  },
  {
   "cell_type": "markdown",
   "metadata": {
    "id": "QgYo-c3YJQgH"
   },
   "source": [
    "You may wish to simply exclude labels from a data set which refer to missing data. To do this, use the **dropna**\n",
    "method:"
   ]
  },
  {
   "cell_type": "code",
   "execution_count": 130,
   "metadata": {
    "colab": {
     "base_uri": "https://localhost:8080/",
     "height": 206
    },
    "id": "r4c8lR4jIFil",
    "outputId": "1545f515-baae-4f38-c4f7-e4b553e3c88d"
   },
   "outputs": [
    {
     "data": {
      "text/html": [
       "<div>\n",
       "<style scoped>\n",
       "    .dataframe tbody tr th:only-of-type {\n",
       "        vertical-align: middle;\n",
       "    }\n",
       "\n",
       "    .dataframe tbody tr th {\n",
       "        vertical-align: top;\n",
       "    }\n",
       "\n",
       "    .dataframe thead th {\n",
       "        text-align: right;\n",
       "    }\n",
       "</style>\n",
       "<table border=\"1\" class=\"dataframe\">\n",
       "  <thead>\n",
       "    <tr style=\"text-align: right;\">\n",
       "      <th></th>\n",
       "      <th>one</th>\n",
       "      <th>two</th>\n",
       "      <th>three</th>\n",
       "      <th>four</th>\n",
       "      <th>five</th>\n",
       "      <th>six</th>\n",
       "    </tr>\n",
       "  </thead>\n",
       "  <tbody>\n",
       "    <tr>\n",
       "      <th>a</th>\n",
       "      <td>NaN</td>\n",
       "      <td>0.344105</td>\n",
       "      <td>0.980132</td>\n",
       "      <td>bar</td>\n",
       "      <td>True</td>\n",
       "      <td>2022-02-05</td>\n",
       "    </tr>\n",
       "    <tr>\n",
       "      <th>c</th>\n",
       "      <td>NaN</td>\n",
       "      <td>0.672315</td>\n",
       "      <td>-0.333434</td>\n",
       "      <td>bar</td>\n",
       "      <td>True</td>\n",
       "      <td>2022-02-05</td>\n",
       "    </tr>\n",
       "    <tr>\n",
       "      <th>e</th>\n",
       "      <td>-1.197563</td>\n",
       "      <td>-0.642437</td>\n",
       "      <td>0.769472</td>\n",
       "      <td>bar</td>\n",
       "      <td>False</td>\n",
       "      <td>2022-02-05</td>\n",
       "    </tr>\n",
       "    <tr>\n",
       "      <th>f</th>\n",
       "      <td>0.535169</td>\n",
       "      <td>-0.375934</td>\n",
       "      <td>-0.695042</td>\n",
       "      <td>bar</td>\n",
       "      <td>False</td>\n",
       "      <td>2022-02-05</td>\n",
       "    </tr>\n",
       "    <tr>\n",
       "      <th>h</th>\n",
       "      <td>NaN</td>\n",
       "      <td>2.218355</td>\n",
       "      <td>0.300500</td>\n",
       "      <td>bar</td>\n",
       "      <td>True</td>\n",
       "      <td>2022-02-05</td>\n",
       "    </tr>\n",
       "  </tbody>\n",
       "</table>\n",
       "</div>"
      ],
      "text/plain": [
       "        one       two     three four   five         six\n",
       "a       NaN  0.344105  0.980132  bar   True  2022-02-05\n",
       "c       NaN  0.672315 -0.333434  bar   True  2022-02-05\n",
       "e -1.197563 -0.642437  0.769472  bar  False  2022-02-05\n",
       "f  0.535169 -0.375934 -0.695042  bar  False  2022-02-05\n",
       "h       NaN  2.218355  0.300500  bar   True  2022-02-05"
      ]
     },
     "execution_count": 130,
     "metadata": {},
     "output_type": "execute_result"
    }
   ],
   "source": [
    "df"
   ]
  },
  {
   "cell_type": "code",
   "execution_count": 131,
   "metadata": {
    "colab": {
     "base_uri": "https://localhost:8080/",
     "height": 112
    },
    "id": "HWRn8JL-JmwJ",
    "outputId": "1f3833a8-3635-4ebb-81cc-989ce084b8e1"
   },
   "outputs": [
    {
     "data": {
      "text/html": [
       "<div>\n",
       "<style scoped>\n",
       "    .dataframe tbody tr th:only-of-type {\n",
       "        vertical-align: middle;\n",
       "    }\n",
       "\n",
       "    .dataframe tbody tr th {\n",
       "        vertical-align: top;\n",
       "    }\n",
       "\n",
       "    .dataframe thead th {\n",
       "        text-align: right;\n",
       "    }\n",
       "</style>\n",
       "<table border=\"1\" class=\"dataframe\">\n",
       "  <thead>\n",
       "    <tr style=\"text-align: right;\">\n",
       "      <th></th>\n",
       "      <th>one</th>\n",
       "      <th>two</th>\n",
       "      <th>three</th>\n",
       "      <th>four</th>\n",
       "      <th>five</th>\n",
       "      <th>six</th>\n",
       "    </tr>\n",
       "  </thead>\n",
       "  <tbody>\n",
       "    <tr>\n",
       "      <th>e</th>\n",
       "      <td>-1.197563</td>\n",
       "      <td>-0.642437</td>\n",
       "      <td>0.769472</td>\n",
       "      <td>bar</td>\n",
       "      <td>False</td>\n",
       "      <td>2022-02-05</td>\n",
       "    </tr>\n",
       "    <tr>\n",
       "      <th>f</th>\n",
       "      <td>0.535169</td>\n",
       "      <td>-0.375934</td>\n",
       "      <td>-0.695042</td>\n",
       "      <td>bar</td>\n",
       "      <td>False</td>\n",
       "      <td>2022-02-05</td>\n",
       "    </tr>\n",
       "  </tbody>\n",
       "</table>\n",
       "</div>"
      ],
      "text/plain": [
       "        one       two     three four   five         six\n",
       "e -1.197563 -0.642437  0.769472  bar  False  2022-02-05\n",
       "f  0.535169 -0.375934 -0.695042  bar  False  2022-02-05"
      ]
     },
     "execution_count": 131,
     "metadata": {},
     "output_type": "execute_result"
    }
   ],
   "source": [
    "df.dropna(axis=0)"
   ]
  },
  {
   "cell_type": "code",
   "execution_count": 132,
   "metadata": {
    "colab": {
     "base_uri": "https://localhost:8080/",
     "height": 206
    },
    "id": "RB9-ZnaWJnUf",
    "outputId": "e7778000-3329-45b1-8ba2-cd8637a92c60"
   },
   "outputs": [
    {
     "data": {
      "text/html": [
       "<div>\n",
       "<style scoped>\n",
       "    .dataframe tbody tr th:only-of-type {\n",
       "        vertical-align: middle;\n",
       "    }\n",
       "\n",
       "    .dataframe tbody tr th {\n",
       "        vertical-align: top;\n",
       "    }\n",
       "\n",
       "    .dataframe thead th {\n",
       "        text-align: right;\n",
       "    }\n",
       "</style>\n",
       "<table border=\"1\" class=\"dataframe\">\n",
       "  <thead>\n",
       "    <tr style=\"text-align: right;\">\n",
       "      <th></th>\n",
       "      <th>two</th>\n",
       "      <th>three</th>\n",
       "      <th>four</th>\n",
       "      <th>five</th>\n",
       "      <th>six</th>\n",
       "    </tr>\n",
       "  </thead>\n",
       "  <tbody>\n",
       "    <tr>\n",
       "      <th>a</th>\n",
       "      <td>0.344105</td>\n",
       "      <td>0.980132</td>\n",
       "      <td>bar</td>\n",
       "      <td>True</td>\n",
       "      <td>2022-02-05</td>\n",
       "    </tr>\n",
       "    <tr>\n",
       "      <th>c</th>\n",
       "      <td>0.672315</td>\n",
       "      <td>-0.333434</td>\n",
       "      <td>bar</td>\n",
       "      <td>True</td>\n",
       "      <td>2022-02-05</td>\n",
       "    </tr>\n",
       "    <tr>\n",
       "      <th>e</th>\n",
       "      <td>-0.642437</td>\n",
       "      <td>0.769472</td>\n",
       "      <td>bar</td>\n",
       "      <td>False</td>\n",
       "      <td>2022-02-05</td>\n",
       "    </tr>\n",
       "    <tr>\n",
       "      <th>f</th>\n",
       "      <td>-0.375934</td>\n",
       "      <td>-0.695042</td>\n",
       "      <td>bar</td>\n",
       "      <td>False</td>\n",
       "      <td>2022-02-05</td>\n",
       "    </tr>\n",
       "    <tr>\n",
       "      <th>h</th>\n",
       "      <td>2.218355</td>\n",
       "      <td>0.300500</td>\n",
       "      <td>bar</td>\n",
       "      <td>True</td>\n",
       "      <td>2022-02-05</td>\n",
       "    </tr>\n",
       "  </tbody>\n",
       "</table>\n",
       "</div>"
      ],
      "text/plain": [
       "        two     three four   five         six\n",
       "a  0.344105  0.980132  bar   True  2022-02-05\n",
       "c  0.672315 -0.333434  bar   True  2022-02-05\n",
       "e -0.642437  0.769472  bar  False  2022-02-05\n",
       "f -0.375934 -0.695042  bar  False  2022-02-05\n",
       "h  2.218355  0.300500  bar   True  2022-02-05"
      ]
     },
     "execution_count": 132,
     "metadata": {},
     "output_type": "execute_result"
    }
   ],
   "source": [
    "df.dropna(axis=1)"
   ]
  },
  {
   "cell_type": "code",
   "execution_count": 133,
   "metadata": {
    "colab": {
     "base_uri": "https://localhost:8080/"
    },
    "id": "w23pmEgEJpOg",
    "outputId": "5adafe7b-44c6-45d8-cec7-c745f1cade11"
   },
   "outputs": [
    {
     "data": {
      "text/plain": [
       "e   -1.197563\n",
       "f    0.535169\n",
       "Name: one, dtype: float64"
      ]
     },
     "execution_count": 133,
     "metadata": {},
     "output_type": "execute_result"
    }
   ],
   "source": [
    "df['one'].dropna()"
   ]
  },
  {
   "cell_type": "markdown",
   "metadata": {
    "id": "s0VcWxb4Jzvd"
   },
   "source": [
    "Series.dropna is a simpler method as it only has one axis to consider. DataFrame.dropna has considerably more\n",
    "options than Series.dropna, which can be examined in the API."
   ]
  }
 ],
 "metadata": {
  "colab": {
   "collapsed_sections": [],
   "name": "Pandas_Workbook.ipynb",
   "provenance": [],
   "toc_visible": true
  },
  "kernelspec": {
   "display_name": "Python 3 (ipykernel)",
   "language": "python",
   "name": "python3"
  },
  "language_info": {
   "codemirror_mode": {
    "name": "ipython",
    "version": 3
   },
   "file_extension": ".py",
   "mimetype": "text/x-python",
   "name": "python",
   "nbconvert_exporter": "python",
   "pygments_lexer": "ipython3",
   "version": "3.9.13"
  }
 },
 "nbformat": 4,
 "nbformat_minor": 1
}

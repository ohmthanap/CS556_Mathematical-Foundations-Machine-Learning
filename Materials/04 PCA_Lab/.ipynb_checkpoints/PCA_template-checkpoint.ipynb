{
 "cells": [
  {
   "cell_type": "code",
   "execution_count": 2,
   "id": "8adb96ad",
   "metadata": {},
   "outputs": [],
   "source": [
    "import numpy as np\n",
    "import matplotlib.pyplot as plt\n",
    "import pandas as pd\n",
    "from sklearn.decomposition import PCA\n",
    "from sklearn.preprocessing import StandardScaler"
   ]
  },
  {
   "cell_type": "markdown",
   "id": "0a5d64be",
   "metadata": {},
   "source": [
    "#### Load the dataset and split the data into features and target variables"
   ]
  },
  {
   "cell_type": "code",
   "execution_count": 3,
   "id": "ce8b9fb2",
   "metadata": {},
   "outputs": [],
   "source": [
    "X = ...\n",
    "raw_features = ...\n",
    "target = ..."
   ]
  },
  {
   "cell_type": "code",
   "execution_count": 4,
   "id": "5d0ce99e",
   "metadata": {},
   "outputs": [
    {
     "data": {
      "text/html": [
       "<div>\n",
       "<style scoped>\n",
       "    .dataframe tbody tr th:only-of-type {\n",
       "        vertical-align: middle;\n",
       "    }\n",
       "\n",
       "    .dataframe tbody tr th {\n",
       "        vertical-align: top;\n",
       "    }\n",
       "\n",
       "    .dataframe thead th {\n",
       "        text-align: right;\n",
       "    }\n",
       "</style>\n",
       "<table border=\"1\" class=\"dataframe\">\n",
       "  <thead>\n",
       "    <tr style=\"text-align: right;\">\n",
       "      <th></th>\n",
       "      <th>Pregnancies</th>\n",
       "      <th>Glucose</th>\n",
       "      <th>BloodPressure</th>\n",
       "      <th>SkinThickness</th>\n",
       "      <th>Insulin</th>\n",
       "      <th>BMI</th>\n",
       "      <th>DiabetesPedigreeFunction</th>\n",
       "      <th>Age</th>\n",
       "      <th>Outcome</th>\n",
       "    </tr>\n",
       "  </thead>\n",
       "  <tbody>\n",
       "    <tr>\n",
       "      <th>0</th>\n",
       "      <td>6</td>\n",
       "      <td>148</td>\n",
       "      <td>72</td>\n",
       "      <td>35</td>\n",
       "      <td>0</td>\n",
       "      <td>33.6</td>\n",
       "      <td>0.627</td>\n",
       "      <td>50</td>\n",
       "      <td>1</td>\n",
       "    </tr>\n",
       "    <tr>\n",
       "      <th>1</th>\n",
       "      <td>1</td>\n",
       "      <td>85</td>\n",
       "      <td>66</td>\n",
       "      <td>29</td>\n",
       "      <td>0</td>\n",
       "      <td>26.6</td>\n",
       "      <td>0.351</td>\n",
       "      <td>31</td>\n",
       "      <td>0</td>\n",
       "    </tr>\n",
       "    <tr>\n",
       "      <th>2</th>\n",
       "      <td>8</td>\n",
       "      <td>183</td>\n",
       "      <td>64</td>\n",
       "      <td>0</td>\n",
       "      <td>0</td>\n",
       "      <td>23.3</td>\n",
       "      <td>0.672</td>\n",
       "      <td>32</td>\n",
       "      <td>1</td>\n",
       "    </tr>\n",
       "    <tr>\n",
       "      <th>3</th>\n",
       "      <td>1</td>\n",
       "      <td>89</td>\n",
       "      <td>66</td>\n",
       "      <td>23</td>\n",
       "      <td>94</td>\n",
       "      <td>28.1</td>\n",
       "      <td>0.167</td>\n",
       "      <td>21</td>\n",
       "      <td>0</td>\n",
       "    </tr>\n",
       "    <tr>\n",
       "      <th>4</th>\n",
       "      <td>0</td>\n",
       "      <td>137</td>\n",
       "      <td>40</td>\n",
       "      <td>35</td>\n",
       "      <td>168</td>\n",
       "      <td>43.1</td>\n",
       "      <td>2.288</td>\n",
       "      <td>33</td>\n",
       "      <td>1</td>\n",
       "    </tr>\n",
       "  </tbody>\n",
       "</table>\n",
       "</div>"
      ],
      "text/plain": [
       "   Pregnancies  Glucose  BloodPressure  SkinThickness  Insulin   BMI  \\\n",
       "0            6      148             72             35        0  33.6   \n",
       "1            1       85             66             29        0  26.6   \n",
       "2            8      183             64              0        0  23.3   \n",
       "3            1       89             66             23       94  28.1   \n",
       "4            0      137             40             35      168  43.1   \n",
       "\n",
       "   DiabetesPedigreeFunction  Age  Outcome  \n",
       "0                     0.627   50        1  \n",
       "1                     0.351   31        0  \n",
       "2                     0.672   32        1  \n",
       "3                     0.167   21        0  \n",
       "4                     2.288   33        1  "
      ]
     },
     "execution_count": 4,
     "metadata": {},
     "output_type": "execute_result"
    }
   ],
   "source": [
    "X.head()"
   ]
  },
  {
   "cell_type": "markdown",
   "id": "26388100",
   "metadata": {},
   "source": [
    "#### Normalize the data using StandardScaler of sklearn"
   ]
  },
  {
   "cell_type": "code",
   "execution_count": 5,
   "id": "bbd4a4e0",
   "metadata": {},
   "outputs": [],
   "source": [
    "features = ..."
   ]
  },
  {
   "cell_type": "markdown",
   "id": "c78aa8f5",
   "metadata": {},
   "source": [
    "#### Create the covariance matrix. \n",
    "You can use np.cov()"
   ]
  },
  {
   "cell_type": "code",
   "execution_count": 6,
   "id": "adc91cea",
   "metadata": {},
   "outputs": [
    {
     "name": "stdout",
     "output_type": "stream",
     "text": [
      "The Covariance Matrix is:\n",
      " [[ 1.00130378  0.12962746  0.14146618 -0.08177826 -0.07363049  0.01770615\n",
      "  -0.03356638  0.54505093]\n",
      " [ 0.12962746  1.00130378  0.15278853  0.05740263  0.33178913  0.2213593\n",
      "   0.13751636  0.26385788]\n",
      " [ 0.14146618  0.15278853  1.00130378  0.2076409   0.08904933  0.2821727\n",
      "   0.04131875  0.23984024]\n",
      " [-0.08177826  0.05740263  0.2076409   1.00130378  0.43735204  0.39308503\n",
      "   0.18416737 -0.11411885]\n",
      " [-0.07363049  0.33178913  0.08904933  0.43735204  1.00130378  0.19811702\n",
      "   0.18531222 -0.04221793]\n",
      " [ 0.01770615  0.2213593   0.2821727   0.39308503  0.19811702  1.00130378\n",
      "   0.14083033  0.03628912]\n",
      " [-0.03356638  0.13751636  0.04131875  0.18416737  0.18531222  0.14083033\n",
      "   1.00130378  0.03360507]\n",
      " [ 0.54505093  0.26385788  0.23984024 -0.11411885 -0.04221793  0.03628912\n",
      "   0.03360507  1.00130378]]\n"
     ]
    }
   ],
   "source": [
    "Cx = ...\n",
    "print('The Covariance Matrix is:\\n', Cx)"
   ]
  },
  {
   "cell_type": "markdown",
   "id": "713d6d2e",
   "metadata": {},
   "source": [
    "#### Now that we have our covariance matrix, we will use linalg.eig from numpy to compute the eigenvectors and eigenvalues."
   ]
  },
  {
   "cell_type": "code",
   "execution_count": 7,
   "id": "b48214d9",
   "metadata": {},
   "outputs": [],
   "source": [
    "eig_val_cov, eig_vec_cov = ... #apply eigen decomposition"
   ]
  },
  {
   "cell_type": "markdown",
   "id": "b711d0df",
   "metadata": {},
   "source": [
    "#### Order the eigenvalues and their corresponding eigenvectors in desceding order"
   ]
  },
  {
   "cell_type": "code",
   "execution_count": 9,
   "id": "3ce012da",
   "metadata": {},
   "outputs": [],
   "source": [
    "ordered_id = ...\n",
    "ordered_vals = ...\n",
    "ordered_vecs = ..."
   ]
  },
  {
   "cell_type": "markdown",
   "id": "2ba96522",
   "metadata": {},
   "source": [
    "#### Print the explained_variance_ratio created after the eigendecomposition"
   ]
  },
  {
   "cell_type": "code",
   "execution_count": 10,
   "id": "8c683885",
   "metadata": {},
   "outputs": [
    {
     "data": {
      "text/plain": [
       "array([0.26179749, 0.21640127, 0.12870373, 0.10944113, 0.09529305,\n",
       "       0.08532855, 0.05247702, 0.05055776])"
      ]
     },
     "execution_count": 10,
     "metadata": {},
     "output_type": "execute_result"
    }
   ],
   "source": [
    "... #explained_variance_ratio_"
   ]
  },
  {
   "cell_type": "markdown",
   "id": "3a16ea75",
   "metadata": {},
   "source": [
    "### Apply PCA to reduce the dimensionality of the data from  8 to 2."
   ]
  },
  {
   "cell_type": "markdown",
   "id": "98cbaf97",
   "metadata": {},
   "source": [
    "#### We are now ready to use the PCA algorithm. We call the PCA algorithm and pass it to components (features)."
   ]
  },
  {
   "cell_type": "code",
   "execution_count": 11,
   "id": "e7e953be",
   "metadata": {},
   "outputs": [
    {
     "name": "stdout",
     "output_type": "stream",
     "text": [
      "[0.26179749 0.21640127]\n"
     ]
    }
   ],
   "source": [
    "pca = ...\n",
    "PC = ...\n",
    "print(pca.explained_variance_ratio_)"
   ]
  },
  {
   "cell_type": "markdown",
   "id": "deece1f9",
   "metadata": {},
   "source": [
    "### We will now plot the Principal Components, with their outcomes. Make a scatter plot where you plot the persons without diabetes in green and persons with diabetes in red. "
   ]
  },
  {
   "cell_type": "code",
   "execution_count": 12,
   "id": "b512a897",
   "metadata": {},
   "outputs": [
    {
     "data": {
      "image/png": "[encoded data removed]",
      "text/plain": [
       "<Figure size 648x648 with 1 Axes>"
      ]
     },
     "metadata": {
      "needs_background": "light"
     },
     "output_type": "display_data"
    }
   ],
   "source": [
    "#TODO"
   ]
  },
  {
   "cell_type": "markdown",
   "id": "40b06442",
   "metadata": {},
   "source": [
    "### Do you see any explanation for the selected components"
   ]
  },
  {
   "cell_type": "code",
   "execution_count": 13,
   "id": "807e97a1",
   "metadata": {},
   "outputs": [],
   "source": [
    "df = pd.DataFrame( columns = raw_features.columns)\n",
    "df.loc[0] = pca.components_[0,:]\n",
    "df.loc[1] = pca.components_[1,:]"
   ]
  },
  {
   "cell_type": "code",
   "execution_count": 14,
   "id": "1b5828a2",
   "metadata": {},
   "outputs": [
    {
     "data": {
      "text/html": [
       "<div>\n",
       "<style scoped>\n",
       "    .dataframe tbody tr th:only-of-type {\n",
       "        vertical-align: middle;\n",
       "    }\n",
       "\n",
       "    .dataframe tbody tr th {\n",
       "        vertical-align: top;\n",
       "    }\n",
       "\n",
       "    .dataframe thead th {\n",
       "        text-align: right;\n",
       "    }\n",
       "</style>\n",
       "<table border=\"1\" class=\"dataframe\">\n",
       "  <thead>\n",
       "    <tr style=\"text-align: right;\">\n",
       "      <th></th>\n",
       "      <th>Pregnancies</th>\n",
       "      <th>Glucose</th>\n",
       "      <th>BloodPressure</th>\n",
       "      <th>SkinThickness</th>\n",
       "      <th>Insulin</th>\n",
       "      <th>BMI</th>\n",
       "      <th>DiabetesPedigreeFunction</th>\n",
       "      <th>Age</th>\n",
       "    </tr>\n",
       "  </thead>\n",
       "  <tbody>\n",
       "    <tr>\n",
       "      <th>0</th>\n",
       "      <td>0.128432</td>\n",
       "      <td>0.393083</td>\n",
       "      <td>0.360003</td>\n",
       "      <td>0.439824</td>\n",
       "      <td>0.435026</td>\n",
       "      <td>0.451941</td>\n",
       "      <td>0.270611</td>\n",
       "      <td>0.198027</td>\n",
       "    </tr>\n",
       "    <tr>\n",
       "      <th>1</th>\n",
       "      <td>0.593786</td>\n",
       "      <td>0.174029</td>\n",
       "      <td>0.183892</td>\n",
       "      <td>-0.331965</td>\n",
       "      <td>-0.250781</td>\n",
       "      <td>-0.100960</td>\n",
       "      <td>-0.122069</td>\n",
       "      <td>0.620589</td>\n",
       "    </tr>\n",
       "  </tbody>\n",
       "</table>\n",
       "</div>"
      ],
      "text/plain": [
       "   Pregnancies   Glucose  BloodPressure  SkinThickness   Insulin       BMI  \\\n",
       "0     0.128432  0.393083       0.360003       0.439824  0.435026  0.451941   \n",
       "1     0.593786  0.174029       0.183892      -0.331965 -0.250781 -0.100960   \n",
       "\n",
       "   DiabetesPedigreeFunction       Age  \n",
       "0                  0.270611  0.198027  \n",
       "1                 -0.122069  0.620589  "
      ]
     },
     "execution_count": 14,
     "metadata": {},
     "output_type": "execute_result"
    }
   ],
   "source": [
    "print(df)"
   ]
  }
 ],
 "metadata": {
  "kernelspec": {
   "display_name": "Python 3 (ipykernel)",
   "language": "python",
   "name": "python3"
  },
  "language_info": {
   "codemirror_mode": {
    "name": "ipython",
    "version": 3
   },
   "file_extension": ".py",
   "mimetype": "text/x-python",
   "name": "python",
   "nbconvert_exporter": "python",
   "pygments_lexer": "ipython3",
   "version": "3.9.13"
  }
 },
 "nbformat": 4,
 "nbformat_minor": 5
}

{
 "cells": [
  {
   "cell_type": "markdown",
   "metadata": {},
   "source": [
    "A coffee shop in Hoboken buys the coffee beans in Brazil. The owner of the shop likes to predict the price of the coffee beans one month in advance while he prepares budget plannings. For predicting the price of the beans, the owner uses the normal distribution for the model where the mean is 2250 dollars and standard deviation is 110 dollars. Help the little coffee shop in Hoboken to answer the following questions."
   ]
  },
  {
   "cell_type": "code",
   "execution_count": 1,
   "metadata": {},
   "outputs": [],
   "source": [
    "# Model Declaration\n",
    "import scipy.stats\n",
    "predictive_model = scipy.stats.norm(2250, 110)"
   ]
  },
  {
   "cell_type": "markdown",
   "metadata": {},
   "source": [
    "###  1. What is the probability that the coffee beans market price one month from now would be 2288.12 dollars? ###"
   ]
  },
  {
   "cell_type": "markdown",
   "metadata": {},
   "source": [
    "P(Price = 2288.12) = 0"
   ]
  },
  {
   "cell_type": "markdown",
   "metadata": {},
   "source": [
    "### 2. What is the probability that the market price one month from now exceeds 2300 dollars? ###"
   ]
  },
  {
   "cell_type": "markdown",
   "metadata": {},
   "source": [
    "P(Price > 2300) = 1 - P(Price <= 2300)"
   ]
  },
  {
   "cell_type": "code",
   "execution_count": 2,
   "metadata": {},
   "outputs": [
    {
     "name": "stdout",
     "output_type": "stream",
     "text": [
      "Probability that price would be greater than 2300 dollars is:  0.32471814186337733\n"
     ]
    }
   ],
   "source": [
    "res = 1 - predictive_model.cdf(2300)\n",
    "print(\"Probability that price would be greater than 2300 dollars is: \", res )"
   ]
  },
  {
   "cell_type": "markdown",
   "metadata": {},
   "source": [
    "### 3. What is the probability that the market price one month from now will be between 2200 and 2400 dollars? ###"
   ]
  },
  {
   "cell_type": "markdown",
   "metadata": {},
   "source": [
    "P(2200 <= Price <= 2400) = P(Price <= 2400) - P(Price <= 2200)"
   ]
  },
  {
   "cell_type": "code",
   "execution_count": 3,
   "metadata": {},
   "outputs": [
    {
     "name": "stdout",
     "output_type": "stream",
     "text": [
      "Probability that price would be between 2200 and 2400 dollars is 0.5889408374272485\n"
     ]
    }
   ],
   "source": [
    "res = predictive_model.cdf(2400) - predictive_model.cdf(2200)\n",
    "print(\"Probability that price would be between 2200 and 2400 dollars is\", res )"
   ]
  },
  {
   "cell_type": "markdown",
   "metadata": {},
   "source": [
    "### 4. There is 90% probability that the price falls below what level? ###"
   ]
  },
  {
   "cell_type": "markdown",
   "metadata": {},
   "source": [
    "P(Price < X) = 0.9, Find the price X. "
   ]
  },
  {
   "cell_type": "code",
   "execution_count": 4,
   "metadata": {},
   "outputs": [
    {
     "name": "stdout",
     "output_type": "stream",
     "text": [
      "With 90% probability in one month the price wold fall below  2390.970672209906 dollars\n"
     ]
    }
   ],
   "source": [
    "res = predictive_model.ppf(0.9)\n",
    "print(\"With 90% probability in one month the price wold fall below \", res, \"dollars\")"
   ]
  },
  {
   "cell_type": "markdown",
   "metadata": {},
   "source": [
    "5. Provide a symmetric 90% interval of possible market prices around the expected value of 2250 dollars?\n",
    "- 45% to the left of the mean and 45% to the right of the mean."
   ]
  },
  {
   "cell_type": "code",
   "execution_count": 5,
   "metadata": {},
   "outputs": [
    {
     "name": "stdout",
     "output_type": "stream",
     "text": [
      "The 90% interval for the price around the mean is  (2069.066101035338, 2430.933898964662)\n"
     ]
    }
   ],
   "source": [
    "res = predictive_model.ppf(0.05), predictive_model.ppf(0.95)\n",
    "print(\"The 90% interval for the price around the mean is \", res)"
   ]
  },
  {
   "cell_type": "code",
   "execution_count": null,
   "metadata": {},
   "outputs": [],
   "source": []
  }
 ],
 "metadata": {
  "kernelspec": {
   "display_name": "Python 3 (ipykernel)",
   "language": "python",
   "name": "python3"
  },
  "language_info": {
   "codemirror_mode": {
    "name": "ipython",
    "version": 3
   },
   "file_extension": ".py",
   "mimetype": "text/x-python",
   "name": "python",
   "nbconvert_exporter": "python",
   "pygments_lexer": "ipython3",
   "version": "3.9.13"
  }
 },
 "nbformat": 4,
 "nbformat_minor": 4
}

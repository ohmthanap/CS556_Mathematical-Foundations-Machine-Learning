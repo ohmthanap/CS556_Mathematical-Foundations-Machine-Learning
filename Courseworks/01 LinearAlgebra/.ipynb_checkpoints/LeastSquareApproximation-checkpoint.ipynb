{
 "cells": [
  {
   "cell_type": "markdown",
   "metadata": {
    "id": "tjibPXKwiPHc"
   },
   "source": [
    "# Part 1"
   ]
  },
  {
   "cell_type": "markdown",
   "metadata": {
    "id": "IaGBUPjizekd"
   },
   "source": [
    "### Q1) Create a function to add two 3x3 matrices. Each matrix is represented as a list of lists. The function takes two parameters and returns the computed matrix. Do not use numpy for computation."
   ]
  },
  {
   "cell_type": "code",
   "execution_count": 71,
   "metadata": {
    "id": "v2PvkQcxzeke"
   },
   "outputs": [
    {
     "name": "stdout",
     "output_type": "stream",
     "text": [
      "[17, 15, 4]\n",
      "[10, 12, 9]\n",
      "[11, 13, 18]\n"
     ]
    }
   ],
   "source": [
    "def add_matrixes(matrix_a, matrix_b):\n",
    "    \n",
    "    added_matrix = [[0,0,0],\n",
    "              [0,0,0],\n",
    "              [0,0,0]]\n",
    "    \n",
    "    for i in range(len(matrix_a)):\n",
    "        for j in range(len(matrix_b)):\n",
    "            added_matrix[i][j] = matrix_a[i][j] + matrix_b[i][j]\n",
    "    \n",
    "    return added_matrix\n",
    "\n",
    "\n",
    "X = [[12,7,3],\n",
    "     [4,5,6],\n",
    "     [7,8,9]]\n",
    "\n",
    "Y = [[5,8,1],\n",
    "     [6,7,3],\n",
    "     [4,5,9]]\n",
    "\n",
    "result = add_matrixes(X, Y)\n",
    "\n",
    "for i in result:\n",
    "    print(i)\n"
   ]
  },
  {
   "cell_type": "markdown",
   "metadata": {
    "id": "a41svUpJzekf"
   },
   "source": [
    "### Q2) Now solve the above question using numpy "
   ]
  },
  {
   "cell_type": "code",
   "execution_count": 17,
   "metadata": {
    "id": "3FAI9ta8zekg"
   },
   "outputs": [],
   "source": [
    "import numpy as np\n",
    "\n",
    "def add_matrices_numpy(matrix_a,matrix_b):\n",
    "    \n",
    "    return np.add(matrix_a, matrix_b)"
   ]
  },
  {
   "cell_type": "code",
   "execution_count": 53,
   "metadata": {
    "id": "Y6mpsfgOiPHf",
    "outputId": "3335a2a8-12e5-4069-b66e-dd03a68e0781"
   },
   "outputs": [
    {
     "name": "stdout",
     "output_type": "stream",
     "text": [
      "[17 15  4]\n",
      "[10 12  9]\n",
      "[11 13 18]\n"
     ]
    }
   ],
   "source": [
    "#Sample output\n",
    "X = [[12,7,3],\n",
    "     [4,5,6],\n",
    "     [7,8,9]]\n",
    "\n",
    "Y = [[5,8,1],\n",
    "     [6,7,3],\n",
    "     [4,5,9]]\n",
    "\n",
    "result = add_matrices_numpy(X,Y)\n",
    "\n",
    "for r in result:\n",
    "    print(r)"
   ]
  },
  {
   "cell_type": "markdown",
   "metadata": {
    "id": "qWv0tAzozekg"
   },
   "source": [
    "### Q3)  Create a function to multiply two 3x3 matrices. Each matrix is represented as a list of lists. The function takes two parameters and returns the computed matrix. Do not use numpy for computation."
   ]
  },
  {
   "cell_type": "code",
   "execution_count": 72,
   "metadata": {
    "id": "Lf90MWn2zekg"
   },
   "outputs": [
    {
     "name": "stdout",
     "output_type": "stream",
     "text": [
      "[114, 160, 60]\n",
      "[74, 97, 73]\n",
      "[119, 157, 112]\n"
     ]
    }
   ],
   "source": [
    "def multiply_matrixes(matrix_a, matrix_b):\n",
    "    \n",
    "    multiplied_matrix = [[0,0,0],\n",
    "              [0,0,0],\n",
    "              [0,0,0]]\n",
    "    \n",
    "    for i in range(len(matrix_a)):\n",
    "        for j in range(len(matrix_b[0])):\n",
    "            for k in range(len(matrix_b)):\n",
    "                multiplied_matrix[i][j] += matrix_a[i][k] * matrix_b[k][j]\n",
    "    return multiplied_matrix\n",
    "\n",
    "X = [[12,7,3],\n",
    "    [4,5,6],\n",
    "    [7,8,9]]\n",
    "\n",
    "Y = [[5,8,1],\n",
    "    [6,7,3],\n",
    "    [4,5,9]]\n",
    "\n",
    "result = multiply_matrixes(X, Y)\n",
    "\n",
    "for i in result:\n",
    "    print(i)"
   ]
  },
  {
   "cell_type": "markdown",
   "metadata": {
    "id": "LpHXaW-Azekg"
   },
   "source": [
    "### Q4) Now solve the above question using numpy"
   ]
  },
  {
   "cell_type": "code",
   "execution_count": 58,
   "metadata": {
    "id": "qcaIf4WDzekg"
   },
   "outputs": [],
   "source": [
    "def multiply_matrices_numpy(matrix_a,matrix_b):\n",
    "    \n",
    "    return np.dot(matrix_a, matrix_b)"
   ]
  },
  {
   "cell_type": "code",
   "execution_count": 59,
   "metadata": {
    "id": "NLqJ6JXFiPHg",
    "outputId": "3a5bf791-327d-4e06-b856-e3e0086770d3"
   },
   "outputs": [
    {
     "name": "stdout",
     "output_type": "stream",
     "text": [
      "[114 160  60]\n",
      "[74 97 73]\n",
      "[119 157 112]\n"
     ]
    }
   ],
   "source": [
    "#sample output\n",
    "X = [[12,7,3],\n",
    "    [4,5,6],\n",
    "    [7,8,9]]\n",
    "\n",
    "Y = [[5,8,1],\n",
    "    [6,7,3],\n",
    "    [4,5,9]]\n",
    "\n",
    "result = multiply_matrices_numpy(X,Y)\n",
    "\n",
    "for r in result:\n",
    "    print(r)"
   ]
  },
  {
   "cell_type": "markdown",
   "metadata": {
    "id": "5EPXLe5dzopF"
   },
   "source": [
    "### Q5) Create a function to find transpose of a matrices. Matrix is represented as a list of lists. The function takes one parameters and returns the computed matrix. Do not use numpy for computation."
   ]
  },
  {
   "cell_type": "code",
   "execution_count": 68,
   "metadata": {
    "id": "TkgvWXoWzoQV"
   },
   "outputs": [
    {
     "name": "stdout",
     "output_type": "stream",
     "text": [
      "[12, 4, 3]\n",
      "[7, 5, 8]\n"
     ]
    }
   ],
   "source": [
    "def transpose_matrix(matrix_a):\n",
    "    \n",
    "    transpose_matrix = []\n",
    "    for i in range(len(matrix_a[0])):\n",
    "        row = []\n",
    "        for j in range(len(matrix_a)):\n",
    "            row.append(matrix_a[j][i])\n",
    "        transpose_matrix.append(row)\n",
    "        \n",
    "    return transpose_matrix\n",
    "\n",
    "X = [[12,7],\n",
    "     [4 ,5],\n",
    "     [3 ,8]]\n",
    "\n",
    "result = transpose_matrix(X)\n",
    "\n",
    "for r in result:\n",
    "    print(r)"
   ]
  },
  {
   "cell_type": "markdown",
   "metadata": {
    "id": "9X3cCXCk0OqB"
   },
   "source": [
    "### Q6) Now solve the above question using numpy"
   ]
  },
  {
   "cell_type": "code",
   "execution_count": 89,
   "metadata": {
    "id": "EfHDvFc40TCL"
   },
   "outputs": [],
   "source": [
    "def transpose_matrix_numpy(matrix_a):\n",
    "    \n",
    "    return np.transpose(matrix_a)"
   ]
  },
  {
   "cell_type": "code",
   "execution_count": 90,
   "metadata": {
    "colab": {
     "base_uri": "https://localhost:8080/"
    },
    "id": "sD_-x7lYitEc",
    "outputId": "8151d806-90b0-4885-b076-320bcf9e4047"
   },
   "outputs": [
    {
     "name": "stdout",
     "output_type": "stream",
     "text": [
      "[12  4  3]\n",
      "[7 5 8]\n"
     ]
    }
   ],
   "source": [
    "#sample output\n",
    "X = [[12,7],\n",
    "    [4 ,5],\n",
    "    [3 ,8]]\n",
    "\n",
    "result = transpose_matrix_numpy(X)\n",
    "\n",
    "for r in result:\n",
    "    print(r)"
   ]
  },
  {
   "cell_type": "markdown",
   "metadata": {
    "id": "vobv9PY-0tee"
   },
   "source": [
    "### Q7) Create a function to find inverse of a matrix. Matrix is represented as a list of lists. The function takes one parameters and returns the computed matrix. You can use numpy. "
   ]
  },
  {
   "cell_type": "code",
   "execution_count": 83,
   "metadata": {
    "id": "PcxkHUHa0svR"
   },
   "outputs": [],
   "source": [
    "def inverse_matrix(matrix_a):\n",
    "    \n",
    "    return np.linalg.inv(matrix_a)"
   ]
  },
  {
   "cell_type": "code",
   "execution_count": 84,
   "metadata": {
    "colab": {
     "base_uri": "https://localhost:8080/"
    },
    "id": "ATRMy6iCkDmx",
    "outputId": "c784f979-1d82-4c0f-fe4b-3c1b76f06fd8"
   },
   "outputs": [
    {
     "name": "stdout",
     "output_type": "stream",
     "text": [
      "[ 5. -7.]\n",
      "[-2.  3.]\n"
     ]
    }
   ],
   "source": [
    "#sample output\n",
    "X= [[3, 7],\n",
    "    [2, 5]]\n",
    "\n",
    "result = inverse_matrix(X)\n",
    "\n",
    "for r in result:\n",
    "    print(r)"
   ]
  },
  {
   "cell_type": "markdown",
   "metadata": {
    "id": "XQg0h-vsol4u"
   },
   "source": [
    "\n",
    "### (Bonus points) Try to find inverse of 3x3 matrix without using numpy"
   ]
  },
  {
   "cell_type": "code",
   "execution_count": 87,
   "metadata": {
    "id": "P8w0TojxodBg"
   },
   "outputs": [
    {
     "name": "stdout",
     "output_type": "stream",
     "text": [
      "[-24.0, 18.0, 5.0]\n",
      "[20.0, -15.0, -4.0]\n",
      "[-5.0, 4.0, 1.0]\n"
     ]
    }
   ],
   "source": [
    "def inverse_matrix_3x3(matrix_a):\n",
    "    \n",
    "    # Step 0: Invertibility Test - if the determinant of the matrix is equal to 0, then the matrix is not invertible\n",
    "    \n",
    "    det_matrix = 0\n",
    "    for i in range(len(matrix_a)):\n",
    "        for j in range(len(matrix_a[0])):\n",
    "            det_minor = 0\n",
    "            if j == 0:\n",
    "                det_minor += (matrix_a[i+1][j+1] * matrix_a[i+2][j+2]) - (matrix_a[i+2][j+1] * matrix_a[i+1][j+2])\n",
    "            if j == 1:\n",
    "                det_minor += (matrix_a[i+1][j-1] * matrix_a[i+2][j+1]) - (matrix_a[i+2][j-1] * matrix_a[i+1][j+1])\n",
    "            if j == 2:\n",
    "                det_minor += (matrix_a[i+1][j-2] * matrix_a[i+2][j-1]) - (matrix_a[i+2][j-2] * matrix_a[i+1][j-1])     \n",
    "            det_matrix += ((-1) ** ((i+1)+(j+1))) * matrix_a[i][j] * det_minor\n",
    "        break\n",
    "    if det_matrix == 0:\n",
    "        return None\n",
    "    \n",
    "    # Step 1: Minor matrix - a matrix of determinants\n",
    "    \n",
    "    minor_matrix = []\n",
    "    for i in range(len(matrix_a)):\n",
    "        row = []\n",
    "        for j in range(len(matrix_a[0])):\n",
    "            det_minor = 0\n",
    "            if i == 0 and j == 0:\n",
    "                det_minor += (matrix_a[i+1][j+1] * matrix_a[i+2][j+2]) - (matrix_a[i+2][j+1] * matrix_a[i+1][j+2])\n",
    "            if i == 0 and j == 1:\n",
    "                det_minor += (matrix_a[i+1][j-1] * matrix_a[i+2][j+1]) - (matrix_a[i+2][j-1] * matrix_a[i+1][j+1])\n",
    "            if i == 0 and j == 2:\n",
    "                det_minor += (matrix_a[i+1][j-2] * matrix_a[i+2][j-1]) - (matrix_a[i+2][j-2] * matrix_a[i+1][j-1])\n",
    "            if i == 1 and j == 0:\n",
    "                det_minor += (matrix_a[i-1][j+1] * matrix_a[i+1][j+2]) - (matrix_a[i+1][j+1] * matrix_a[i-1][j+2])\n",
    "            if i == 1 and j == 1:\n",
    "                det_minor += (matrix_a[i-1][j-1] * matrix_a[i+1][j+1]) - (matrix_a[i+1][j-1] * matrix_a[i-1][j+1])\n",
    "            if i == 1 and j == 2:\n",
    "                det_minor += (matrix_a[i-1][j-2] * matrix_a[i+1][j-1]) - (matrix_a[i+1][j-2] * matrix_a[i-1][j-1])\n",
    "            if i == 2 and j == 0:\n",
    "                det_minor += (matrix_a[i-2][j+1] * matrix_a[i-1][j+2]) - (matrix_a[i-1][j+1] * matrix_a[i-2][j+2])\n",
    "            if i == 2 and j == 1:\n",
    "                det_minor += (matrix_a[i-2][j-1] * matrix_a[i-1][j+1]) - (matrix_a[i-1][j-1] * matrix_a[i-2][j+1])\n",
    "            if i == 2 and j == 2:\n",
    "                det_minor += (matrix_a[i-2][j-2] * matrix_a[i-1][j-1]) - (matrix_a[i-1][j-2] * matrix_a[i-2][j-1])\n",
    "            row.append(det_minor)\n",
    "        minor_matrix.append(row)\n",
    "        \n",
    "    # Step 2: Cofactors matrix - the minors matrix element-wise multiplied by a grid of alternating +1 nad -1.\n",
    "    \n",
    "    for i in range(len(minor_matrix)):\n",
    "        for j in range(len(minor_matrix)):\n",
    "            if (i == 0 and j == 1) or (i == 1 and (j == 0 or j == 2)) or (i == 2 and j == 1):\n",
    "                minor_matrix[i][j] *= -1\n",
    "                \n",
    "    cofactors_matrix = minor_matrix\n",
    "            \n",
    "    # Step 3: Adjugate matrix - the transpose of the cofactors matrix\n",
    "    \n",
    "    adjugate_matrix = []\n",
    "    for i in range(len(cofactors_matrix[0])):\n",
    "        row = []\n",
    "        for j in range(len(cofactors_matrix)):\n",
    "            row.append(cofactors_matrix[j][i])\n",
    "        adjugate_matrix.append(row)\n",
    "    \n",
    "    # Step 4: Inverse matrix - the adjugate matrix divided by the determinant\n",
    "    \n",
    "    inverse_matrix = []\n",
    "    for i in range(len(adjugate_matrix)):\n",
    "        row = []\n",
    "        for j in range(len(adjugate_matrix)):\n",
    "            row.append(adjugate_matrix[i][j] / det_matrix)\n",
    "        inverse_matrix.append(row)\n",
    "    \n",
    "    return inverse_matrix\n",
    "\n",
    "X = [[1, 2, 3],\n",
    "     [0, 1, 4],\n",
    "     [5, 6, 0]]\n",
    "\n",
    "result = inverse_matrix_3x3(X)\n",
    "\n",
    "for r in result:\n",
    "    print(r)"
   ]
  },
  {
   "cell_type": "code",
   "execution_count": 5,
   "metadata": {
    "colab": {
     "base_uri": "https://localhost:8080/"
    },
    "id": "uVdrdnUnl7rv",
    "outputId": "b2e7e137-f9b9-40d3-ae1f-ceb22e09a279"
   },
   "outputs": [
    {
     "name": "stdout",
     "output_type": "stream",
     "text": [
      "[-24, 18, 5]\n",
      "[20, -15, -4]\n",
      "[-5, 4, 1]\n"
     ]
    }
   ],
   "source": [
    "#sample output for bonus\n",
    "X = [[1, 2, 3],\n",
    "     [0, 1, 4],\n",
    "     [5, 6, 0]]\n",
    "\n",
    "result = inverse_matrix_3x3(X)\n",
    "\n",
    "for r in result:\n",
    "    print(r)"
   ]
  },
  {
   "cell_type": "markdown",
   "metadata": {
    "id": "1PQ4NmR06KF4"
   },
   "source": [
    "# Part 2"
   ]
  },
  {
   "cell_type": "markdown",
   "metadata": {
    "id": "KMd44j526QxT"
   },
   "source": [
    "1. Import the necessary libraries. For this assignment, we'll need `numpy`, `matplotlib.pyplot`, and `pandas`. For some of the longer module names, remember we can alias them using `as` to make their types easier to work with."
   ]
  },
  {
   "cell_type": "code",
   "execution_count": 10,
   "metadata": {
    "id": "pbV8-X0xsAHV"
   },
   "outputs": [],
   "source": [
    "import numpy as np\n",
    "import pandas as pd\n",
    "import matplotlib.pyplot as plt\n",
    "%matplotlib inline"
   ]
  },
  {
   "cell_type": "markdown",
   "metadata": {
    "id": "CIN14yHE6e0S"
   },
   "source": [
    "2. Open and load the CSV file `Salary_Data.csv` into a Pandas dataframe. Name the dataframe variable something unique, like 'data' or 'df'. Remember that for CSV files, there's a built-in Pandas function for reading their data."
   ]
  },
  {
   "cell_type": "code",
   "execution_count": 11,
   "metadata": {
    "id": "YLk-wAnwsA5i"
   },
   "outputs": [
    {
     "data": {
      "text/html": [
       "<div>\n",
       "<style scoped>\n",
       "    .dataframe tbody tr th:only-of-type {\n",
       "        vertical-align: middle;\n",
       "    }\n",
       "\n",
       "    .dataframe tbody tr th {\n",
       "        vertical-align: top;\n",
       "    }\n",
       "\n",
       "    .dataframe thead th {\n",
       "        text-align: right;\n",
       "    }\n",
       "</style>\n",
       "<table border=\"1\" class=\"dataframe\">\n",
       "  <thead>\n",
       "    <tr style=\"text-align: right;\">\n",
       "      <th></th>\n",
       "      <th>YearsExperience</th>\n",
       "      <th>Salary</th>\n",
       "    </tr>\n",
       "  </thead>\n",
       "  <tbody>\n",
       "    <tr>\n",
       "      <th>0</th>\n",
       "      <td>1.1</td>\n",
       "      <td>39343.0</td>\n",
       "    </tr>\n",
       "    <tr>\n",
       "      <th>1</th>\n",
       "      <td>1.3</td>\n",
       "      <td>46205.0</td>\n",
       "    </tr>\n",
       "    <tr>\n",
       "      <th>2</th>\n",
       "      <td>1.5</td>\n",
       "      <td>37731.0</td>\n",
       "    </tr>\n",
       "    <tr>\n",
       "      <th>3</th>\n",
       "      <td>2.0</td>\n",
       "      <td>43525.0</td>\n",
       "    </tr>\n",
       "    <tr>\n",
       "      <th>4</th>\n",
       "      <td>2.2</td>\n",
       "      <td>39891.0</td>\n",
       "    </tr>\n",
       "    <tr>\n",
       "      <th>5</th>\n",
       "      <td>2.9</td>\n",
       "      <td>56642.0</td>\n",
       "    </tr>\n",
       "    <tr>\n",
       "      <th>6</th>\n",
       "      <td>3.0</td>\n",
       "      <td>60150.0</td>\n",
       "    </tr>\n",
       "    <tr>\n",
       "      <th>7</th>\n",
       "      <td>3.2</td>\n",
       "      <td>54445.0</td>\n",
       "    </tr>\n",
       "    <tr>\n",
       "      <th>8</th>\n",
       "      <td>3.2</td>\n",
       "      <td>64445.0</td>\n",
       "    </tr>\n",
       "    <tr>\n",
       "      <th>9</th>\n",
       "      <td>3.7</td>\n",
       "      <td>57189.0</td>\n",
       "    </tr>\n",
       "    <tr>\n",
       "      <th>10</th>\n",
       "      <td>3.9</td>\n",
       "      <td>63218.0</td>\n",
       "    </tr>\n",
       "    <tr>\n",
       "      <th>11</th>\n",
       "      <td>4.0</td>\n",
       "      <td>55794.0</td>\n",
       "    </tr>\n",
       "    <tr>\n",
       "      <th>12</th>\n",
       "      <td>4.0</td>\n",
       "      <td>56957.0</td>\n",
       "    </tr>\n",
       "    <tr>\n",
       "      <th>13</th>\n",
       "      <td>4.1</td>\n",
       "      <td>57081.0</td>\n",
       "    </tr>\n",
       "    <tr>\n",
       "      <th>14</th>\n",
       "      <td>4.5</td>\n",
       "      <td>61111.0</td>\n",
       "    </tr>\n",
       "    <tr>\n",
       "      <th>15</th>\n",
       "      <td>4.9</td>\n",
       "      <td>67938.0</td>\n",
       "    </tr>\n",
       "    <tr>\n",
       "      <th>16</th>\n",
       "      <td>5.1</td>\n",
       "      <td>66029.0</td>\n",
       "    </tr>\n",
       "    <tr>\n",
       "      <th>17</th>\n",
       "      <td>5.3</td>\n",
       "      <td>83088.0</td>\n",
       "    </tr>\n",
       "    <tr>\n",
       "      <th>18</th>\n",
       "      <td>5.9</td>\n",
       "      <td>81363.0</td>\n",
       "    </tr>\n",
       "    <tr>\n",
       "      <th>19</th>\n",
       "      <td>6.0</td>\n",
       "      <td>93940.0</td>\n",
       "    </tr>\n",
       "    <tr>\n",
       "      <th>20</th>\n",
       "      <td>6.8</td>\n",
       "      <td>91738.0</td>\n",
       "    </tr>\n",
       "    <tr>\n",
       "      <th>21</th>\n",
       "      <td>7.1</td>\n",
       "      <td>98273.0</td>\n",
       "    </tr>\n",
       "    <tr>\n",
       "      <th>22</th>\n",
       "      <td>7.9</td>\n",
       "      <td>101302.0</td>\n",
       "    </tr>\n",
       "    <tr>\n",
       "      <th>23</th>\n",
       "      <td>8.2</td>\n",
       "      <td>113812.0</td>\n",
       "    </tr>\n",
       "    <tr>\n",
       "      <th>24</th>\n",
       "      <td>8.7</td>\n",
       "      <td>109431.0</td>\n",
       "    </tr>\n",
       "    <tr>\n",
       "      <th>25</th>\n",
       "      <td>9.0</td>\n",
       "      <td>105582.0</td>\n",
       "    </tr>\n",
       "    <tr>\n",
       "      <th>26</th>\n",
       "      <td>9.5</td>\n",
       "      <td>116969.0</td>\n",
       "    </tr>\n",
       "    <tr>\n",
       "      <th>27</th>\n",
       "      <td>9.6</td>\n",
       "      <td>112635.0</td>\n",
       "    </tr>\n",
       "    <tr>\n",
       "      <th>28</th>\n",
       "      <td>10.3</td>\n",
       "      <td>122391.0</td>\n",
       "    </tr>\n",
       "    <tr>\n",
       "      <th>29</th>\n",
       "      <td>10.5</td>\n",
       "      <td>121872.0</td>\n",
       "    </tr>\n",
       "  </tbody>\n",
       "</table>\n",
       "</div>"
      ],
      "text/plain": [
       "    YearsExperience    Salary\n",
       "0               1.1   39343.0\n",
       "1               1.3   46205.0\n",
       "2               1.5   37731.0\n",
       "3               2.0   43525.0\n",
       "4               2.2   39891.0\n",
       "5               2.9   56642.0\n",
       "6               3.0   60150.0\n",
       "7               3.2   54445.0\n",
       "8               3.2   64445.0\n",
       "9               3.7   57189.0\n",
       "10              3.9   63218.0\n",
       "11              4.0   55794.0\n",
       "12              4.0   56957.0\n",
       "13              4.1   57081.0\n",
       "14              4.5   61111.0\n",
       "15              4.9   67938.0\n",
       "16              5.1   66029.0\n",
       "17              5.3   83088.0\n",
       "18              5.9   81363.0\n",
       "19              6.0   93940.0\n",
       "20              6.8   91738.0\n",
       "21              7.1   98273.0\n",
       "22              7.9  101302.0\n",
       "23              8.2  113812.0\n",
       "24              8.7  109431.0\n",
       "25              9.0  105582.0\n",
       "26              9.5  116969.0\n",
       "27              9.6  112635.0\n",
       "28             10.3  122391.0\n",
       "29             10.5  121872.0"
      ]
     },
     "execution_count": 11,
     "metadata": {},
     "output_type": "execute_result"
    }
   ],
   "source": [
    "df = pd.read_csv(\"salary_data.csv\")\n",
    "df"
   ]
  },
  {
   "cell_type": "markdown",
   "metadata": {
    "id": "CZ9Z2o876gsR"
   },
   "source": [
    "3. Use the dataframe you created to print the first 5 items (the 'head') to the output. Utilize Pandas' built-in functions for this!"
   ]
  },
  {
   "cell_type": "code",
   "execution_count": 12,
   "metadata": {
    "colab": {
     "base_uri": "https://localhost:8080/"
    },
    "id": "WCzQIk6nrzII",
    "outputId": "c27939e3-d38c-4ed7-a64e-8daa724b2ce0"
   },
   "outputs": [
    {
     "data": {
      "text/html": [
       "<div>\n",
       "<style scoped>\n",
       "    .dataframe tbody tr th:only-of-type {\n",
       "        vertical-align: middle;\n",
       "    }\n",
       "\n",
       "    .dataframe tbody tr th {\n",
       "        vertical-align: top;\n",
       "    }\n",
       "\n",
       "    .dataframe thead th {\n",
       "        text-align: right;\n",
       "    }\n",
       "</style>\n",
       "<table border=\"1\" class=\"dataframe\">\n",
       "  <thead>\n",
       "    <tr style=\"text-align: right;\">\n",
       "      <th></th>\n",
       "      <th>YearsExperience</th>\n",
       "      <th>Salary</th>\n",
       "    </tr>\n",
       "  </thead>\n",
       "  <tbody>\n",
       "    <tr>\n",
       "      <th>0</th>\n",
       "      <td>1.1</td>\n",
       "      <td>39343.0</td>\n",
       "    </tr>\n",
       "    <tr>\n",
       "      <th>1</th>\n",
       "      <td>1.3</td>\n",
       "      <td>46205.0</td>\n",
       "    </tr>\n",
       "    <tr>\n",
       "      <th>2</th>\n",
       "      <td>1.5</td>\n",
       "      <td>37731.0</td>\n",
       "    </tr>\n",
       "    <tr>\n",
       "      <th>3</th>\n",
       "      <td>2.0</td>\n",
       "      <td>43525.0</td>\n",
       "    </tr>\n",
       "    <tr>\n",
       "      <th>4</th>\n",
       "      <td>2.2</td>\n",
       "      <td>39891.0</td>\n",
       "    </tr>\n",
       "  </tbody>\n",
       "</table>\n",
       "</div>"
      ],
      "text/plain": [
       "   YearsExperience   Salary\n",
       "0              1.1  39343.0\n",
       "1              1.3  46205.0\n",
       "2              1.5  37731.0\n",
       "3              2.0  43525.0\n",
       "4              2.2  39891.0"
      ]
     },
     "execution_count": 12,
     "metadata": {},
     "output_type": "execute_result"
    }
   ],
   "source": [
    "df.head()"
   ]
  },
  {
   "cell_type": "markdown",
   "metadata": {
    "id": "0fxjfIan6yFD"
   },
   "source": [
    "4. Create a scatter plot using the Pandas dataframe. Make the X-axis years of experience, and the Y-axis the corresponding salary. Output the result. If you've done everything up to this point correctly, it should look like the following image:"
   ]
  },
  {
   "cell_type": "code",
   "execution_count": 38,
   "metadata": {},
   "outputs": [
    {
     "data": {
      "text/plain": [
       "<AxesSubplot:xlabel='YearsExperience', ylabel='Salary'>"
      ]
     },
     "execution_count": 38,
     "metadata": {},
     "output_type": "execute_result"
    },
    {
     "data": {
      "image/png": "[encoded data removed]",
      "text/plain": [
       "<Figure size 400x300 with 1 Axes>"
      ]
     },
     "metadata": {},
     "output_type": "display_data"
    }
   ],
   "source": [
    "df.plot(kind=\"scatter\", \n",
    "        x=\"YearsExperience\", \n",
    "        y=\"Salary\", \n",
    "        xlabel=\"YearsExperience\", \n",
    "        ylabel=\"Salary\", \n",
    "        figsize=(4,3), \n",
    "        grid=True)"
   ]
  },
  {
   "cell_type": "markdown",
   "metadata": {
    "id": "v5jKlqei7CLI"
   },
   "source": [
    "5. Implement the Least Squares approximation, to find a straight line that best approximates the data we've been provided with and plotted in the previous question. We'll be implementing this system manually - you're **not** allowed to use an external library like `numpy.linalg` to solve. You will, however, want to use the `numpy` constructions for numbers and matrices we already imported to manipulate your data.\n",
    "\n",
    "    > As a refresher, the Least Squares Approximation finds values $\\theta_0, \\theta_1$ such that $y = \\theta_0 + \\theta_1x$ is an accurate approximation of the trend of the data provided.\n",
    "    > \n",
    "    > In matrix form:\n",
    "    > $$A = [1 , X]$$\n",
    "    > \n",
    "    > $A$ can be thought of as a column of $1$'s and a column of sample $x$ values. Then, we define $\\theta$ as:\n",
    "    > \n",
    "    > $$\\theta = [\\theta_0, \\theta_1]^t$$\n",
    "    > \n",
    "    > So $b = A \\theta$\n",
    "    > \n",
    "    > To find the approximate result, we can use the pseudo-inverse of A:\n",
    "$$\\theta = [(A^t A)^{(-1)} A^t] b$$"
   ]
  },
  {
   "cell_type": "code",
   "execution_count": 91,
   "metadata": {
    "id": "iq7dnhrLsC39"
   },
   "outputs": [
    {
     "data": {
      "text/plain": [
       "array([25792.20019867,  9449.96232146])"
      ]
     },
     "execution_count": 91,
     "metadata": {},
     "output_type": "execute_result"
    }
   ],
   "source": [
    "# Compute the Least Squares Approximation: finds value c and m as the equation y = c + mx\n",
    "# According to the equation Ax = b,\n",
    "\n",
    "# Finds matrix A\n",
    "A = df.copy()\n",
    "A.pop('Salary')\n",
    "A.insert(0, '1\\'s', 1)\n",
    "A\n",
    "\n",
    "# Finds the transpose of A\n",
    "transpose_A = np.transpose(A)\n",
    "\n",
    "# Compute to find x in the equation to get the value of c and m\n",
    "x = np.linalg.inv(transpose_A.dot(A)).dot(transpose_A).dot(df['Salary'])\n",
    "\n",
    "# From the equation y = c + mx : c = x[0] and m = x[1]\n",
    "x"
   ]
  },
  {
   "cell_type": "markdown",
   "metadata": {
    "id": "VdG1Kldl7R2C"
   },
   "source": [
    "6. On top of the scatter plot you created in part **4**, we now want to use our calculated $\\theta$ to draw our approximate linear regression onto the plot surface. Start with the plot from earlier, and then use the `matplotlib.pyplot.plot` function to plot the predicted line from an array of $x_{pred}$ and $y_{pred}$ predictions. You'll need to likely compute $A$ for each section of the line in order to compute $y=A \\cdot \\theta$ for a given point - think about how you can use Numpy and matrices to calculate all of the points in the line at once!\n",
    "    If you've correctly set up your linear regression, as the end result you should see something that looks like this:\n",
    "\n",
    "    ![](o2.png)"
   ]
  },
  {
   "cell_type": "code",
   "execution_count": 96,
   "metadata": {},
   "outputs": [
    {
     "data": {
      "text/plain": [
       "[<matplotlib.lines.Line2D at 0x7f9ceadae6d0>]"
      ]
     },
     "execution_count": 96,
     "metadata": {},
     "output_type": "execute_result"
    },
    {
     "data": {
      "image/png": "[encoded data removed]",
      "text/plain": [
       "<Figure size 400x300 with 1 Axes>"
      ]
     },
     "metadata": {},
     "output_type": "display_data"
    }
   ],
   "source": [
    "df.plot(kind=\"scatter\", \n",
    "        x=\"YearsExperience\", \n",
    "        y=\"Salary\", \n",
    "        xlabel=\"YearsExperience\", \n",
    "        ylabel=\"Salary\", \n",
    "        figsize=(4,3), \n",
    "        grid=True)\n",
    "\n",
    "# From y = c + mx:\n",
    "y = x[0] + x[1] * df['YearsExperience']\n",
    "plt.plot(df['YearsExperience'], y, 'r-')"
   ]
  },
  {
   "cell_type": "code",
   "execution_count": null,
   "metadata": {},
   "outputs": [],
   "source": []
  }
 ],
 "metadata": {
  "colab": {
   "provenance": []
  },
  "kernelspec": {
   "display_name": "Python 3 (ipykernel)",
   "language": "python",
   "name": "python3"
  },
  "language_info": {
   "codemirror_mode": {
    "name": "ipython",
    "version": 3
   },
   "file_extension": ".py",
   "mimetype": "text/x-python",
   "name": "python",
   "nbconvert_exporter": "python",
   "pygments_lexer": "ipython3",
   "version": "3.9.13"
  }
 },
 "nbformat": 4,
 "nbformat_minor": 1
}

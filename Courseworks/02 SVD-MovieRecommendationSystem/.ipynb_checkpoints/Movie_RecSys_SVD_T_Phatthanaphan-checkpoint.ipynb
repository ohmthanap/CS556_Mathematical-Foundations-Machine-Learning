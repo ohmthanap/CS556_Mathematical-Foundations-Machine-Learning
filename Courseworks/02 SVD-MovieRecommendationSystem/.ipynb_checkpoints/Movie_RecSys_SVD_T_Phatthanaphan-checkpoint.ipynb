{
 "cells": [
  {
   "cell_type": "markdown",
   "metadata": {},
   "source": [
    "# Movie Recommendations HW"
   ]
  },
  {
   "cell_type": "markdown",
   "metadata": {
    "id": "_eJZKjLwzNna"
   },
   "source": [
    "**Name:** Thanapoom Phatthanaphan\n",
    "\n",
    "**ID:** 20011296"
   ]
  },
  {
   "cell_type": "markdown",
   "metadata": {
    "id": "oJMOMW76zRl1"
   },
   "source": [
    "**Collaboration Policy:** Homeworks will be done individually: each student must hand in their own answers. Use of partial or entire solutions obtained from others or online is strictly prohibited."
   ]
  },
  {
   "cell_type": "markdown",
   "metadata": {},
   "source": [
    "**Late Policy:** Late submission have a penalty of 2\\% for each passing hour. "
   ]
  },
  {
   "cell_type": "markdown",
   "metadata": {},
   "source": [
    "**Submission format:** Successfully complete the Movie Lens recommender as described in this jupyter notebook. Submit a `.py` and an `.ipynb` file for this notebook. You can go to `File -> Download as ->` to download a .py version of the notebook. \n",
    "\n",
    "**Only submit one `.ipynb` file and one `.py` file.** The `.ipynb` file should have answers to all the questions. Do *not* zip any files for submission. "
   ]
  },
  {
   "cell_type": "markdown",
   "metadata": {},
   "source": [
    "**Download the dataset from here:** https://grouplens.org/datasets/movielens/1m/"
   ]
  },
  {
   "cell_type": "code",
   "execution_count": 1,
   "metadata": {
    "id": "75xbWQGNzkIg"
   },
   "outputs": [],
   "source": [
    "# Import all the required libraries\n",
    "import numpy as np\n",
    "import pandas as pd"
   ]
  },
  {
   "cell_type": "markdown",
   "metadata": {
    "id": "60S7heeN0GiR"
   },
   "source": [
    "## Reading the Data\n",
    "Now that we have downloaded the files from the link above and placed them in the same directory as this Jupyter Notebook, we can load each of the tables of data as a CSV into Pandas. Execute the following, provided code."
   ]
  },
  {
   "cell_type": "code",
   "execution_count": 2,
   "metadata": {
    "colab": {
     "base_uri": "https://localhost:8080/"
    },
    "id": "1biZX5iFzOOi",
    "outputId": "2154c7e4-cc85-4d40-e3ac-6e46e8b16ee6",
    "scrolled": true
   },
   "outputs": [],
   "source": [
    "# Read the dataset from the two files into ratings_data and movies_data\n",
    "#NOTE: if you are getting a decode error, add \"encoding='ISO-8859-1'\" as an additional argument\n",
    "#      to the read_csv function\n",
    "column_list_ratings = [\"UserID\", \"MovieID\", \"Ratings\",\"Timestamp\"]\n",
    "ratings_data  = pd.read_csv('ratings.dat',sep='::',names = column_list_ratings, engine='python')\n",
    "column_list_movies = [\"MovieID\",\"Title\",\"Genres\"]\n",
    "movies_data = pd.read_csv('movies.dat',sep = '::',names = column_list_movies, engine='python', encoding = 'latin-1')\n",
    "column_list_users = [\"UserID\",\"Gender\",\"Age\",\"Occupation\",\"Zixp-code\"]\n",
    "user_data = pd.read_csv(\"users.dat\",sep = \"::\",names = column_list_users, engine='python')"
   ]
  },
  {
   "cell_type": "markdown",
   "metadata": {},
   "source": [
    "`ratings_data`, `movies_data`, `user_data` corresponds to the data loaded from `ratings.dat`, `movies.dat`, and `users.dat` in Pandas."
   ]
  },
  {
   "cell_type": "markdown",
   "metadata": {
    "id": "4wn6AJdh_sEP"
   },
   "source": [
    "## Data analysis"
   ]
  },
  {
   "cell_type": "markdown",
   "metadata": {
    "id": "4wn6AJdh_sEP"
   },
   "source": [
    "We now have all our data in Pandas - however, it's as three separate datasets! To make some more sense out of the data we have, we can use the Pandas `merge` function to combine our component data-frames. Run the following code:"
   ]
  },
  {
   "cell_type": "code",
   "execution_count": 3,
   "metadata": {
    "id": "4wn6AJdh_sEP"
   },
   "outputs": [
    {
     "data": {
      "text/html": [
       "<div>\n",
       "<style scoped>\n",
       "    .dataframe tbody tr th:only-of-type {\n",
       "        vertical-align: middle;\n",
       "    }\n",
       "\n",
       "    .dataframe tbody tr th {\n",
       "        vertical-align: top;\n",
       "    }\n",
       "\n",
       "    .dataframe thead th {\n",
       "        text-align: right;\n",
       "    }\n",
       "</style>\n",
       "<table border=\"1\" class=\"dataframe\">\n",
       "  <thead>\n",
       "    <tr style=\"text-align: right;\">\n",
       "      <th></th>\n",
       "      <th>UserID</th>\n",
       "      <th>MovieID</th>\n",
       "      <th>Ratings</th>\n",
       "      <th>Timestamp</th>\n",
       "      <th>Gender</th>\n",
       "      <th>Age</th>\n",
       "      <th>Occupation</th>\n",
       "      <th>Zixp-code</th>\n",
       "      <th>Title</th>\n",
       "      <th>Genres</th>\n",
       "    </tr>\n",
       "  </thead>\n",
       "  <tbody>\n",
       "    <tr>\n",
       "      <th>0</th>\n",
       "      <td>1</td>\n",
       "      <td>1193</td>\n",
       "      <td>5</td>\n",
       "      <td>978300760</td>\n",
       "      <td>F</td>\n",
       "      <td>1</td>\n",
       "      <td>10</td>\n",
       "      <td>48067</td>\n",
       "      <td>One Flew Over the Cuckoo's Nest (1975)</td>\n",
       "      <td>Drama</td>\n",
       "    </tr>\n",
       "    <tr>\n",
       "      <th>1</th>\n",
       "      <td>2</td>\n",
       "      <td>1193</td>\n",
       "      <td>5</td>\n",
       "      <td>978298413</td>\n",
       "      <td>M</td>\n",
       "      <td>56</td>\n",
       "      <td>16</td>\n",
       "      <td>70072</td>\n",
       "      <td>One Flew Over the Cuckoo's Nest (1975)</td>\n",
       "      <td>Drama</td>\n",
       "    </tr>\n",
       "    <tr>\n",
       "      <th>2</th>\n",
       "      <td>12</td>\n",
       "      <td>1193</td>\n",
       "      <td>4</td>\n",
       "      <td>978220179</td>\n",
       "      <td>M</td>\n",
       "      <td>25</td>\n",
       "      <td>12</td>\n",
       "      <td>32793</td>\n",
       "      <td>One Flew Over the Cuckoo's Nest (1975)</td>\n",
       "      <td>Drama</td>\n",
       "    </tr>\n",
       "    <tr>\n",
       "      <th>3</th>\n",
       "      <td>15</td>\n",
       "      <td>1193</td>\n",
       "      <td>4</td>\n",
       "      <td>978199279</td>\n",
       "      <td>M</td>\n",
       "      <td>25</td>\n",
       "      <td>7</td>\n",
       "      <td>22903</td>\n",
       "      <td>One Flew Over the Cuckoo's Nest (1975)</td>\n",
       "      <td>Drama</td>\n",
       "    </tr>\n",
       "    <tr>\n",
       "      <th>4</th>\n",
       "      <td>17</td>\n",
       "      <td>1193</td>\n",
       "      <td>5</td>\n",
       "      <td>978158471</td>\n",
       "      <td>M</td>\n",
       "      <td>50</td>\n",
       "      <td>1</td>\n",
       "      <td>95350</td>\n",
       "      <td>One Flew Over the Cuckoo's Nest (1975)</td>\n",
       "      <td>Drama</td>\n",
       "    </tr>\n",
       "    <tr>\n",
       "      <th>...</th>\n",
       "      <td>...</td>\n",
       "      <td>...</td>\n",
       "      <td>...</td>\n",
       "      <td>...</td>\n",
       "      <td>...</td>\n",
       "      <td>...</td>\n",
       "      <td>...</td>\n",
       "      <td>...</td>\n",
       "      <td>...</td>\n",
       "      <td>...</td>\n",
       "    </tr>\n",
       "    <tr>\n",
       "      <th>1000204</th>\n",
       "      <td>5949</td>\n",
       "      <td>2198</td>\n",
       "      <td>5</td>\n",
       "      <td>958846401</td>\n",
       "      <td>M</td>\n",
       "      <td>18</td>\n",
       "      <td>17</td>\n",
       "      <td>47901</td>\n",
       "      <td>Modulations (1998)</td>\n",
       "      <td>Documentary</td>\n",
       "    </tr>\n",
       "    <tr>\n",
       "      <th>1000205</th>\n",
       "      <td>5675</td>\n",
       "      <td>2703</td>\n",
       "      <td>3</td>\n",
       "      <td>976029116</td>\n",
       "      <td>M</td>\n",
       "      <td>35</td>\n",
       "      <td>14</td>\n",
       "      <td>30030</td>\n",
       "      <td>Broken Vessels (1998)</td>\n",
       "      <td>Drama</td>\n",
       "    </tr>\n",
       "    <tr>\n",
       "      <th>1000206</th>\n",
       "      <td>5780</td>\n",
       "      <td>2845</td>\n",
       "      <td>1</td>\n",
       "      <td>958153068</td>\n",
       "      <td>M</td>\n",
       "      <td>18</td>\n",
       "      <td>17</td>\n",
       "      <td>92886</td>\n",
       "      <td>White Boys (1999)</td>\n",
       "      <td>Drama</td>\n",
       "    </tr>\n",
       "    <tr>\n",
       "      <th>1000207</th>\n",
       "      <td>5851</td>\n",
       "      <td>3607</td>\n",
       "      <td>5</td>\n",
       "      <td>957756608</td>\n",
       "      <td>F</td>\n",
       "      <td>18</td>\n",
       "      <td>20</td>\n",
       "      <td>55410</td>\n",
       "      <td>One Little Indian (1973)</td>\n",
       "      <td>Comedy|Drama|Western</td>\n",
       "    </tr>\n",
       "    <tr>\n",
       "      <th>1000208</th>\n",
       "      <td>5938</td>\n",
       "      <td>2909</td>\n",
       "      <td>4</td>\n",
       "      <td>957273353</td>\n",
       "      <td>M</td>\n",
       "      <td>25</td>\n",
       "      <td>1</td>\n",
       "      <td>35401</td>\n",
       "      <td>Five Wives, Three Secretaries and Me (1998)</td>\n",
       "      <td>Documentary</td>\n",
       "    </tr>\n",
       "  </tbody>\n",
       "</table>\n",
       "<p>1000209 rows × 10 columns</p>\n",
       "</div>"
      ],
      "text/plain": [
       "         UserID  MovieID  Ratings  Timestamp Gender  Age  Occupation  \\\n",
       "0             1     1193        5  978300760      F    1          10   \n",
       "1             2     1193        5  978298413      M   56          16   \n",
       "2            12     1193        4  978220179      M   25          12   \n",
       "3            15     1193        4  978199279      M   25           7   \n",
       "4            17     1193        5  978158471      M   50           1   \n",
       "...         ...      ...      ...        ...    ...  ...         ...   \n",
       "1000204    5949     2198        5  958846401      M   18          17   \n",
       "1000205    5675     2703        3  976029116      M   35          14   \n",
       "1000206    5780     2845        1  958153068      M   18          17   \n",
       "1000207    5851     3607        5  957756608      F   18          20   \n",
       "1000208    5938     2909        4  957273353      M   25           1   \n",
       "\n",
       "        Zixp-code                                        Title  \\\n",
       "0           48067       One Flew Over the Cuckoo's Nest (1975)   \n",
       "1           70072       One Flew Over the Cuckoo's Nest (1975)   \n",
       "2           32793       One Flew Over the Cuckoo's Nest (1975)   \n",
       "3           22903       One Flew Over the Cuckoo's Nest (1975)   \n",
       "4           95350       One Flew Over the Cuckoo's Nest (1975)   \n",
       "...           ...                                          ...   \n",
       "1000204     47901                           Modulations (1998)   \n",
       "1000205     30030                        Broken Vessels (1998)   \n",
       "1000206     92886                            White Boys (1999)   \n",
       "1000207     55410                     One Little Indian (1973)   \n",
       "1000208     35401  Five Wives, Three Secretaries and Me (1998)   \n",
       "\n",
       "                       Genres  \n",
       "0                       Drama  \n",
       "1                       Drama  \n",
       "2                       Drama  \n",
       "3                       Drama  \n",
       "4                       Drama  \n",
       "...                       ...  \n",
       "1000204           Documentary  \n",
       "1000205                 Drama  \n",
       "1000206                 Drama  \n",
       "1000207  Comedy|Drama|Western  \n",
       "1000208           Documentary  \n",
       "\n",
       "[1000209 rows x 10 columns]"
      ]
     },
     "execution_count": 3,
     "metadata": {},
     "output_type": "execute_result"
    }
   ],
   "source": [
    "data=pd.merge(pd.merge(ratings_data,user_data),movies_data)\n",
    "data"
   ]
  },
  {
   "cell_type": "markdown",
   "metadata": {
    "id": "4wn6AJdh_sEP"
   },
   "source": [
    "Next, we can create a pivot table to match the ratings with a given movie title. Using `data.pivot_table`, we can aggregate (using the average/`mean` function) the reviews and find the average rating for each movie. We can save this pivot table into the `mean_ratings` variable. "
   ]
  },
  {
   "cell_type": "code",
   "execution_count": 4,
   "metadata": {
    "id": "4wn6AJdh_sEP"
   },
   "outputs": [
    {
     "data": {
      "text/html": [
       "<div>\n",
       "<style scoped>\n",
       "    .dataframe tbody tr th:only-of-type {\n",
       "        vertical-align: middle;\n",
       "    }\n",
       "\n",
       "    .dataframe tbody tr th {\n",
       "        vertical-align: top;\n",
       "    }\n",
       "\n",
       "    .dataframe thead th {\n",
       "        text-align: right;\n",
       "    }\n",
       "</style>\n",
       "<table border=\"1\" class=\"dataframe\">\n",
       "  <thead>\n",
       "    <tr style=\"text-align: right;\">\n",
       "      <th></th>\n",
       "      <th>Ratings</th>\n",
       "    </tr>\n",
       "    <tr>\n",
       "      <th>Title</th>\n",
       "      <th></th>\n",
       "    </tr>\n",
       "  </thead>\n",
       "  <tbody>\n",
       "    <tr>\n",
       "      <th>$1,000,000 Duck (1971)</th>\n",
       "      <td>3.027027</td>\n",
       "    </tr>\n",
       "    <tr>\n",
       "      <th>'Night Mother (1986)</th>\n",
       "      <td>3.371429</td>\n",
       "    </tr>\n",
       "    <tr>\n",
       "      <th>'Til There Was You (1997)</th>\n",
       "      <td>2.692308</td>\n",
       "    </tr>\n",
       "    <tr>\n",
       "      <th>'burbs, The (1989)</th>\n",
       "      <td>2.910891</td>\n",
       "    </tr>\n",
       "    <tr>\n",
       "      <th>...And Justice for All (1979)</th>\n",
       "      <td>3.713568</td>\n",
       "    </tr>\n",
       "    <tr>\n",
       "      <th>...</th>\n",
       "      <td>...</td>\n",
       "    </tr>\n",
       "    <tr>\n",
       "      <th>Zed &amp; Two Noughts, A (1985)</th>\n",
       "      <td>3.413793</td>\n",
       "    </tr>\n",
       "    <tr>\n",
       "      <th>Zero Effect (1998)</th>\n",
       "      <td>3.750831</td>\n",
       "    </tr>\n",
       "    <tr>\n",
       "      <th>Zero Kelvin (Kjærlighetens kjøtere) (1995)</th>\n",
       "      <td>3.500000</td>\n",
       "    </tr>\n",
       "    <tr>\n",
       "      <th>Zeus and Roxanne (1997)</th>\n",
       "      <td>2.521739</td>\n",
       "    </tr>\n",
       "    <tr>\n",
       "      <th>eXistenZ (1999)</th>\n",
       "      <td>3.256098</td>\n",
       "    </tr>\n",
       "  </tbody>\n",
       "</table>\n",
       "<p>3706 rows × 1 columns</p>\n",
       "</div>"
      ],
      "text/plain": [
       "                                             Ratings\n",
       "Title                                               \n",
       "$1,000,000 Duck (1971)                      3.027027\n",
       "'Night Mother (1986)                        3.371429\n",
       "'Til There Was You (1997)                   2.692308\n",
       "'burbs, The (1989)                          2.910891\n",
       "...And Justice for All (1979)               3.713568\n",
       "...                                              ...\n",
       "Zed & Two Noughts, A (1985)                 3.413793\n",
       "Zero Effect (1998)                          3.750831\n",
       "Zero Kelvin (Kjærlighetens kjøtere) (1995)  3.500000\n",
       "Zeus and Roxanne (1997)                     2.521739\n",
       "eXistenZ (1999)                             3.256098\n",
       "\n",
       "[3706 rows x 1 columns]"
      ]
     },
     "execution_count": 4,
     "metadata": {},
     "output_type": "execute_result"
    }
   ],
   "source": [
    "mean_ratings=data.pivot_table('Ratings','Title',aggfunc='mean')\n",
    "mean_ratings"
   ]
  },
  {
   "cell_type": "markdown",
   "metadata": {
    "id": "4wn6AJdh_sEP"
   },
   "source": [
    "Now, we can take the `mean_ratings` and sort it by the value of the rating itself. Using this and the `head` function, we can display the top 15 movies by average rating."
   ]
  },
  {
   "cell_type": "code",
   "execution_count": 5,
   "metadata": {
    "id": "4wn6AJdh_sEP"
   },
   "outputs": [
    {
     "data": {
      "text/html": [
       "<div>\n",
       "<style scoped>\n",
       "    .dataframe tbody tr th:only-of-type {\n",
       "        vertical-align: middle;\n",
       "    }\n",
       "\n",
       "    .dataframe tbody tr th {\n",
       "        vertical-align: top;\n",
       "    }\n",
       "\n",
       "    .dataframe thead th {\n",
       "        text-align: right;\n",
       "    }\n",
       "</style>\n",
       "<table border=\"1\" class=\"dataframe\">\n",
       "  <thead>\n",
       "    <tr style=\"text-align: right;\">\n",
       "      <th></th>\n",
       "      <th>Ratings</th>\n",
       "    </tr>\n",
       "    <tr>\n",
       "      <th>Title</th>\n",
       "      <th></th>\n",
       "    </tr>\n",
       "  </thead>\n",
       "  <tbody>\n",
       "    <tr>\n",
       "      <th>Ulysses (Ulisse) (1954)</th>\n",
       "      <td>5.000000</td>\n",
       "    </tr>\n",
       "    <tr>\n",
       "      <th>Lured (1947)</th>\n",
       "      <td>5.000000</td>\n",
       "    </tr>\n",
       "    <tr>\n",
       "      <th>Follow the Bitch (1998)</th>\n",
       "      <td>5.000000</td>\n",
       "    </tr>\n",
       "    <tr>\n",
       "      <th>Bittersweet Motel (2000)</th>\n",
       "      <td>5.000000</td>\n",
       "    </tr>\n",
       "    <tr>\n",
       "      <th>Song of Freedom (1936)</th>\n",
       "      <td>5.000000</td>\n",
       "    </tr>\n",
       "    <tr>\n",
       "      <th>One Little Indian (1973)</th>\n",
       "      <td>5.000000</td>\n",
       "    </tr>\n",
       "    <tr>\n",
       "      <th>Smashing Time (1967)</th>\n",
       "      <td>5.000000</td>\n",
       "    </tr>\n",
       "    <tr>\n",
       "      <th>Schlafes Bruder (Brother of Sleep) (1995)</th>\n",
       "      <td>5.000000</td>\n",
       "    </tr>\n",
       "    <tr>\n",
       "      <th>Gate of Heavenly Peace, The (1995)</th>\n",
       "      <td>5.000000</td>\n",
       "    </tr>\n",
       "    <tr>\n",
       "      <th>Baby, The (1973)</th>\n",
       "      <td>5.000000</td>\n",
       "    </tr>\n",
       "    <tr>\n",
       "      <th>I Am Cuba (Soy Cuba/Ya Kuba) (1964)</th>\n",
       "      <td>4.800000</td>\n",
       "    </tr>\n",
       "    <tr>\n",
       "      <th>Lamerica (1994)</th>\n",
       "      <td>4.750000</td>\n",
       "    </tr>\n",
       "    <tr>\n",
       "      <th>Apple, The (Sib) (1998)</th>\n",
       "      <td>4.666667</td>\n",
       "    </tr>\n",
       "    <tr>\n",
       "      <th>Sanjuro (1962)</th>\n",
       "      <td>4.608696</td>\n",
       "    </tr>\n",
       "    <tr>\n",
       "      <th>Seven Samurai (The Magnificent Seven) (Shichinin no samurai) (1954)</th>\n",
       "      <td>4.560510</td>\n",
       "    </tr>\n",
       "  </tbody>\n",
       "</table>\n",
       "</div>"
      ],
      "text/plain": [
       "                                                     Ratings\n",
       "Title                                                       \n",
       "Ulysses (Ulisse) (1954)                             5.000000\n",
       "Lured (1947)                                        5.000000\n",
       "Follow the Bitch (1998)                             5.000000\n",
       "Bittersweet Motel (2000)                            5.000000\n",
       "Song of Freedom (1936)                              5.000000\n",
       "One Little Indian (1973)                            5.000000\n",
       "Smashing Time (1967)                                5.000000\n",
       "Schlafes Bruder (Brother of Sleep) (1995)           5.000000\n",
       "Gate of Heavenly Peace, The (1995)                  5.000000\n",
       "Baby, The (1973)                                    5.000000\n",
       "I Am Cuba (Soy Cuba/Ya Kuba) (1964)                 4.800000\n",
       "Lamerica (1994)                                     4.750000\n",
       "Apple, The (Sib) (1998)                             4.666667\n",
       "Sanjuro (1962)                                      4.608696\n",
       "Seven Samurai (The Magnificent Seven) (Shichini...  4.560510"
      ]
     },
     "execution_count": 5,
     "metadata": {},
     "output_type": "execute_result"
    }
   ],
   "source": [
    "mean_ratings=data.pivot_table('Ratings',index=[\"Title\"],aggfunc='mean')\n",
    "top_15_mean_ratings = mean_ratings.sort_values(by = 'Ratings',ascending = False).head(15)\n",
    "top_15_mean_ratings"
   ]
  },
  {
   "cell_type": "markdown",
   "metadata": {
    "id": "4wn6AJdh_sEP"
   },
   "source": [
    "Let's adjust our original `mean_ratings` function to account for the differences in gender between reviews. This will be similar to the same code as before, except now we will provide an additional `columns` parameter which will separate the average ratings for men and women, respectively."
   ]
  },
  {
   "cell_type": "code",
   "execution_count": 6,
   "metadata": {
    "id": "4wn6AJdh_sEP"
   },
   "outputs": [
    {
     "data": {
      "text/html": [
       "<div>\n",
       "<style scoped>\n",
       "    .dataframe tbody tr th:only-of-type {\n",
       "        vertical-align: middle;\n",
       "    }\n",
       "\n",
       "    .dataframe tbody tr th {\n",
       "        vertical-align: top;\n",
       "    }\n",
       "\n",
       "    .dataframe thead th {\n",
       "        text-align: right;\n",
       "    }\n",
       "</style>\n",
       "<table border=\"1\" class=\"dataframe\">\n",
       "  <thead>\n",
       "    <tr style=\"text-align: right;\">\n",
       "      <th>Gender</th>\n",
       "      <th>F</th>\n",
       "      <th>M</th>\n",
       "    </tr>\n",
       "    <tr>\n",
       "      <th>Title</th>\n",
       "      <th></th>\n",
       "      <th></th>\n",
       "    </tr>\n",
       "  </thead>\n",
       "  <tbody>\n",
       "    <tr>\n",
       "      <th>$1,000,000 Duck (1971)</th>\n",
       "      <td>3.375000</td>\n",
       "      <td>2.761905</td>\n",
       "    </tr>\n",
       "    <tr>\n",
       "      <th>'Night Mother (1986)</th>\n",
       "      <td>3.388889</td>\n",
       "      <td>3.352941</td>\n",
       "    </tr>\n",
       "    <tr>\n",
       "      <th>'Til There Was You (1997)</th>\n",
       "      <td>2.675676</td>\n",
       "      <td>2.733333</td>\n",
       "    </tr>\n",
       "    <tr>\n",
       "      <th>'burbs, The (1989)</th>\n",
       "      <td>2.793478</td>\n",
       "      <td>2.962085</td>\n",
       "    </tr>\n",
       "    <tr>\n",
       "      <th>...And Justice for All (1979)</th>\n",
       "      <td>3.828571</td>\n",
       "      <td>3.689024</td>\n",
       "    </tr>\n",
       "    <tr>\n",
       "      <th>...</th>\n",
       "      <td>...</td>\n",
       "      <td>...</td>\n",
       "    </tr>\n",
       "    <tr>\n",
       "      <th>Zed &amp; Two Noughts, A (1985)</th>\n",
       "      <td>3.500000</td>\n",
       "      <td>3.380952</td>\n",
       "    </tr>\n",
       "    <tr>\n",
       "      <th>Zero Effect (1998)</th>\n",
       "      <td>3.864407</td>\n",
       "      <td>3.723140</td>\n",
       "    </tr>\n",
       "    <tr>\n",
       "      <th>Zero Kelvin (Kjærlighetens kjøtere) (1995)</th>\n",
       "      <td>NaN</td>\n",
       "      <td>3.500000</td>\n",
       "    </tr>\n",
       "    <tr>\n",
       "      <th>Zeus and Roxanne (1997)</th>\n",
       "      <td>2.777778</td>\n",
       "      <td>2.357143</td>\n",
       "    </tr>\n",
       "    <tr>\n",
       "      <th>eXistenZ (1999)</th>\n",
       "      <td>3.098592</td>\n",
       "      <td>3.289086</td>\n",
       "    </tr>\n",
       "  </tbody>\n",
       "</table>\n",
       "<p>3706 rows × 2 columns</p>\n",
       "</div>"
      ],
      "text/plain": [
       "Gender                                             F         M\n",
       "Title                                                         \n",
       "$1,000,000 Duck (1971)                      3.375000  2.761905\n",
       "'Night Mother (1986)                        3.388889  3.352941\n",
       "'Til There Was You (1997)                   2.675676  2.733333\n",
       "'burbs, The (1989)                          2.793478  2.962085\n",
       "...And Justice for All (1979)               3.828571  3.689024\n",
       "...                                              ...       ...\n",
       "Zed & Two Noughts, A (1985)                 3.500000  3.380952\n",
       "Zero Effect (1998)                          3.864407  3.723140\n",
       "Zero Kelvin (Kjærlighetens kjøtere) (1995)       NaN  3.500000\n",
       "Zeus and Roxanne (1997)                     2.777778  2.357143\n",
       "eXistenZ (1999)                             3.098592  3.289086\n",
       "\n",
       "[3706 rows x 2 columns]"
      ]
     },
     "execution_count": 6,
     "metadata": {},
     "output_type": "execute_result"
    }
   ],
   "source": [
    "mean_ratings=data.pivot_table('Ratings',index=[\"Title\"],columns=[\"Gender\"],aggfunc='mean')\n",
    "mean_ratings"
   ]
  },
  {
   "cell_type": "markdown",
   "metadata": {
    "id": "4wn6AJdh_sEP"
   },
   "source": [
    "We can now sort the ratings as before, but instead of by `Rating`, but by the `F` and `M` gendered rating columns. Print the top rated movies by male and female reviews, respectively."
   ]
  },
  {
   "cell_type": "code",
   "execution_count": 7,
   "metadata": {
    "id": "4wn6AJdh_sEP"
   },
   "outputs": [
    {
     "name": "stdout",
     "output_type": "stream",
     "text": [
      "Gender                                               F         M\n",
      "Title                                                           \n",
      "Clean Slate (Coup de Torchon) (1981)               5.0  3.857143\n",
      "Ballad of Narayama, The (Narayama Bushiko) (1958)  5.0  3.428571\n",
      "Raw Deal (1948)                                    5.0  3.307692\n",
      "Bittersweet Motel (2000)                           5.0       NaN\n",
      "Skipped Parts (2000)                               5.0  4.000000\n",
      "Lamerica (1994)                                    5.0  4.666667\n",
      "Gambler, The (A Játékos) (1997)                    5.0  3.166667\n",
      "Brother, Can You Spare a Dime? (1975)              5.0  3.642857\n",
      "Ayn Rand: A Sense of Life (1997)                   5.0  4.000000\n",
      "24 7: Twenty Four Seven (1997)                     5.0  3.750000\n",
      "Twice Upon a Yesterday (1998)                      5.0  3.222222\n",
      "Woman of Paris, A (1923)                           5.0  2.428571\n",
      "I Am Cuba (Soy Cuba/Ya Kuba) (1964)                5.0  4.750000\n",
      "Gate of Heavenly Peace, The (1995)                 5.0  5.000000\n",
      "For the Moment (1994)                              5.0  3.000000\n",
      "Gender                                              F         M\n",
      "Title                                                          \n",
      "Schlafes Bruder (Brother of Sleep) (1995)         NaN  5.000000\n",
      "Small Wonders (1996)                         3.333333  5.000000\n",
      "Gate of Heavenly Peace, The (1995)           5.000000  5.000000\n",
      "Baby, The (1973)                                  NaN  5.000000\n",
      "Ulysses (Ulisse) (1954)                           NaN  5.000000\n",
      "Dangerous Game (1993)                        4.000000  5.000000\n",
      "Angela (1995)                                3.000000  5.000000\n",
      "Bells, The (1926)                            4.000000  5.000000\n",
      "Smashing Time (1967)                              NaN  5.000000\n",
      "Follow the Bitch (1998)                           NaN  5.000000\n",
      "Lured (1947)                                      NaN  5.000000\n",
      "Time of the Gypsies (Dom za vesanje) (1989)  3.500000  4.833333\n",
      "I Am Cuba (Soy Cuba/Ya Kuba) (1964)          5.000000  4.750000\n",
      "Lamerica (1994)                              5.000000  4.666667\n",
      "Window to Paris (1994)                       4.000000  4.666667\n"
     ]
    }
   ],
   "source": [
    "data=pd.merge(pd.merge(ratings_data,user_data),movies_data)\n",
    "\n",
    "mean_ratings=data.pivot_table('Ratings',index=[\"Title\"],columns=[\"Gender\"],aggfunc='mean')\n",
    "top_female_ratings = mean_ratings.sort_values(by='F', ascending=False)\n",
    "print(top_female_ratings.head(15))\n",
    "\n",
    "top_male_ratings = mean_ratings.sort_values(by='M', ascending=False)\n",
    "print(top_male_ratings.head(15))"
   ]
  },
  {
   "cell_type": "code",
   "execution_count": 8,
   "metadata": {
    "id": "4wn6AJdh_sEP"
   },
   "outputs": [
    {
     "data": {
      "text/html": [
       "<div>\n",
       "<style scoped>\n",
       "    .dataframe tbody tr th:only-of-type {\n",
       "        vertical-align: middle;\n",
       "    }\n",
       "\n",
       "    .dataframe tbody tr th {\n",
       "        vertical-align: top;\n",
       "    }\n",
       "\n",
       "    .dataframe thead th {\n",
       "        text-align: right;\n",
       "    }\n",
       "</style>\n",
       "<table border=\"1\" class=\"dataframe\">\n",
       "  <thead>\n",
       "    <tr style=\"text-align: right;\">\n",
       "      <th>Gender</th>\n",
       "      <th>F</th>\n",
       "      <th>M</th>\n",
       "      <th>diff</th>\n",
       "    </tr>\n",
       "    <tr>\n",
       "      <th>Title</th>\n",
       "      <th></th>\n",
       "      <th></th>\n",
       "      <th></th>\n",
       "    </tr>\n",
       "  </thead>\n",
       "  <tbody>\n",
       "    <tr>\n",
       "      <th>James Dean Story, The (1957)</th>\n",
       "      <td>4.000000</td>\n",
       "      <td>1.000000</td>\n",
       "      <td>-3.000000</td>\n",
       "    </tr>\n",
       "    <tr>\n",
       "      <th>Country Life (1994)</th>\n",
       "      <td>5.000000</td>\n",
       "      <td>2.000000</td>\n",
       "      <td>-3.000000</td>\n",
       "    </tr>\n",
       "    <tr>\n",
       "      <th>Spiders, The (Die Spinnen, 1. Teil: Der Goldene See) (1919)</th>\n",
       "      <td>4.000000</td>\n",
       "      <td>1.000000</td>\n",
       "      <td>-3.000000</td>\n",
       "    </tr>\n",
       "    <tr>\n",
       "      <th>Babyfever (1994)</th>\n",
       "      <td>3.666667</td>\n",
       "      <td>1.000000</td>\n",
       "      <td>-2.666667</td>\n",
       "    </tr>\n",
       "    <tr>\n",
       "      <th>Woman of Paris, A (1923)</th>\n",
       "      <td>5.000000</td>\n",
       "      <td>2.428571</td>\n",
       "      <td>-2.571429</td>\n",
       "    </tr>\n",
       "    <tr>\n",
       "      <th>Cobra (1925)</th>\n",
       "      <td>4.000000</td>\n",
       "      <td>1.500000</td>\n",
       "      <td>-2.500000</td>\n",
       "    </tr>\n",
       "    <tr>\n",
       "      <th>Other Side of Sunday, The (Søndagsengler) (1996)</th>\n",
       "      <td>5.000000</td>\n",
       "      <td>2.928571</td>\n",
       "      <td>-2.071429</td>\n",
       "    </tr>\n",
       "    <tr>\n",
       "      <th>To Have, or Not (1995)</th>\n",
       "      <td>4.000000</td>\n",
       "      <td>2.000000</td>\n",
       "      <td>-2.000000</td>\n",
       "    </tr>\n",
       "    <tr>\n",
       "      <th>For the Moment (1994)</th>\n",
       "      <td>5.000000</td>\n",
       "      <td>3.000000</td>\n",
       "      <td>-2.000000</td>\n",
       "    </tr>\n",
       "    <tr>\n",
       "      <th>Phat Beach (1996)</th>\n",
       "      <td>3.000000</td>\n",
       "      <td>1.000000</td>\n",
       "      <td>-2.000000</td>\n",
       "    </tr>\n",
       "  </tbody>\n",
       "</table>\n",
       "</div>"
      ],
      "text/plain": [
       "Gender                                                     F         M  \\\n",
       "Title                                                                    \n",
       "James Dean Story, The (1957)                        4.000000  1.000000   \n",
       "Country Life (1994)                                 5.000000  2.000000   \n",
       "Spiders, The (Die Spinnen, 1. Teil: Der Goldene...  4.000000  1.000000   \n",
       "Babyfever (1994)                                    3.666667  1.000000   \n",
       "Woman of Paris, A (1923)                            5.000000  2.428571   \n",
       "Cobra (1925)                                        4.000000  1.500000   \n",
       "Other Side of Sunday, The (Søndagsengler) (1996)    5.000000  2.928571   \n",
       "To Have, or Not (1995)                              4.000000  2.000000   \n",
       "For the Moment (1994)                               5.000000  3.000000   \n",
       "Phat Beach (1996)                                   3.000000  1.000000   \n",
       "\n",
       "Gender                                                  diff  \n",
       "Title                                                         \n",
       "James Dean Story, The (1957)                       -3.000000  \n",
       "Country Life (1994)                                -3.000000  \n",
       "Spiders, The (Die Spinnen, 1. Teil: Der Goldene... -3.000000  \n",
       "Babyfever (1994)                                   -2.666667  \n",
       "Woman of Paris, A (1923)                           -2.571429  \n",
       "Cobra (1925)                                       -2.500000  \n",
       "Other Side of Sunday, The (Søndagsengler) (1996)   -2.071429  \n",
       "To Have, or Not (1995)                             -2.000000  \n",
       "For the Moment (1994)                              -2.000000  \n",
       "Phat Beach (1996)                                  -2.000000  "
      ]
     },
     "execution_count": 8,
     "metadata": {},
     "output_type": "execute_result"
    }
   ],
   "source": [
    "mean_ratings['diff'] = mean_ratings['M'] - mean_ratings['F']\n",
    "sorted_by_diff = mean_ratings.sort_values(by='diff')\n",
    "sorted_by_diff[:10]"
   ]
  },
  {
   "cell_type": "markdown",
   "metadata": {
    "id": "4wn6AJdh_sEP"
   },
   "source": [
    "Let's try grouping the data-frame, instead, to see how different titles compare in terms of the number of ratings. Group by `Title` and then take the top 10 items by number of reviews. We can see here the most popularly-reviewed titles."
   ]
  },
  {
   "cell_type": "code",
   "execution_count": 9,
   "metadata": {
    "id": "4wn6AJdh_sEP"
   },
   "outputs": [
    {
     "data": {
      "text/plain": [
       "Title\n",
       "American Beauty (1999)                                   3428\n",
       "Star Wars: Episode IV - A New Hope (1977)                2991\n",
       "Star Wars: Episode V - The Empire Strikes Back (1980)    2990\n",
       "Star Wars: Episode VI - Return of the Jedi (1983)        2883\n",
       "Jurassic Park (1993)                                     2672\n",
       "Saving Private Ryan (1998)                               2653\n",
       "Terminator 2: Judgment Day (1991)                        2649\n",
       "Matrix, The (1999)                                       2590\n",
       "Back to the Future (1985)                                2583\n",
       "Silence of the Lambs, The (1991)                         2578\n",
       "dtype: int64"
      ]
     },
     "execution_count": 9,
     "metadata": {},
     "output_type": "execute_result"
    }
   ],
   "source": [
    "ratings_by_title=data.groupby('Title').size()\n",
    "ratings_by_title.sort_values(ascending=False).head(10)"
   ]
  },
  {
   "cell_type": "markdown",
   "metadata": {
    "id": "4wn6AJdh_sEP"
   },
   "source": [
    "Similarly, we can filter our grouped data-frame to get all titles with a certain number of reviews. Filter the dataset to get all movie titles such that the number of reviews is >= 2500."
   ]
  },
  {
   "cell_type": "markdown",
   "metadata": {},
   "source": [
    "## Question 1"
   ]
  },
  {
   "cell_type": "markdown",
   "metadata": {},
   "source": [
    "Create a ratings matrix using Numpy. This matrix allows us to see the ratings for a given movie and user ID. The element at location $[i,j]$ is a rating given by user $i$ for movie $j$. Print the **shape** of the matrix produced.  \n",
    "\n",
    "Additionally, choose 3 users that have rated the movie with MovieID \"**1377**\" (Batman Returns). Print these ratings, they will be used later for comparison.\n",
    "\n",
    "\n",
    "**Notes:**\n",
    "- Do *not* use `pivot_table`.\n",
    "- A ratings matrix is *not* the same as `ratings_data` from above.\n",
    "- The ratings of movie with MovieID $i$ are stored in the ($i$-1)th column (index starts from 0)  \n",
    "- Not every user has rated every movie. Missing entries should be set to 0 for now.\n",
    "- If you're stuck, you might want to look into `np.zeros` and how to use it to create a matrix of the desired shape.\n",
    "- Every review lies between 1 and 5, and thus fits within a `uint8` datatype, which you can specify to numpy."
   ]
  },
  {
   "cell_type": "code",
   "execution_count": 10,
   "metadata": {},
   "outputs": [
    {
     "name": "stdout",
     "output_type": "stream",
     "text": [
      "[[5 0 0 ... 0 0 0]\n",
      " [0 0 0 ... 0 0 0]\n",
      " [0 0 0 ... 0 0 0]\n",
      " ...\n",
      " [0 0 0 ... 0 0 0]\n",
      " [0 0 0 ... 0 0 0]\n",
      " [3 0 0 ... 0 0 0]]\n"
     ]
    }
   ],
   "source": [
    "# Create the desired matrix which\n",
    "# the number of rows is the number of users\n",
    "# and the number of columns is the number of movies\n",
    "ratings = np.zeros((max(user_data['UserID']), max(movies_data['MovieID'])), dtype=np.uint8)\n",
    "\n",
    "# Add movie rating of each user in the matrix\n",
    "for i in data.itertuples():\n",
    "    ratings[i.UserID - 1, i.MovieID - 1] = i.Ratings\n",
    "\n",
    "print(ratings)"
   ]
  },
  {
   "cell_type": "code",
   "execution_count": 11,
   "metadata": {},
   "outputs": [
    {
     "name": "stdout",
     "output_type": "stream",
     "text": [
      "(6040, 3952)\n"
     ]
    }
   ],
   "source": [
    "# Print the shape\n",
    "print(ratings.shape)"
   ]
  },
  {
   "cell_type": "code",
   "execution_count": 12,
   "metadata": {},
   "outputs": [
    {
     "name": "stdout",
     "output_type": "stream",
     "text": [
      "[3 3 2]\n"
     ]
    }
   ],
   "source": [
    "# Store and print ratings for Batman Returns\n",
    "ratings_batman = np.array([ratings[9, 1376],ratings[12, 1376], ratings[17, 1376] ])\n",
    "print(ratings_batman)"
   ]
  },
  {
   "cell_type": "markdown",
   "metadata": {},
   "source": [
    "## Question 2"
   ]
  },
  {
   "cell_type": "markdown",
   "metadata": {},
   "source": [
    "Normalize the ratings matrix (created in **Question 1**) using Z-score normalization. While we can't use `sklearn`'s `StandardScaler` for this step, we can do the statistical calculations ourselves to normalize the data.\n",
    "\n",
    "Before you start:\n",
    "- Your first step should be to get the average of every *column* of the ratings matrix (we want an average by title, not by user!).\n",
    "- Make sure that the mean is calculated considering only non-zero elements. If there is a movie which is rated only by 10 users, we get its mean rating using (sum of the 10 ratings)/10 and **NOT** (sum of 10 ratings)/(total number of users)\n",
    "- All of the missing values in the dataset should be replaced with the average rating for the given movie. This is a complex topic, but for our case replacing empty values with the mean will make it so that the absence of a rating doesn't affect the overall average, and it provides an \"expected value\" which is useful for computing correlations and recommendations in later steps.\n",
    "- In our matrix, 0 represents a missing rating.\n",
    "- Next, we want to subtract the average from the original ratings thus allowing us to get a mean of 0 in every *column*. It may be very close but not exactly zero because of the limited precision `float`s allow.\n",
    "- Lastly, divide this by the standard deviation of the *column*.\n",
    "\n",
    "- Not every MovieID is used, leading to zero columns. This will cause a divide by zero error when normalizing the matrix. Simply replace any NaN values in your normalized matrix with 0."
   ]
  },
  {
   "cell_type": "code",
   "execution_count": 13,
   "metadata": {
    "scrolled": true
   },
   "outputs": [
    {
     "name": "stderr",
     "output_type": "stream",
     "text": [
      "/Users/thanapoomphatthanaphan/opt/anaconda3/lib/python3.9/site-packages/numpy/core/fromnumeric.py:3440: RuntimeWarning: Mean of empty slice.\n",
      "  return _methods._mean(a, axis=axis, dtype=dtype,\n",
      "/Users/thanapoomphatthanaphan/opt/anaconda3/lib/python3.9/site-packages/numpy/core/_methods.py:189: RuntimeWarning: invalid value encountered in double_scalars\n",
      "  ret = ret.dtype.type(ret / rcount)\n"
     ]
    },
    {
     "name": "stdout",
     "output_type": "stream",
     "text": [
      "[[ 1.00118491  0.          0.         ...  0.          0.\n",
      "   0.        ]\n",
      " [ 0.          0.          0.         ...  0.          0.\n",
      "   0.        ]\n",
      " [ 0.          0.          0.         ...  0.          0.\n",
      "   0.        ]\n",
      " ...\n",
      " [ 0.          0.          0.         ...  0.          0.\n",
      "   0.        ]\n",
      " [ 0.          0.          0.         ...  0.          0.\n",
      "   0.        ]\n",
      " [-1.3458366   0.          0.         ...  0.          0.\n",
      "   0.        ]]\n"
     ]
    },
    {
     "name": "stderr",
     "output_type": "stream",
     "text": [
      "/Users/thanapoomphatthanaphan/opt/anaconda3/lib/python3.9/site-packages/numpy/lib/nanfunctions.py:1670: RuntimeWarning: Degrees of freedom <= 0 for slice.\n",
      "  var = nanvar(a, axis=axis, dtype=dtype, out=out, ddof=ddof,\n",
      "/var/folders/bk/66r4ld3j7hj8yg_49fhv2fr40000gn/T/ipykernel_16294/2626581046.py:18: RuntimeWarning: invalid value encountered in true_divide\n",
      "  normalized_matrix /= column_std\n"
     ]
    }
   ],
   "source": [
    "# Find average of every column of the ratings matrix\n",
    "column_mean = []\n",
    "for i in range(ratings.shape[1]):\n",
    "    mean = np.mean(ratings[:, i][ratings[:, i] != 0])\n",
    "    column_mean.append(mean) \n",
    "\n",
    "# Replace missing values (0 value) with mean in each column of the matrix\n",
    "normalized_matrix = np.array(ratings, dtype=float)\n",
    "normalized_matrix = np.where(normalized_matrix == 0, column_mean, normalized_matrix)\n",
    "\n",
    "# Subtract the average from the original ratings\n",
    "normalized_matrix -= column_mean\n",
    "\n",
    "# Divide by the standard deviation of the column\n",
    "ratings = ratings.astype('float64')\n",
    "ratings[ratings == 0] = np.nan\n",
    "column_std = np.nanstd(ratings, axis=0)\n",
    "normalized_matrix /= column_std\n",
    "\n",
    "# Replace NaN value as 0 value\n",
    "normalized_matrix[np.isnan(normalized_matrix)] = 0\n",
    "print(normalized_matrix)"
   ]
  },
  {
   "cell_type": "markdown",
   "metadata": {},
   "source": [
    "## Question 3"
   ]
  },
  {
   "cell_type": "markdown",
   "metadata": {
    "id": "LMTGisty8vux"
   },
   "source": [
    "We're now going to perform Singular Value Decomposition (SVD) on the normalized ratings matrix from the previous question. Perform the process using numpy, and along the way print the shapes of the $U$, $S$, and $V$ matrices you calculated."
   ]
  },
  {
   "cell_type": "code",
   "execution_count": 14,
   "metadata": {
    "id": "rPQyIi5sFYXH"
   },
   "outputs": [
    {
     "name": "stdout",
     "output_type": "stream",
     "text": [
      "[[ 1.00118491e+00 -1.36105320e-15  6.61634376e-16 ... -7.04094443e-16\n",
      "  -5.70724024e-16 -1.60279725e-15]\n",
      " [-2.11012848e-17 -7.22376802e-16 -2.41993925e-16 ... -1.06577074e-16\n",
      "   6.55617054e-16  3.23319930e-15]\n",
      " [ 6.78302290e-16 -1.09179159e-15  6.04090345e-16 ...  3.75025531e-16\n",
      "   5.09032920e-17  1.09075482e-15]\n",
      " ...\n",
      " [ 2.02266386e-16  6.88197329e-16  3.37512136e-16 ... -2.86568187e-16\n",
      "  -7.31294365e-17 -3.49065666e-16]\n",
      " [-1.66953582e-16 -8.37031182e-16 -3.77776694e-16 ... -1.13071445e-15\n",
      "  -5.63636052e-16  9.67176100e-17]\n",
      " [-1.34583660e+00  9.78213956e-15  4.59053233e-15 ... -4.66857455e-16\n",
      "   4.53467559e-16  1.29966025e-15]]\n"
     ]
    }
   ],
   "source": [
    "# Compute the SVD of the normalised matrix\n",
    "U, s, VT = np.linalg.svd(normalized_matrix)\n",
    "S = np.zeros((normalized_matrix.shape[0], normalized_matrix.shape[1]))\n",
    "S[:normalized_matrix.shape[1], :normalized_matrix.shape[1]] = np.diag(s)\n",
    "svd = U@S@VT\n",
    "print(svd)"
   ]
  },
  {
   "cell_type": "code",
   "execution_count": 15,
   "metadata": {
    "colab": {
     "base_uri": "https://localhost:8080/"
    },
    "id": "H5hkpi0LFhw2",
    "outputId": "d2ab6426-625b-40d3-b72a-c25a5f9882e4"
   },
   "outputs": [
    {
     "name": "stdout",
     "output_type": "stream",
     "text": [
      "(6040, 6040)\n",
      "(6040, 3952)\n",
      "(3952, 3952)\n"
     ]
    }
   ],
   "source": [
    "# Print the shapes\n",
    "print(U.shape)\n",
    "print(S.shape)\n",
    "print(VT.shape)"
   ]
  },
  {
   "cell_type": "markdown",
   "metadata": {},
   "source": [
    "## Question 4"
   ]
  },
  {
   "cell_type": "markdown",
   "metadata": {},
   "source": [
    "Reconstruct four rank-k rating matrix $R_k$, where $R_k = U_kS_kV_k^T$ for k = [100, 1000, 2000, 3000]. Using each of $R_k$ make predictions for the 3 users selected in Question 1, for the movie with ID 1377 (Batman Returns). Compare the original ratings with the predicted ratings."
   ]
  },
  {
   "cell_type": "code",
   "execution_count": 16,
   "metadata": {},
   "outputs": [
    {
     "name": "stdout",
     "output_type": "stream",
     "text": [
      "\n",
      "Predictions for the 3 users rated Batman Returns for k = 100\n",
      "[3.52484139 3.01403391 2.53928225]\n",
      "[3 3 2]\n",
      "\n",
      "Predictions for the 3 users rated Batman Returns for k = 1000\n",
      "[2.93981501 3.03086574 2.06777061]\n",
      "[3 3 2]\n",
      "\n",
      "Predictions for the 3 users rated Batman Returns for k = 2000\n",
      "[3.01116523 3.00914311 1.99047967]\n",
      "[3 3 2]\n",
      "\n",
      "Predictions for the 3 users rated Batman Returns for k = 3000\n",
      "[2.99932658 2.99925765 1.99920346]\n",
      "[3 3 2]\n"
     ]
    }
   ],
   "source": [
    "# Reconstruct four rank-k rating matrix\n",
    "for k in [100, 1000, 2000, 3000]:\n",
    "    r_k = U[:, :k]@S[:k, :k]@VT[:k, :]\n",
    "    \n",
    "    # Rescale the reconstructed data matrix back to the original scale\n",
    "    r_k *= column_std\n",
    "    r_k += column_mean\n",
    "    \n",
    "    # Compare predicted ratings with the original ratings    \n",
    "    ratings_batman_predict = r_k[[9, 12, 17], 1376]\n",
    "    print(f\"\\nPredictions for the 3 users rated Batman Returns for k = {k}\")\n",
    "    print(ratings_batman_predict)\n",
    "    print(ratings_batman)"
   ]
  },
  {
   "cell_type": "markdown",
   "metadata": {},
   "source": [
    "## Question 5"
   ]
  },
  {
   "cell_type": "markdown",
   "metadata": {},
   "source": [
    "### Cosine Similarity\n",
    "Cosine similarity is a metric used to measure how similar two vectors are. Mathematically, it measures the cosine of the angle between two vectors projected in a multi-dimensional space. Cosine similarity is high if the angle between two vectors is 0, and the output value ranges within $cosine(x,y) \\in [0,1]$. $0$ means there is no similarity (perpendicular), where $1$ (parallel) means that both the items are 100% similar.\n",
    "\n",
    "$$ cosine(x,y) = \\frac{x^T y}{||x|| ||y||}  $$"
   ]
  },
  {
   "cell_type": "markdown",
   "metadata": {
    "id": "mtb73iEU9MV4"
   },
   "source": [
    "**Based on the reconstruction rank-1000 rating matrix $R_{1000}$ and the cosine similarity,** sort the movies which are most similar. You will have a function `top_movie_similarity` which sorts data by its similarity to a movie with ID `movie_id` and returns the top $n$ items, and a second function `print_similar_movies` which prints the titles of said similar movies. Return the top 5 movies for the movie with ID `1377` (*Batman Returns*)\n",
    "\n",
    "Note: While finding the cosine similarity, there are a few empty columns which will have a magnitude of **zero** resulting in NaN values. These should be replaced by 0, otherwise these columns will show most similarity with the given movie. "
   ]
  },
  {
   "cell_type": "code",
   "execution_count": 17,
   "metadata": {
    "id": "AuE4g481HoH2"
   },
   "outputs": [
    {
     "name": "stdout",
     "output_type": "stream",
     "text": [
      "Most Similar movies: \n",
      "1. Batman Returns (1992)\n",
      "2. Batman (1989)\n",
      "3. Batman Forever (1995)\n",
      "4. Men in Black (1997)\n",
      "5. Back to the Future Part II (1989)\n",
      "6. True Lies (1994)\n"
     ]
    }
   ],
   "source": [
    "# Sort the movies based on cosine similarity\n",
    "def top_movie_similarity(data, movie_id, top_n=5):\n",
    "    # Movie id starts from 1\n",
    "    # Use the calculation formula above to compute Cosine Similarity\n",
    "    x = data\n",
    "    y = data[:, movie_id - 1]\n",
    "    magnitude_x = np.linalg.norm(x)\n",
    "    magnitude_y = np.linalg.norm(y)\n",
    "    dot_product = np.dot(x.T, y)\n",
    "    cosine_similarity = dot_product/(magnitude_x * magnitude_y)\n",
    "    \n",
    "    # descending sort\n",
    "    top_indices_similar_movies = np.argsort(-cosine_similarity)[0:top_n + 1]\n",
    "    \n",
    "    return top_indices_similar_movies\n",
    "\n",
    "\n",
    "# Print the top 5 movies for Batman Returns\n",
    "def print_similar_movies(movie_titles, top_indices_similar_movies):\n",
    "    print('Most Similar movies: ')\n",
    "    for i, movie in enumerate(top_indices_similar_movies):\n",
    "        print(f\"{i+1}. {movie_titles[movie_titles['MovieID'] == movie + 1]['Title'].values[0]}\")\n",
    "\n",
    "        \n",
    "movie_id = 1377\n",
    "r_1000 = U[:, :1000]@S[:1000, :1000]@VT[:1000, :]\n",
    "\n",
    "# Compute Cosine Similarity based on rank-1000 rating matrix\n",
    "top_indices_similar_movies = top_movie_similarity(r_1000, movie_id)\n",
    "print_similar_movies(movies_data, top_indices_similar_movies)"
   ]
  },
  {
   "cell_type": "markdown",
   "metadata": {},
   "source": [
    "## Question 6"
   ]
  },
  {
   "cell_type": "markdown",
   "metadata": {},
   "source": [
    "### Movie Recommendations\n",
    "Using the same process from Question 5, write `top_user_similarity` which sorts data by its similarity to a user with ID `user_id` and returns the top result. Then find the MovieIDs of the movies that this similar user has rated most highly, but that `user_id` has not yet seen. Find at least 5 movie recommendations for the user with ID `5954` and print their titles.\n",
    "\n",
    "Hint: To check your results, find the genres of the movies that the user likes and compare with the genres of the recommended movies."
   ]
  },
  {
   "cell_type": "code",
   "execution_count": 18,
   "metadata": {},
   "outputs": [
    {
     "name": "stdout",
     "output_type": "stream",
     "text": [
      "Movie recommendations: \n",
      "1. And the Band Played On (1993)\n",
      "2. Far and Away (1992)\n",
      "3. Cop Land (1997)\n",
      "4. High Fidelity (2000)\n",
      "5. Leaving Las Vegas (1995)\n",
      "6. Nell (1994)\n",
      "7. Man Without a Face, The (1993)\n",
      "8. Magnolia (1999)\n",
      "9. Swingers (1996)\n",
      "10. Taxi Driver (1976)\n"
     ]
    }
   ],
   "source": [
    "#Sort users based on cosine similarity\n",
    "def top_user_similarity(data, user_id):\n",
    "    # Use the calculation formula above to compute Cosine Similarity\n",
    "    x = data\n",
    "    y = data[user_id - 1, :]\n",
    "    magnitude_x = np.linalg.norm(x)\n",
    "    magnitude_y = np.linalg.norm(y)\n",
    "    dot_product = np.dot(x, y.T)\n",
    "    cosine_similarity = dot_product/(magnitude_x * magnitude_y)\n",
    "    \n",
    "    # descending sort\n",
    "    top_indices_similar_user = np.argsort(-cosine_similarity)[1]\n",
    "    return top_indices_similar_user\n",
    "\n",
    "\n",
    "user_id = 5954\n",
    "\n",
    "# Create array of movies that user has never seen\n",
    "movie_user_seen = data[data['UserID'] == user_id]['MovieID'].values\n",
    "movie_user_not_seen = movies_data[~movies_data['MovieID'].isin(movie_user_seen)]['MovieID'].values\n",
    "\n",
    "# Compute Cosine Similarity based on rank-1000 rating matrix\n",
    "top_indices_similar_user = top_user_similarity(r_1000, user_id)\n",
    "\n",
    "# Find top rated movies of similar user\n",
    "top_rated_movie = data[(data['UserID'] == top_indices_similar_user) & data['MovieID'].isin(movie_user_not_seen)][['Title', 'Ratings']].values\n",
    "top_rated_movie = top_rated_movie[np.argsort(-top_rated_movie[:, 1])]\n",
    "\n",
    "# Print movie recommendations\n",
    "print('Movie recommendations: ')\n",
    "for i, movie in enumerate(top_rated_movie[0:10]):\n",
    "    print(f\"{i+1}. {movie[0]}\")"
   ]
  }
 ],
 "metadata": {
  "colab": {
   "name": "Assignment 2 solutions.ipynb",
   "provenance": []
  },
  "kernelspec": {
   "display_name": "Python 3 (ipykernel)",
   "language": "python",
   "name": "python3"
  },
  "language_info": {
   "codemirror_mode": {
    "name": "ipython",
    "version": 3
   },
   "file_extension": ".py",
   "mimetype": "text/x-python",
   "name": "python",
   "nbconvert_exporter": "python",
   "pygments_lexer": "ipython3",
   "version": "3.9.13"
  },
  "vscode": {
   "interpreter": {
    "hash": "e7370f93d1d0cde622a1f8e1c04877d8463912d04d973331ad4851f04de6915a"
   }
  }
 },
 "nbformat": 4,
 "nbformat_minor": 1
}

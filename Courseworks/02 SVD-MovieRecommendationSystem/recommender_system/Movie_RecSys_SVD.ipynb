{
 "cells": [
  {
   "cell_type": "markdown",
   "metadata": {},
   "source": [
    "# Movie Recommendations HW"
   ]
  },
  {
   "cell_type": "markdown",
   "metadata": {
    "id": "_eJZKjLwzNna"
   },
   "source": [
    "**Name:**  "
   ]
  },
  {
   "cell_type": "markdown",
   "metadata": {
    "id": "oJMOMW76zRl1"
   },
   "source": [
    "**Collaboration Policy:** Homeworks will be done individually: each student must hand in their own answers. Use of partial or entire solutions obtained from others or online is strictly prohibited."
   ]
  },
  {
   "cell_type": "markdown",
   "metadata": {},
   "source": [
    "**Late Policy:** Late submission have a penalty of 2\\% for each passing hour. "
   ]
  },
  {
   "cell_type": "markdown",
   "metadata": {},
   "source": [
    "**Submission format:** Successfully complete the Movie Lens recommender as described in this jupyter notebook. Submit a `.py` and an `.ipynb` file for this notebook. You can go to `File -> Download as ->` to download a .py version of the notebook. \n",
    "\n",
    "**Only submit one `.ipynb` file and one `.py` file.** The `.ipynb` file should have answers to all the questions. Do *not* zip any files for submission. "
   ]
  },
  {
   "cell_type": "markdown",
   "metadata": {},
   "source": [
    "**Download the dataset from here:** https://grouplens.org/datasets/movielens/1m/"
   ]
  },
  {
   "cell_type": "code",
   "execution_count": 1,
   "metadata": {
    "id": "75xbWQGNzkIg"
   },
   "outputs": [],
   "source": [
    "# Import all the required libraries\n",
    "import numpy as np\n",
    "import pandas as pd"
   ]
  },
  {
   "cell_type": "markdown",
   "metadata": {
    "id": "60S7heeN0GiR"
   },
   "source": [
    "## Reading the Data\n",
    "Now that we have downloaded the files from the link above and placed them in the same directory as this Jupyter Notebook, we can load each of the tables of data as a CSV into Pandas. Execute the following, provided code."
   ]
  },
  {
   "cell_type": "code",
   "execution_count": null,
   "metadata": {
    "colab": {
     "base_uri": "https://localhost:8080/"
    },
    "id": "1biZX5iFzOOi",
    "outputId": "2154c7e4-cc85-4d40-e3ac-6e46e8b16ee6",
    "scrolled": true
   },
   "outputs": [],
   "source": [
    "# Read the dataset from the two files into ratings_data and movies_data\n",
    "#NOTE: if you are getting a decode error, add \"encoding='ISO-8859-1'\" as an additional argument\n",
    "#      to the read_csv function\n",
    "column_list_ratings = [\"UserID\", \"MovieID\", \"Ratings\",\"Timestamp\"]\n",
    "ratings_data  = pd.read_csv('ratings.dat',sep='::',names = column_list_ratings, engine='python')\n",
    "column_list_movies = [\"MovieID\",\"Title\",\"Genres\"]\n",
    "movies_data = pd.read_csv('movies.dat',sep = '::',names = column_list_movies, engine='python', encoding = 'latin-1')\n",
    "column_list_users = [\"UserID\",\"Gender\",\"Age\",\"Occupation\",\"Zixp-code\"]\n",
    "user_data = pd.read_csv(\"users.dat\",sep = \"::\",names = column_list_users, engine='python')"
   ]
  },
  {
   "cell_type": "markdown",
   "metadata": {},
   "source": [
    "`ratings_data`, `movies_data`, `user_data` corresponds to the data loaded from `ratings.dat`, `movies.dat`, and `users.dat` in Pandas."
   ]
  },
  {
   "cell_type": "markdown",
   "metadata": {
    "id": "4wn6AJdh_sEP"
   },
   "source": [
    "## Data analysis"
   ]
  },
  {
   "cell_type": "markdown",
   "metadata": {
    "id": "4wn6AJdh_sEP"
   },
   "source": [
    "We now have all our data in Pandas - however, it's as three separate datasets! To make some more sense out of the data we have, we can use the Pandas `merge` function to combine our component data-frames. Run the following code:"
   ]
  },
  {
   "cell_type": "code",
   "execution_count": null,
   "metadata": {
    "id": "4wn6AJdh_sEP"
   },
   "outputs": [],
   "source": [
    "data=pd.merge(pd.merge(ratings_data,user_data),movies_data)\n",
    "data"
   ]
  },
  {
   "cell_type": "markdown",
   "metadata": {
    "id": "4wn6AJdh_sEP"
   },
   "source": [
    "Next, we can create a pivot table to match the ratings with a given movie title. Using `data.pivot_table`, we can aggregate (using the average/`mean` function) the reviews and find the average rating for each movie. We can save this pivot table into the `mean_ratings` variable. "
   ]
  },
  {
   "cell_type": "code",
   "execution_count": null,
   "metadata": {
    "id": "4wn6AJdh_sEP"
   },
   "outputs": [],
   "source": [
    "mean_ratings=data.pivot_table('Ratings','Title',aggfunc='mean')\n",
    "mean_ratings"
   ]
  },
  {
   "cell_type": "markdown",
   "metadata": {
    "id": "4wn6AJdh_sEP"
   },
   "source": [
    "Now, we can take the `mean_ratings` and sort it by the value of the rating itself. Using this and the `head` function, we can display the top 15 movies by average rating."
   ]
  },
  {
   "cell_type": "code",
   "execution_count": null,
   "metadata": {
    "id": "4wn6AJdh_sEP"
   },
   "outputs": [],
   "source": [
    "mean_ratings=data.pivot_table('Ratings',index=[\"Title\"],aggfunc='mean')\n",
    "top_15_mean_ratings = mean_ratings.sort_values(by = 'Ratings',ascending = False).head(15)\n",
    "top_15_mean_ratings"
   ]
  },
  {
   "cell_type": "markdown",
   "metadata": {
    "id": "4wn6AJdh_sEP"
   },
   "source": [
    "Let's adjust our original `mean_ratings` function to account for the differences in gender between reviews. This will be similar to the same code as before, except now we will provide an additional `columns` parameter which will separate the average ratings for men and women, respectively."
   ]
  },
  {
   "cell_type": "code",
   "execution_count": null,
   "metadata": {
    "id": "4wn6AJdh_sEP"
   },
   "outputs": [],
   "source": [
    "mean_ratings=data.pivot_table('Ratings',index=[\"Title\"],columns=[\"Gender\"],aggfunc='mean')\n",
    "mean_ratings"
   ]
  },
  {
   "cell_type": "markdown",
   "metadata": {
    "id": "4wn6AJdh_sEP"
   },
   "source": [
    "We can now sort the ratings as before, but instead of by `Rating`, but by the `F` and `M` gendered rating columns. Print the top rated movies by male and female reviews, respectively."
   ]
  },
  {
   "cell_type": "code",
   "execution_count": null,
   "metadata": {
    "id": "4wn6AJdh_sEP"
   },
   "outputs": [],
   "source": [
    "data=pd.merge(pd.merge(ratings_data,user_data),movies_data)\n",
    "\n",
    "mean_ratings=data.pivot_table('Ratings',index=[\"Title\"],columns=[\"Gender\"],aggfunc='mean')\n",
    "top_female_ratings = mean_ratings.sort_values(by='F', ascending=False)\n",
    "print(top_female_ratings.head(15))\n",
    "\n",
    "top_male_ratings = mean_ratings.sort_values(by='M', ascending=False)\n",
    "print(top_male_ratings.head(15))"
   ]
  },
  {
   "cell_type": "code",
   "execution_count": null,
   "metadata": {
    "id": "4wn6AJdh_sEP"
   },
   "outputs": [],
   "source": [
    "mean_ratings['diff'] = mean_ratings['M'] - mean_ratings['F']\n",
    "sorted_by_diff = mean_ratings.sort_values(by='diff')\n",
    "sorted_by_diff[:10]"
   ]
  },
  {
   "cell_type": "markdown",
   "metadata": {
    "id": "4wn6AJdh_sEP"
   },
   "source": [
    "Let's try grouping the data-frame, instead, to see how different titles compare in terms of the number of ratings. Group by `Title` and then take the top 10 items by number of reviews. We can see here the most popularly-reviewed titles."
   ]
  },
  {
   "cell_type": "code",
   "execution_count": null,
   "metadata": {
    "id": "4wn6AJdh_sEP"
   },
   "outputs": [],
   "source": [
    "ratings_by_title=data.groupby('Title').size()\n",
    "ratings_by_title.sort_values(ascending=False).head(10)"
   ]
  },
  {
   "cell_type": "markdown",
   "metadata": {
    "id": "4wn6AJdh_sEP"
   },
   "source": [
    "Similarly, we can filter our grouped data-frame to get all titles with a certain number of reviews. Filter the dataset to get all movie titles such that the number of reviews is >= 2500."
   ]
  },
  {
   "cell_type": "markdown",
   "metadata": {},
   "source": [
    "## Question 1"
   ]
  },
  {
   "cell_type": "markdown",
   "metadata": {},
   "source": [
    "Create a ratings matrix using Numpy. This matrix allows us to see the ratings for a given movie and user ID. The element at location $[i,j]$ is a rating given by user $i$ for movie $j$. Print the **shape** of the matrix produced.  \n",
    "\n",
    "Additionally, choose 3 users that have rated the movie with MovieID \"**1377**\" (Batman Returns). Print these ratings, they will be used later for comparison.\n",
    "\n",
    "\n",
    "**Notes:**\n",
    "- Do *not* use `pivot_table`.\n",
    "- A ratings matrix is *not* the same as `ratings_data` from above.\n",
    "- The ratings of movie with MovieID $i$ are stored in the ($i$-1)th column (index starts from 0)  \n",
    "- Not every user has rated every movie. Missing entries should be set to 0 for now.\n",
    "- If you're stuck, you might want to look into `np.zeros` and how to use it to create a matrix of the desired shape.\n",
    "- Every review lies between 1 and 5, and thus fits within a `uint8` datatype, which you can specify to numpy."
   ]
  },
  {
   "cell_type": "code",
   "execution_count": null,
   "metadata": {},
   "outputs": [],
   "source": [
    "# Create the matrix"
   ]
  },
  {
   "cell_type": "code",
   "execution_count": null,
   "metadata": {},
   "outputs": [],
   "source": [
    "# Print the shape"
   ]
  },
  {
   "cell_type": "code",
   "execution_count": null,
   "metadata": {},
   "outputs": [],
   "source": [
    "# Store and print ratings for Batman Returns"
   ]
  },
  {
   "cell_type": "markdown",
   "metadata": {},
   "source": [
    "## Question 2"
   ]
  },
  {
   "cell_type": "markdown",
   "metadata": {},
   "source": [
    "Normalize the ratings matrix (created in **Question 1**) using Z-score normalization. While we can't use `sklearn`'s `StandardScaler` for this step, we can do the statistical calculations ourselves to normalize the data.\n",
    "\n",
    "Before you start:\n",
    "- Your first step should be to get the average of every *column* of the ratings matrix (we want an average by title, not by user!).\n",
    "- Make sure that the mean is calculated considering only non-zero elements. If there is a movie which is rated only by 10 users, we get its mean rating using (sum of the 10 ratings)/10 and **NOT** (sum of 10 ratings)/(total number of users)\n",
    "- All of the missing values in the dataset should be replaced with the average rating for the given movie. This is a complex topic, but for our case replacing empty values with the mean will make it so that the absence of a rating doesn't affect the overall average, and it provides an \"expected value\" which is useful for computing correlations and recommendations in later steps.\n",
    "- In our matrix, 0 represents a missing rating.\n",
    "- Next, we want to subtract the average from the original ratings thus allowing us to get a mean of 0 in every *column*. It may be very close but not exactly zero because of the limited precision `float`s allow.\n",
    "- Lastly, divide this by the standard deviation of the *column*.\n",
    "\n",
    "- Not every MovieID is used, leading to zero columns. This will cause a divide by zero error when normalizing the matrix. Simply replace any NaN values in your normalized matrix with 0."
   ]
  },
  {
   "cell_type": "code",
   "execution_count": null,
   "metadata": {
    "scrolled": true
   },
   "outputs": [],
   "source": []
  },
  {
   "cell_type": "markdown",
   "metadata": {},
   "source": [
    "## Question 3"
   ]
  },
  {
   "cell_type": "markdown",
   "metadata": {
    "id": "LMTGisty8vux"
   },
   "source": [
    "We're now going to perform Singular Value Decomposition (SVD) on the normalized ratings matrix from the previous question. Perform the process using numpy, and along the way print the shapes of the $U$, $S$, and $V$ matrices you calculated."
   ]
  },
  {
   "cell_type": "code",
   "execution_count": null,
   "metadata": {
    "id": "rPQyIi5sFYXH"
   },
   "outputs": [],
   "source": [
    "# Compute the SVD of the normalised matrix"
   ]
  },
  {
   "cell_type": "code",
   "execution_count": null,
   "metadata": {
    "colab": {
     "base_uri": "https://localhost:8080/"
    },
    "id": "H5hkpi0LFhw2",
    "outputId": "d2ab6426-625b-40d3-b72a-c25a5f9882e4"
   },
   "outputs": [],
   "source": [
    "# Print the shapes"
   ]
  },
  {
   "cell_type": "markdown",
   "metadata": {},
   "source": [
    "## Question 4"
   ]
  },
  {
   "cell_type": "markdown",
   "metadata": {},
   "source": [
    "Reconstruct four rank-k rating matrix $R_k$, where $R_k = U_kS_kV_k^T$ for k = [100, 1000, 2000, 3000]. Using each of $R_k$ make predictions for the 3 users selected in Question 1, for the movie with ID 1377 (Batman Returns). Compare the original ratings with the predicted ratings."
   ]
  },
  {
   "cell_type": "code",
   "execution_count": null,
   "metadata": {},
   "outputs": [],
   "source": []
  },
  {
   "cell_type": "markdown",
   "metadata": {},
   "source": [
    "## Question 5"
   ]
  },
  {
   "cell_type": "markdown",
   "metadata": {},
   "source": [
    "### Cosine Similarity\n",
    "Cosine similarity is a metric used to measure how similar two vectors are. Mathematically, it measures the cosine of the angle between two vectors projected in a multi-dimensional space. Cosine similarity is high if the angle between two vectors is 0, and the output value ranges within $cosine(x,y) \\in [0,1]$. $0$ means there is no similarity (perpendicular), where $1$ (parallel) means that both the items are 100% similar.\n",
    "\n",
    "$$ cosine(x,y) = \\frac{x^T y}{||x|| ||y||}  $$"
   ]
  },
  {
   "cell_type": "markdown",
   "metadata": {
    "id": "mtb73iEU9MV4"
   },
   "source": [
    "**Based on the reconstruction rank-1000 rating matrix $R_{1000}$ and the cosine similarity,** sort the movies which are most similar. You will have a function `top_movie_similarity` which sorts data by its similarity to a movie with ID `movie_id` and returns the top $n$ items, and a second function `print_similar_movies` which prints the titles of said similar movies. Return the top 5 movies for the movie with ID `1377` (*Batman Returns*)\n",
    "\n",
    "Note: While finding the cosine similarity, there are a few empty columns which will have a magnitude of **zero** resulting in NaN values. These should be replaced by 0, otherwise these columns will show most similarity with the given movie. "
   ]
  },
  {
   "cell_type": "code",
   "execution_count": null,
   "metadata": {
    "id": "AuE4g481HoH2"
   },
   "outputs": [],
   "source": [
    "# Sort the movies based on cosine similarity\n",
    "def top_movie_similarity(data, movie_id, top_n=5):\n",
    "    # Movie id starts from 1\n",
    "    #Use the calculation formula above\n",
    "    pass\n",
    "def print_similar_movies(movie_titles, top_indices):\n",
    "    print('Most Similar movies: ')\n",
    "\n",
    "# Print the top 5 movies for Batman Returns\n",
    "movie_id = 1377"
   ]
  },
  {
   "cell_type": "markdown",
   "metadata": {},
   "source": [
    "## Question 6"
   ]
  },
  {
   "cell_type": "markdown",
   "metadata": {},
   "source": [
    "### Movie Recommendations\n",
    "Using the same process from Question 5, write `top_user_similarity` which sorts data by its similarity to a user with ID `user_id` and returns the top result. Then find the MovieIDs of the movies that this similar user has rated most highly, but that `user_id` has not yet seen. Find at least 5 movie recommendations for the user with ID `5954` and print their titles.\n",
    "\n",
    "Hint: To check your results, find the genres of the movies that the user likes and compare with the genres of the recommended movies."
   ]
  },
  {
   "cell_type": "code",
   "execution_count": null,
   "metadata": {},
   "outputs": [],
   "source": [
    "#Sort users based on cosine similarity\n",
    "def top_user_similarity(data, user_id):\n",
    "    pass"
   ]
  }
 ],
 "metadata": {
  "colab": {
   "name": "Assignment 2 solutions.ipynb",
   "provenance": []
  },
  "kernelspec": {
   "display_name": "Python 3 (ipykernel)",
   "language": "python",
   "name": "python3"
  },
  "language_info": {
   "codemirror_mode": {
    "name": "ipython",
    "version": 3
   },
   "file_extension": ".py",
   "mimetype": "text/x-python",
   "name": "python",
   "nbconvert_exporter": "python",
   "pygments_lexer": "ipython3",
   "version": "3.10.9"
  },
  "vscode": {
   "interpreter": {
    "hash": "e7370f93d1d0cde622a1f8e1c04877d8463912d04d973331ad4851f04de6915a"
   }
  }
 },
 "nbformat": 4,
 "nbformat_minor": 1
}
